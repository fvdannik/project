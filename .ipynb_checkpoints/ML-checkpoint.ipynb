{
 "cells": [
  {
   "cell_type": "markdown",
   "metadata": {},
   "source": [
    "1. Изменили способ загрузки данных\n",
    "2. Скорректировали гипперпараметр \"глубина дерева\" в модели Дерева решений\n",
    "3. Удалили модель Случайный лес"
   ]
  },
  {
   "cell_type": "markdown",
   "metadata": {
    "toc": true
   },
   "source": [
    "<h1>Содержание<span class=\"tocSkip\"></span></h1>\n",
    "<div class=\"toc\"><ul class=\"toc-item\"><li><span><a href=\"#Подготовка-данных\" data-toc-modified-id=\"Подготовка-данных-1\"><span class=\"toc-item-num\">1&nbsp;&nbsp;</span>Подготовка данных</a></span><ul class=\"toc-item\"><li><span><a href=\"#Выводы:\" data-toc-modified-id=\"Выводы:-1.1\"><span class=\"toc-item-num\">1.1&nbsp;&nbsp;</span><strong>Выводы:</strong></a></span></li></ul></li><li><span><a href=\"#Исследование-задачи\" data-toc-modified-id=\"Исследование-задачи-2\"><span class=\"toc-item-num\">2&nbsp;&nbsp;</span>Исследование задачи</a></span><ul class=\"toc-item\"><li><span><a href=\"#Баланс-классов\" data-toc-modified-id=\"Баланс-классов-2.1\"><span class=\"toc-item-num\">2.1&nbsp;&nbsp;</span>Баланс классов</a></span></li><li><span><a href=\"#Константная-модель\" data-toc-modified-id=\"Константная-модель-2.2\"><span class=\"toc-item-num\">2.2&nbsp;&nbsp;</span>Константная модель</a></span></li><li><span><a href=\"#'Дерево-решений'-без-учета-дисбаланса\" data-toc-modified-id=\"'Дерево-решений'-без-учета-дисбаланса-2.3\"><span class=\"toc-item-num\">2.3&nbsp;&nbsp;</span>'Дерево решений' без учета дисбаланса</a></span></li><li><span><a href=\"#&quot;Случайный-лес&quot;-без-учета-дисбаланса\" data-toc-modified-id=\"&quot;Случайный-лес&quot;-без-учета-дисбаланса-2.4\"><span class=\"toc-item-num\">2.4&nbsp;&nbsp;</span>\"Случайный лес\" без учета дисбаланса</a></span></li><li><span><a href=\"#&quot;Логистическая-регрессия&quot;-без-учета-дисбаланса\" data-toc-modified-id=\"&quot;Логистическая-регрессия&quot;-без-учета-дисбаланса-2.5\"><span class=\"toc-item-num\">2.5&nbsp;&nbsp;</span>\"Логистическая регрессия\" без учета дисбаланса</a></span></li><li><span><a href=\"#Выводы:\" data-toc-modified-id=\"Выводы:-2.6\"><span class=\"toc-item-num\">2.6&nbsp;&nbsp;</span><strong>Выводы:</strong></a></span></li></ul></li><li><span><a href=\"#Борьба-с-дисбалансом\" data-toc-modified-id=\"Борьба-с-дисбалансом-3\"><span class=\"toc-item-num\">3&nbsp;&nbsp;</span>Борьба с дисбалансом</a></span><ul class=\"toc-item\"><li><span><a href=\"#Используем-class_weight='balanced'\" data-toc-modified-id=\"Используем-class_weight='balanced'-3.1\"><span class=\"toc-item-num\">3.1&nbsp;&nbsp;</span>Используем class_weight='balanced'</a></span></li><li><span><a href=\"#Увеличение-выборки-(upsampling)\" data-toc-modified-id=\"Увеличение-выборки-(upsampling)-3.2\"><span class=\"toc-item-num\">3.2&nbsp;&nbsp;</span>Увеличение выборки (upsampling)</a></span></li><li><span><a href=\"#Выводы:\" data-toc-modified-id=\"Выводы:-3.3\"><span class=\"toc-item-num\">3.3&nbsp;&nbsp;</span><strong>Выводы:</strong></a></span></li></ul></li><li><span><a href=\"#Тестирование-модели\" data-toc-modified-id=\"Тестирование-модели-4\"><span class=\"toc-item-num\">4&nbsp;&nbsp;</span>Тестирование модели</a></span></li><li><span><a href=\"#Общий-вывод:\" data-toc-modified-id=\"Общий-вывод:-5\"><span class=\"toc-item-num\">5&nbsp;&nbsp;</span><strong>Общий вывод:</strong></a></span></li><li><span><a href=\"#Чек-лист-готовности-проекта\" data-toc-modified-id=\"Чек-лист-готовности-проекта-6\"><span class=\"toc-item-num\">6&nbsp;&nbsp;</span>Чек-лист готовности проекта</a></span></li></ul></div>"
   ]
  },
  {
   "cell_type": "markdown",
   "metadata": {},
   "source": [
    "# Отток клиентов"
   ]
  },
  {
   "cell_type": "markdown",
   "metadata": {},
   "source": [
    "Из «Бета-Банка» стали уходить клиенты. Каждый месяц. Немного, но заметно. Банковские маркетологи посчитали: сохранять текущих клиентов дешевле, чем привлекать новых.\n",
    "\n",
    "Нужно спрогнозировать, уйдёт клиент из банка в ближайшее время или нет. Вам предоставлены исторические данные о поведении клиентов и расторжении договоров с банком. \n",
    "\n",
    "Постройте модель с предельно большим значением *F1*-меры. Чтобы сдать проект успешно, нужно довести метрику до 0.59. Проверьте *F1*-меру на тестовой выборке самостоятельно.\n",
    "\n",
    "Дополнительно измеряйте *AUC-ROC*, сравнивайте её значение с *F1*-мерой.\n",
    "\n",
    "Источник данных: [https://www.kaggle.com/barelydedicated/bank-customer-churn-modeling](https://www.kaggle.com/barelydedicated/bank-customer-churn-modeling)"
   ]
  },
  {
   "cell_type": "markdown",
   "metadata": {},
   "source": [
    "Признаков:\n",
    "- RowNumber — индекс строки в данных\n",
    "- CustomerId — уникальный идентификатор клиента\n",
    "- Surname — фамилия\n",
    "- CreditScore — кредитный рейтинг\n",
    "- Geography — страна проживания\n",
    "- Gender — пол\n",
    "- Age — возраст\n",
    "- Tenure — сколько лет человек является клиентом банка\n",
    "- Balance — баланс на счёте\n",
    "- NumOfProducts — количество продуктов банка, используемых клиентом\n",
    "- HasCrCard — наличие кредитной карты\n",
    "- IsActiveMember — активность клиента\n",
    "- EstimatedSalary — предполагаемая зарплата\n",
    "\n",
    "Целевой признак:\n",
    "- Exited — факт ухода клиента"
   ]
  },
  {
   "cell_type": "markdown",
   "metadata": {},
   "source": [
    "## Подготовка данных"
   ]
  },
  {
   "cell_type": "markdown",
   "metadata": {},
   "source": [
    "Необходимо подготовить данные к анализу. Предварительно проверив таблицу на пропуски, дубликаты и выбросы. Далее закодировать категориальные признаки и масштабировать числовые. Также интересно посмотреть на корреляцию признаков между собой."
   ]
  },
  {
   "cell_type": "markdown",
   "metadata": {},
   "source": [
    "Скачаем полезные библиотеки"
   ]
  },
  {
   "cell_type": "code",
   "execution_count": 4,
   "metadata": {},
   "outputs": [],
   "source": [
    "import pandas as pd\n",
    "import matplotlib.pyplot as plt\n",
    "from sklearn.model_selection import train_test_split\n",
    "from sklearn.tree import DecisionTreeClassifier\n",
    "from sklearn.ensemble import RandomForestClassifier\n",
    "from sklearn.linear_model import LogisticRegression\n",
    "from sklearn.preprocessing import OneHotEncoder\n",
    "from sklearn.compose import make_column_transformer\n",
    "from sklearn.dummy import DummyClassifier\n",
    "from sklearn.preprocessing import StandardScaler \n",
    "from sklearn.metrics import roc_curve \n",
    "from sklearn.metrics import f1_score\n",
    "from sklearn.metrics import roc_auc_score\n",
    "from sklearn.utils import shuffle\n",
    "from sklearn.model_selection import cross_val_score\n",
    "import os"
   ]
  },
  {
   "cell_type": "markdown",
   "metadata": {},
   "source": [
    "Сохраним таблицу в переменную data"
   ]
  },
  {
   "cell_type": "code",
   "execution_count": 5,
   "metadata": {},
   "outputs": [],
   "source": [
    "pth1 = 'C:/Users/USER/Documents/project/Churn.csv'\n",
    "pth2 = '/datasets/Churn.csv'\n",
    "    \n",
    "if os.path.exists(pth1):\n",
    "    data = pd.read_csv(pth1)\n",
    "elif os.path.exists(pth2):\n",
    "    data = pd.read_csv(pth2)\n",
    "else:\n",
    "    print('Something is wrong')"
   ]
  },
  {
   "cell_type": "markdown",
   "metadata": {},
   "source": [
    "data = pd.read_csv('/datasets/Churn.csv')"
   ]
  },
  {
   "cell_type": "markdown",
   "metadata": {},
   "source": [
    "Познакомимся с данными"
   ]
  },
  {
   "cell_type": "code",
   "execution_count": 6,
   "metadata": {
    "scrolled": false
   },
   "outputs": [
    {
     "name": "stdout",
     "output_type": "stream",
     "text": [
      "<class 'pandas.core.frame.DataFrame'>\n",
      "RangeIndex: 10000 entries, 0 to 9999\n",
      "Data columns (total 14 columns):\n",
      " #   Column           Non-Null Count  Dtype  \n",
      "---  ------           --------------  -----  \n",
      " 0   RowNumber        10000 non-null  int64  \n",
      " 1   CustomerId       10000 non-null  int64  \n",
      " 2   Surname          10000 non-null  object \n",
      " 3   CreditScore      10000 non-null  int64  \n",
      " 4   Geography        10000 non-null  object \n",
      " 5   Gender           10000 non-null  object \n",
      " 6   Age              10000 non-null  int64  \n",
      " 7   Tenure           9091 non-null   float64\n",
      " 8   Balance          10000 non-null  float64\n",
      " 9   NumOfProducts    10000 non-null  int64  \n",
      " 10  HasCrCard        10000 non-null  int64  \n",
      " 11  IsActiveMember   10000 non-null  int64  \n",
      " 12  EstimatedSalary  10000 non-null  float64\n",
      " 13  Exited           10000 non-null  int64  \n",
      "dtypes: float64(3), int64(8), object(3)\n",
      "memory usage: 1.1+ MB\n"
     ]
    }
   ],
   "source": [
    "data.info()"
   ]
  },
  {
   "cell_type": "markdown",
   "metadata": {},
   "source": [
    "Предварительно столбец Tenure (срок обслуживания клиента) имеет пропуски. Убедимся в этом ниже."
   ]
  },
  {
   "cell_type": "code",
   "execution_count": 7,
   "metadata": {
    "scrolled": false
   },
   "outputs": [
    {
     "data": {
      "text/plain": [
       "RowNumber            0\n",
       "CustomerId           0\n",
       "Surname              0\n",
       "CreditScore          0\n",
       "Geography            0\n",
       "Gender               0\n",
       "Age                  0\n",
       "Tenure             909\n",
       "Balance              0\n",
       "NumOfProducts        0\n",
       "HasCrCard            0\n",
       "IsActiveMember       0\n",
       "EstimatedSalary      0\n",
       "Exited               0\n",
       "dtype: int64"
      ]
     },
     "execution_count": 7,
     "metadata": {},
     "output_type": "execute_result"
    }
   ],
   "source": [
    "data.isna().sum()"
   ]
  },
  {
   "cell_type": "code",
   "execution_count": 8,
   "metadata": {
    "scrolled": true
   },
   "outputs": [
    {
     "data": {
      "text/plain": [
       "array([ 2.,  1.,  8.,  7.,  4.,  6.,  3., 10.,  5.,  9.,  0., nan])"
      ]
     },
     "execution_count": 8,
     "metadata": {},
     "output_type": "execute_result"
    }
   ],
   "source": [
    "data.Tenure.unique()"
   ]
  },
  {
   "cell_type": "markdown",
   "metadata": {},
   "source": [
    "В столбце Tenure 909 пропусков (9% строк). Они могут помешать нам во время обучения модели. \n",
    "\n",
    "9% это слишком много чтобы удалять строки с пропусками. Заполним их медианой категорий целевого признака."
   ]
  },
  {
   "cell_type": "code",
   "execution_count": 9,
   "metadata": {},
   "outputs": [
    {
     "data": {
      "text/plain": [
       "0"
      ]
     },
     "execution_count": 9,
     "metadata": {},
     "output_type": "execute_result"
    }
   ],
   "source": [
    "# циклом переберем все уникальные значения целевого признака (0 и 1)\n",
    "for i in data['Exited'].unique():\n",
    "    # отфильтруем пропуски в столбце Tenure по целевому признаку\n",
    "    # и присвоим этим пропускам медиану срока обслуживания\n",
    "    data.loc[(data['Exited'] == i) & \n",
    "             (data['Tenure'].isna()), 'Tenure'] = \\\n",
    "    data.loc[data['Exited'] == i, 'Tenure'].median()\n",
    "    \n",
    "# проверим наличие пропусков в столбце Tenure\n",
    "data['Tenure'].isna().sum()"
   ]
  },
  {
   "cell_type": "markdown",
   "metadata": {},
   "source": [
    "Проверим данные на дубликаты."
   ]
  },
  {
   "cell_type": "code",
   "execution_count": 10,
   "metadata": {
    "scrolled": true
   },
   "outputs": [
    {
     "data": {
      "text/plain": [
       "0"
      ]
     },
     "execution_count": 10,
     "metadata": {},
     "output_type": "execute_result"
    }
   ],
   "source": [
    "data.duplicated().sum()"
   ]
  },
  {
   "cell_type": "markdown",
   "metadata": {},
   "source": [
    "Посмотрим на первые 5 строк таблицы"
   ]
  },
  {
   "cell_type": "code",
   "execution_count": 11,
   "metadata": {
    "scrolled": true
   },
   "outputs": [
    {
     "data": {
      "text/html": [
       "<div>\n",
       "<style scoped>\n",
       "    .dataframe tbody tr th:only-of-type {\n",
       "        vertical-align: middle;\n",
       "    }\n",
       "\n",
       "    .dataframe tbody tr th {\n",
       "        vertical-align: top;\n",
       "    }\n",
       "\n",
       "    .dataframe thead th {\n",
       "        text-align: right;\n",
       "    }\n",
       "</style>\n",
       "<table border=\"1\" class=\"dataframe\">\n",
       "  <thead>\n",
       "    <tr style=\"text-align: right;\">\n",
       "      <th></th>\n",
       "      <th>RowNumber</th>\n",
       "      <th>CustomerId</th>\n",
       "      <th>Surname</th>\n",
       "      <th>CreditScore</th>\n",
       "      <th>Geography</th>\n",
       "      <th>Gender</th>\n",
       "      <th>Age</th>\n",
       "      <th>Tenure</th>\n",
       "      <th>Balance</th>\n",
       "      <th>NumOfProducts</th>\n",
       "      <th>HasCrCard</th>\n",
       "      <th>IsActiveMember</th>\n",
       "      <th>EstimatedSalary</th>\n",
       "      <th>Exited</th>\n",
       "    </tr>\n",
       "  </thead>\n",
       "  <tbody>\n",
       "    <tr>\n",
       "      <th>0</th>\n",
       "      <td>1</td>\n",
       "      <td>15634602</td>\n",
       "      <td>Hargrave</td>\n",
       "      <td>619</td>\n",
       "      <td>France</td>\n",
       "      <td>Female</td>\n",
       "      <td>42</td>\n",
       "      <td>2.0</td>\n",
       "      <td>0.00</td>\n",
       "      <td>1</td>\n",
       "      <td>1</td>\n",
       "      <td>1</td>\n",
       "      <td>101348.88</td>\n",
       "      <td>1</td>\n",
       "    </tr>\n",
       "    <tr>\n",
       "      <th>1</th>\n",
       "      <td>2</td>\n",
       "      <td>15647311</td>\n",
       "      <td>Hill</td>\n",
       "      <td>608</td>\n",
       "      <td>Spain</td>\n",
       "      <td>Female</td>\n",
       "      <td>41</td>\n",
       "      <td>1.0</td>\n",
       "      <td>83807.86</td>\n",
       "      <td>1</td>\n",
       "      <td>0</td>\n",
       "      <td>1</td>\n",
       "      <td>112542.58</td>\n",
       "      <td>0</td>\n",
       "    </tr>\n",
       "    <tr>\n",
       "      <th>2</th>\n",
       "      <td>3</td>\n",
       "      <td>15619304</td>\n",
       "      <td>Onio</td>\n",
       "      <td>502</td>\n",
       "      <td>France</td>\n",
       "      <td>Female</td>\n",
       "      <td>42</td>\n",
       "      <td>8.0</td>\n",
       "      <td>159660.80</td>\n",
       "      <td>3</td>\n",
       "      <td>1</td>\n",
       "      <td>0</td>\n",
       "      <td>113931.57</td>\n",
       "      <td>1</td>\n",
       "    </tr>\n",
       "    <tr>\n",
       "      <th>3</th>\n",
       "      <td>4</td>\n",
       "      <td>15701354</td>\n",
       "      <td>Boni</td>\n",
       "      <td>699</td>\n",
       "      <td>France</td>\n",
       "      <td>Female</td>\n",
       "      <td>39</td>\n",
       "      <td>1.0</td>\n",
       "      <td>0.00</td>\n",
       "      <td>2</td>\n",
       "      <td>0</td>\n",
       "      <td>0</td>\n",
       "      <td>93826.63</td>\n",
       "      <td>0</td>\n",
       "    </tr>\n",
       "    <tr>\n",
       "      <th>4</th>\n",
       "      <td>5</td>\n",
       "      <td>15737888</td>\n",
       "      <td>Mitchell</td>\n",
       "      <td>850</td>\n",
       "      <td>Spain</td>\n",
       "      <td>Female</td>\n",
       "      <td>43</td>\n",
       "      <td>2.0</td>\n",
       "      <td>125510.82</td>\n",
       "      <td>1</td>\n",
       "      <td>1</td>\n",
       "      <td>1</td>\n",
       "      <td>79084.10</td>\n",
       "      <td>0</td>\n",
       "    </tr>\n",
       "  </tbody>\n",
       "</table>\n",
       "</div>"
      ],
      "text/plain": [
       "   RowNumber  CustomerId   Surname  CreditScore Geography  Gender  Age  \\\n",
       "0          1    15634602  Hargrave          619    France  Female   42   \n",
       "1          2    15647311      Hill          608     Spain  Female   41   \n",
       "2          3    15619304      Onio          502    France  Female   42   \n",
       "3          4    15701354      Boni          699    France  Female   39   \n",
       "4          5    15737888  Mitchell          850     Spain  Female   43   \n",
       "\n",
       "   Tenure    Balance  NumOfProducts  HasCrCard  IsActiveMember  \\\n",
       "0     2.0       0.00              1          1               1   \n",
       "1     1.0   83807.86              1          0               1   \n",
       "2     8.0  159660.80              3          1               0   \n",
       "3     1.0       0.00              2          0               0   \n",
       "4     2.0  125510.82              1          1               1   \n",
       "\n",
       "   EstimatedSalary  Exited  \n",
       "0        101348.88       1  \n",
       "1        112542.58       0  \n",
       "2        113931.57       1  \n",
       "3         93826.63       0  \n",
       "4         79084.10       0  "
      ]
     },
     "execution_count": 11,
     "metadata": {},
     "output_type": "execute_result"
    }
   ],
   "source": [
    "data.head()"
   ]
  },
  {
   "cell_type": "markdown",
   "metadata": {},
   "source": [
    "Как видно в таблице есть как категориальные признаки так и численные. \n",
    "\n",
    "Понадобится закодировать методом OHE категориальные признаки:  \n",
    "- Geography — страна проживания\n",
    "- Gender — пол\n",
    "\n",
    "Столбцы с фамилией, индексом строки и уникальным номером клиента в данном случае не играют роль для обучения. Так что разделим таблицу создав справочник с ними (clnt_dict). Соединить их потом сможем используя ключ RowNumber.\n",
    "\n",
    "После чего масштабируем числовые данные."
   ]
  },
  {
   "cell_type": "markdown",
   "metadata": {},
   "source": [
    "Разделим таблицу выделив справочник с RowNumber, CustomerId и Surname."
   ]
  },
  {
   "cell_type": "markdown",
   "metadata": {},
   "source": [
    "Создадим справочник с RowNumber, CustomerId и Surname"
   ]
  },
  {
   "cell_type": "code",
   "execution_count": 12,
   "metadata": {},
   "outputs": [],
   "source": [
    "clnt_dict = data[['RowNumber', 'CustomerId', 'Surname']]"
   ]
  },
  {
   "cell_type": "markdown",
   "metadata": {},
   "source": [
    "Проверим что получилось. Заодно удалим дуликаты, если они есть."
   ]
  },
  {
   "cell_type": "code",
   "execution_count": 13,
   "metadata": {
    "scrolled": false
   },
   "outputs": [
    {
     "name": "stdout",
     "output_type": "stream",
     "text": [
      "<class 'pandas.core.frame.DataFrame'>\n",
      "RangeIndex: 10000 entries, 0 to 9999\n",
      "Data columns (total 3 columns):\n",
      " #   Column      Non-Null Count  Dtype \n",
      "---  ------      --------------  ----- \n",
      " 0   RowNumber   10000 non-null  int64 \n",
      " 1   CustomerId  10000 non-null  int64 \n",
      " 2   Surname     10000 non-null  object\n",
      "dtypes: int64(2), object(1)\n",
      "memory usage: 234.5+ KB\n"
     ]
    }
   ],
   "source": [
    "clnt_dict = clnt_dict.drop_duplicates().reset_index(drop=True)\n",
    "clnt_dict.info()"
   ]
  },
  {
   "cell_type": "markdown",
   "metadata": {},
   "source": [
    "Теперь сохраним основную таблицу в новую переменную."
   ]
  },
  {
   "cell_type": "code",
   "execution_count": 14,
   "metadata": {},
   "outputs": [],
   "source": [
    "clnt_log = data.drop(['RowNumber', 'CustomerId', 'Surname'], axis=1)"
   ]
  },
  {
   "cell_type": "markdown",
   "metadata": {},
   "source": [
    "Проверим что получилось."
   ]
  },
  {
   "cell_type": "code",
   "execution_count": 15,
   "metadata": {},
   "outputs": [
    {
     "name": "stdout",
     "output_type": "stream",
     "text": [
      "<class 'pandas.core.frame.DataFrame'>\n",
      "RangeIndex: 10000 entries, 0 to 9999\n",
      "Data columns (total 11 columns):\n",
      " #   Column           Non-Null Count  Dtype  \n",
      "---  ------           --------------  -----  \n",
      " 0   CreditScore      10000 non-null  int64  \n",
      " 1   Geography        10000 non-null  object \n",
      " 2   Gender           10000 non-null  object \n",
      " 3   Age              10000 non-null  int64  \n",
      " 4   Tenure           10000 non-null  float64\n",
      " 5   Balance          10000 non-null  float64\n",
      " 6   NumOfProducts    10000 non-null  int64  \n",
      " 7   HasCrCard        10000 non-null  int64  \n",
      " 8   IsActiveMember   10000 non-null  int64  \n",
      " 9   EstimatedSalary  10000 non-null  float64\n",
      " 10  Exited           10000 non-null  int64  \n",
      "dtypes: float64(3), int64(6), object(2)\n",
      "memory usage: 859.5+ KB\n"
     ]
    }
   ],
   "source": [
    "clnt_log.info()"
   ]
  },
  {
   "cell_type": "markdown",
   "metadata": {},
   "source": [
    "Узнаем какие уникальные значения в категориальных столбцах."
   ]
  },
  {
   "cell_type": "code",
   "execution_count": 16,
   "metadata": {},
   "outputs": [
    {
     "data": {
      "text/plain": [
       "array(['France', 'Spain', 'Germany'], dtype=object)"
      ]
     },
     "execution_count": 16,
     "metadata": {},
     "output_type": "execute_result"
    }
   ],
   "source": [
    "clnt_log.Geography.unique()"
   ]
  },
  {
   "cell_type": "code",
   "execution_count": 17,
   "metadata": {
    "scrolled": true
   },
   "outputs": [
    {
     "data": {
      "text/plain": [
       "array(['Female', 'Male'], dtype=object)"
      ]
     },
     "execution_count": 17,
     "metadata": {},
     "output_type": "execute_result"
    }
   ],
   "source": [
    "clnt_log.Gender.unique()"
   ]
  },
  {
   "cell_type": "markdown",
   "metadata": {},
   "source": [
    "Неявных дубликатов в них нет."
   ]
  },
  {
   "cell_type": "markdown",
   "metadata": {},
   "source": [
    "Проверим взаимосвязь параметров используя корреляцию Пирсона."
   ]
  },
  {
   "cell_type": "code",
   "execution_count": 18,
   "metadata": {
    "scrolled": true
   },
   "outputs": [
    {
     "data": {
      "text/html": [
       "<div>\n",
       "<style scoped>\n",
       "    .dataframe tbody tr th:only-of-type {\n",
       "        vertical-align: middle;\n",
       "    }\n",
       "\n",
       "    .dataframe tbody tr th {\n",
       "        vertical-align: top;\n",
       "    }\n",
       "\n",
       "    .dataframe thead th {\n",
       "        text-align: right;\n",
       "    }\n",
       "</style>\n",
       "<table border=\"1\" class=\"dataframe\">\n",
       "  <thead>\n",
       "    <tr style=\"text-align: right;\">\n",
       "      <th></th>\n",
       "      <th>CreditScore</th>\n",
       "      <th>Age</th>\n",
       "      <th>Tenure</th>\n",
       "      <th>Balance</th>\n",
       "      <th>NumOfProducts</th>\n",
       "      <th>HasCrCard</th>\n",
       "      <th>IsActiveMember</th>\n",
       "      <th>EstimatedSalary</th>\n",
       "      <th>Exited</th>\n",
       "    </tr>\n",
       "  </thead>\n",
       "  <tbody>\n",
       "    <tr>\n",
       "      <th>CreditScore</th>\n",
       "      <td>1.000000</td>\n",
       "      <td>-0.003965</td>\n",
       "      <td>-0.000060</td>\n",
       "      <td>0.006268</td>\n",
       "      <td>0.012238</td>\n",
       "      <td>-0.005458</td>\n",
       "      <td>0.025651</td>\n",
       "      <td>-0.001384</td>\n",
       "      <td>-0.027094</td>\n",
       "    </tr>\n",
       "    <tr>\n",
       "      <th>Age</th>\n",
       "      <td>-0.003965</td>\n",
       "      <td>1.000000</td>\n",
       "      <td>-0.012606</td>\n",
       "      <td>0.028308</td>\n",
       "      <td>-0.030680</td>\n",
       "      <td>-0.011721</td>\n",
       "      <td>0.085472</td>\n",
       "      <td>-0.007201</td>\n",
       "      <td>0.285323</td>\n",
       "    </tr>\n",
       "    <tr>\n",
       "      <th>Tenure</th>\n",
       "      <td>-0.000060</td>\n",
       "      <td>-0.012606</td>\n",
       "      <td>1.000000</td>\n",
       "      <td>-0.007535</td>\n",
       "      <td>0.011409</td>\n",
       "      <td>0.025979</td>\n",
       "      <td>-0.030681</td>\n",
       "      <td>0.010049</td>\n",
       "      <td>-0.015989</td>\n",
       "    </tr>\n",
       "    <tr>\n",
       "      <th>Balance</th>\n",
       "      <td>0.006268</td>\n",
       "      <td>0.028308</td>\n",
       "      <td>-0.007535</td>\n",
       "      <td>1.000000</td>\n",
       "      <td>-0.304180</td>\n",
       "      <td>-0.014858</td>\n",
       "      <td>-0.010084</td>\n",
       "      <td>0.012797</td>\n",
       "      <td>0.118533</td>\n",
       "    </tr>\n",
       "    <tr>\n",
       "      <th>NumOfProducts</th>\n",
       "      <td>0.012238</td>\n",
       "      <td>-0.030680</td>\n",
       "      <td>0.011409</td>\n",
       "      <td>-0.304180</td>\n",
       "      <td>1.000000</td>\n",
       "      <td>0.003183</td>\n",
       "      <td>0.009612</td>\n",
       "      <td>0.014204</td>\n",
       "      <td>-0.047820</td>\n",
       "    </tr>\n",
       "    <tr>\n",
       "      <th>HasCrCard</th>\n",
       "      <td>-0.005458</td>\n",
       "      <td>-0.011721</td>\n",
       "      <td>0.025979</td>\n",
       "      <td>-0.014858</td>\n",
       "      <td>0.003183</td>\n",
       "      <td>1.000000</td>\n",
       "      <td>-0.011866</td>\n",
       "      <td>-0.009933</td>\n",
       "      <td>-0.007138</td>\n",
       "    </tr>\n",
       "    <tr>\n",
       "      <th>IsActiveMember</th>\n",
       "      <td>0.025651</td>\n",
       "      <td>0.085472</td>\n",
       "      <td>-0.030681</td>\n",
       "      <td>-0.010084</td>\n",
       "      <td>0.009612</td>\n",
       "      <td>-0.011866</td>\n",
       "      <td>1.000000</td>\n",
       "      <td>-0.011421</td>\n",
       "      <td>-0.156128</td>\n",
       "    </tr>\n",
       "    <tr>\n",
       "      <th>EstimatedSalary</th>\n",
       "      <td>-0.001384</td>\n",
       "      <td>-0.007201</td>\n",
       "      <td>0.010049</td>\n",
       "      <td>0.012797</td>\n",
       "      <td>0.014204</td>\n",
       "      <td>-0.009933</td>\n",
       "      <td>-0.011421</td>\n",
       "      <td>1.000000</td>\n",
       "      <td>0.012097</td>\n",
       "    </tr>\n",
       "    <tr>\n",
       "      <th>Exited</th>\n",
       "      <td>-0.027094</td>\n",
       "      <td>0.285323</td>\n",
       "      <td>-0.015989</td>\n",
       "      <td>0.118533</td>\n",
       "      <td>-0.047820</td>\n",
       "      <td>-0.007138</td>\n",
       "      <td>-0.156128</td>\n",
       "      <td>0.012097</td>\n",
       "      <td>1.000000</td>\n",
       "    </tr>\n",
       "  </tbody>\n",
       "</table>\n",
       "</div>"
      ],
      "text/plain": [
       "                 CreditScore       Age    Tenure   Balance  NumOfProducts  \\\n",
       "CreditScore         1.000000 -0.003965 -0.000060  0.006268       0.012238   \n",
       "Age                -0.003965  1.000000 -0.012606  0.028308      -0.030680   \n",
       "Tenure             -0.000060 -0.012606  1.000000 -0.007535       0.011409   \n",
       "Balance             0.006268  0.028308 -0.007535  1.000000      -0.304180   \n",
       "NumOfProducts       0.012238 -0.030680  0.011409 -0.304180       1.000000   \n",
       "HasCrCard          -0.005458 -0.011721  0.025979 -0.014858       0.003183   \n",
       "IsActiveMember      0.025651  0.085472 -0.030681 -0.010084       0.009612   \n",
       "EstimatedSalary    -0.001384 -0.007201  0.010049  0.012797       0.014204   \n",
       "Exited             -0.027094  0.285323 -0.015989  0.118533      -0.047820   \n",
       "\n",
       "                 HasCrCard  IsActiveMember  EstimatedSalary    Exited  \n",
       "CreditScore      -0.005458        0.025651        -0.001384 -0.027094  \n",
       "Age              -0.011721        0.085472        -0.007201  0.285323  \n",
       "Tenure            0.025979       -0.030681         0.010049 -0.015989  \n",
       "Balance          -0.014858       -0.010084         0.012797  0.118533  \n",
       "NumOfProducts     0.003183        0.009612         0.014204 -0.047820  \n",
       "HasCrCard         1.000000       -0.011866        -0.009933 -0.007138  \n",
       "IsActiveMember   -0.011866        1.000000        -0.011421 -0.156128  \n",
       "EstimatedSalary  -0.009933       -0.011421         1.000000  0.012097  \n",
       "Exited           -0.007138       -0.156128         0.012097  1.000000  "
      ]
     },
     "execution_count": 18,
     "metadata": {},
     "output_type": "execute_result"
    }
   ],
   "source": [
    "clnt_log.corr()"
   ]
  },
  {
   "cell_type": "markdown",
   "metadata": {},
   "source": [
    "Не наблюдается корреляция выше порога 0.6, что хорошо. Следовательно мультиколлинеарность признаков также нет.\n",
    "\n",
    "Возраст, баланс и активность клиентов (категориальный признак) имеют большую корреляцию с целевым признаком (категориальный признак) чем остальные."
   ]
  },
  {
   "cell_type": "markdown",
   "metadata": {},
   "source": [
    "Построим гистограммы столбцов чтобы посмотреть на распределения числовых признаков."
   ]
  },
  {
   "cell_type": "code",
   "execution_count": 19,
   "metadata": {
    "scrolled": true
   },
   "outputs": [
    {
     "data": {
      "image/png": "[encoded data removed]",
      "text/plain": [
       "<Figure size 640x480 with 1 Axes>"
      ]
     },
     "metadata": {},
     "output_type": "display_data"
    }
   ],
   "source": [
    "plt.hist(x=clnt_log.CreditScore)\n",
    "plt.title('Распределение кредитного рейтинга клиентов')\n",
    "plt.xlabel('Рейтинг клиентов')\n",
    "plt.ylabel('Частота')\n",
    "plt.show()"
   ]
  },
  {
   "cell_type": "markdown",
   "metadata": {},
   "source": [
    "Распределение кредитного рейтинга похоже на нормальное. Едем дальше."
   ]
  },
  {
   "cell_type": "code",
   "execution_count": 20,
   "metadata": {
    "scrolled": false
   },
   "outputs": [
    {
     "data": {
      "image/png": "[encoded data removed]",
      "text/plain": [
       "<Figure size 640x480 with 1 Axes>"
      ]
     },
     "metadata": {},
     "output_type": "display_data"
    }
   ],
   "source": [
    "plt.hist(x=clnt_log.Age)\n",
    "plt.title('Распределение возраста клиентов')\n",
    "plt.xlabel('Возраст клиентов')\n",
    "plt.ylabel('Частота')\n",
    "plt.show()"
   ]
  },
  {
   "cell_type": "markdown",
   "metadata": {},
   "source": [
    "Похоже что возраст тоже распределен нормально."
   ]
  },
  {
   "cell_type": "code",
   "execution_count": 21,
   "metadata": {
    "scrolled": false
   },
   "outputs": [
    {
     "data": {
      "image/png": "[encoded data removed]",
      "text/plain": [
       "<Figure size 640x480 with 1 Axes>"
      ]
     },
     "metadata": {},
     "output_type": "display_data"
    }
   ],
   "source": [
    "plt.hist(x=clnt_log.Tenure)\n",
    "plt.title('Распределение срока обслуживания клиентов')\n",
    "plt.xlabel('Срок обслуживания клиентов')\n",
    "plt.ylabel('Частота')\n",
    "plt.show()"
   ]
  },
  {
   "cell_type": "markdown",
   "metadata": {},
   "source": [
    "Срок обслуживания выбивается. Тут не наблюдается нормального распределения. Кол-во клиентов со сроком обслуживания менее года меньше всех (примерно 4%), а клиентов, обслуживающихся в банке 10 лет больше всех (примерно 14%)."
   ]
  },
  {
   "cell_type": "code",
   "execution_count": 22,
   "metadata": {
    "scrolled": false
   },
   "outputs": [
    {
     "data": {
      "image/png": "[encoded data removed]",
      "text/plain": [
       "<Figure size 640x480 with 1 Axes>"
      ]
     },
     "metadata": {},
     "output_type": "display_data"
    }
   ],
   "source": [
    "plt.hist(x=clnt_log.Balance)\n",
    "plt.title('Распределение баланса на счете клиентов')\n",
    "plt.xlabel('Баланс на счете клиентов')\n",
    "plt.ylabel('Частота')\n",
    "plt.show()"
   ]
  },
  {
   "cell_type": "markdown",
   "metadata": {},
   "source": [
    "Преобладающее большинство (36%) клиентов имеют нулевой баланс на счетах. Вероятно они также и дорманты, проверим. \n",
    "\n",
    "Не учитывая клиентов с нулевым балансом распределение похоже на нормальное."
   ]
  },
  {
   "cell_type": "markdown",
   "metadata": {},
   "source": [
    "Посмотрим сколько дормантов с нулевыми остатками на счетах не ушли из банка."
   ]
  },
  {
   "cell_type": "code",
   "execution_count": 23,
   "metadata": {},
   "outputs": [
    {
     "data": {
      "text/plain": [
       "1424"
      ]
     },
     "execution_count": 23,
     "metadata": {},
     "output_type": "execute_result"
    }
   ],
   "source": [
    "clnt_log.loc[(clnt_log['Balance'] == 0) & (clnt_log['IsActiveMember'] == 0) & (clnt_log['Exited'] == 0)].shape[0]"
   ]
  },
  {
   "cell_type": "markdown",
   "metadata": {},
   "source": [
    "14% спящих клиентов с нулевыми остатками, которые не покинули банк. Об этом нужно сказать бизнесу, так как модель может ориентироваться на таких не приносящих прибыль клиентов. В рамках текущей задачи учитывать этот факт не будем."
   ]
  },
  {
   "cell_type": "code",
   "execution_count": 24,
   "metadata": {
    "scrolled": false
   },
   "outputs": [
    {
     "data": {
      "image/png": "[encoded data removed]",
      "text/plain": [
       "<Figure size 640x480 with 1 Axes>"
      ]
     },
     "metadata": {},
     "output_type": "display_data"
    }
   ],
   "source": [
    "plt.hist(x=clnt_log.NumOfProducts)\n",
    "plt.title('Распределение количества продуктов клиентов')\n",
    "plt.xlabel('Кол-во продуктов клиентов')\n",
    "plt.ylabel('Частота')\n",
    "plt.show()"
   ]
  },
  {
   "cell_type": "markdown",
   "metadata": {},
   "source": [
    "У большинства клиентов открыты по одному или двум продуктам. Распределение количества продуктов не похоже на нормальное."
   ]
  },
  {
   "cell_type": "code",
   "execution_count": 25,
   "metadata": {
    "scrolled": true
   },
   "outputs": [
    {
     "data": {
      "image/png": "[encoded data removed]",
      "text/plain": [
       "<Figure size 640x480 with 1 Axes>"
      ]
     },
     "metadata": {},
     "output_type": "display_data"
    }
   ],
   "source": [
    "plt.hist(x=clnt_log.EstimatedSalary)\n",
    "plt.title('Распределение предполагаемой ЗП клиентов')\n",
    "plt.xlabel('Предполагаемая ЗП клиентов')\n",
    "plt.ylabel('Частота')\n",
    "plt.show()"
   ]
  },
  {
   "cell_type": "markdown",
   "metadata": {},
   "source": [
    "Распределение ЗП не похоже на нормальное. Клиенты получают от 0 до 200 000 руб. по количеству в равной степени. "
   ]
  },
  {
   "cell_type": "markdown",
   "metadata": {},
   "source": [
    "Проверим баланс классов целевого признака"
   ]
  },
  {
   "cell_type": "code",
   "execution_count": 26,
   "metadata": {
    "scrolled": true
   },
   "outputs": [
    {
     "data": {
      "text/plain": [
       "0    0.7963\n",
       "1    0.2037\n",
       "Name: Exited, dtype: float64"
      ]
     },
     "execution_count": 26,
     "metadata": {},
     "output_type": "execute_result"
    }
   ],
   "source": [
    "clnt_log.Exited.value_counts(normalize=True)"
   ]
  },
  {
   "cell_type": "markdown",
   "metadata": {},
   "source": [
    "Покинувших банк клиентов сильно ниже (20%)"
   ]
  },
  {
   "cell_type": "markdown",
   "metadata": {},
   "source": [
    "Теперь закодируем методом OHE категориальные признаки:  \n",
    "- Geography — страна проживания\n",
    "- Gender — пол"
   ]
  },
  {
   "cell_type": "markdown",
   "metadata": {},
   "source": [
    "clnt_log_ohe = pd.get_dummies(clnt_log, drop_first=True) # уберем первый столбец чтобы не попасть в дамми-ловушку"
   ]
  },
  {
   "cell_type": "markdown",
   "metadata": {},
   "source": [
    "Теперь поделим выборку на тренировочную, валидационную и тестовую. Затем масштабируем числовые признаки"
   ]
  },
  {
   "cell_type": "code",
   "execution_count": 27,
   "metadata": {},
   "outputs": [],
   "source": [
    "# создадим переменные с целевым признаком и со всеми остальными\n",
    "target = clnt_log['Exited']\n",
    "features = clnt_log.drop('Exited', axis=1)\n",
    "\n",
    "# теперь выделим 60% данных для обучения\n",
    "features_train, features_valid, target_train, target_valid = train_test_split(\n",
    "    features, target, test_size=0.40, random_state=1357, stratify=target)\n",
    "\n",
    "# аналогично разделим тестовые данные на 2 равных части\n",
    "features_test, features_val, target_test, target_val = train_test_split(\n",
    "    features_valid, target_valid, test_size=0.50, random_state=1357, stratify=target_valid)"
   ]
  },
  {
   "cell_type": "markdown",
   "metadata": {},
   "source": [
    "Проверим как мы поделили выборку "
   ]
  },
  {
   "cell_type": "code",
   "execution_count": 28,
   "metadata": {},
   "outputs": [
    {
     "data": {
      "text/plain": [
       "(6000, 10)"
      ]
     },
     "metadata": {},
     "output_type": "display_data"
    },
    {
     "data": {
      "text/plain": [
       "(4000, 10)"
      ]
     },
     "execution_count": 28,
     "metadata": {},
     "output_type": "execute_result"
    }
   ],
   "source": [
    "display(features_train.shape)\n",
    "features_valid.shape"
   ]
  },
  {
   "cell_type": "markdown",
   "metadata": {},
   "source": [
    "Как и планировалось 60% тренировочных"
   ]
  },
  {
   "cell_type": "code",
   "execution_count": 29,
   "metadata": {
    "scrolled": true
   },
   "outputs": [
    {
     "data": {
      "text/plain": [
       "(2000, 10)"
      ]
     },
     "metadata": {},
     "output_type": "display_data"
    },
    {
     "data": {
      "text/plain": [
       "(2000, 10)"
      ]
     },
     "execution_count": 29,
     "metadata": {},
     "output_type": "execute_result"
    }
   ],
   "source": [
    "display(features_test.shape)\n",
    "features_val.shape"
   ]
  },
  {
   "cell_type": "markdown",
   "metadata": {},
   "source": [
    "Валидационную и тестовую выборку поделили поровну"
   ]
  },
  {
   "cell_type": "markdown",
   "metadata": {},
   "source": [
    "Закодируем методом OHE категориальные признаки тренировочной, валидационной и тестовой выыборок по отдельности:  \n",
    "- Geography — страна проживания\n",
    "- Gender — пол"
   ]
  },
  {
   "cell_type": "code",
   "execution_count": 30,
   "metadata": {},
   "outputs": [
    {
     "name": "stderr",
     "output_type": "stream",
     "text": [
      "C:\\Users\\USER\\anaconda3\\lib\\site-packages\\sklearn\\utils\\deprecation.py:87: FutureWarning: Function get_feature_names is deprecated; get_feature_names is deprecated in 1.0 and will be removed in 1.2. Please use get_feature_names_out instead.\n",
      "  warnings.warn(msg, category=FutureWarning)\n",
      "C:\\Users\\USER\\anaconda3\\lib\\site-packages\\sklearn\\utils\\deprecation.py:87: FutureWarning: Function get_feature_names is deprecated; get_feature_names is deprecated in 1.0 and will be removed in 1.2. Please use get_feature_names_out instead.\n",
      "  warnings.warn(msg, category=FutureWarning)\n",
      "C:\\Users\\USER\\anaconda3\\lib\\site-packages\\sklearn\\utils\\deprecation.py:87: FutureWarning: Function get_feature_names is deprecated; get_feature_names is deprecated in 1.0 and will be removed in 1.2. Please use get_feature_names_out instead.\n",
      "  warnings.warn(msg, category=FutureWarning)\n"
     ]
    }
   ],
   "source": [
    "transformer = make_column_transformer(\n",
    "    (OneHotEncoder(drop='first', sparse=False), ['Geography', 'Gender']),\n",
    "    remainder='passthrough')\n",
    "\n",
    "# применим OneHotEncoder к обучающей выборке\n",
    "features_train_transformed = transformer.fit_transform(features_train)\n",
    "    \n",
    "# применяем OrdinalEncoder к валидационной выборке\n",
    "features_val_transformed = transformer.transform(features_val)\n",
    "\n",
    "# применяем OrdinalEncoder к тестовой выборке\n",
    "features_test_transformed = transformer.transform(features_test)\n",
    "\n",
    "features_train = pd.DataFrame(features_train_transformed, columns=transformer.get_feature_names(), index=target_train.index)\n",
    "features_val = pd.DataFrame(features_val_transformed, columns=transformer.get_feature_names(), index=target_val.index)\n",
    "features_test = pd.DataFrame(features_test_transformed, columns=transformer.get_feature_names(), index=target_test.index)"
   ]
  },
  {
   "cell_type": "code",
   "execution_count": 31,
   "metadata": {},
   "outputs": [
    {
     "data": {
      "text/html": [
       "<div>\n",
       "<style scoped>\n",
       "    .dataframe tbody tr th:only-of-type {\n",
       "        vertical-align: middle;\n",
       "    }\n",
       "\n",
       "    .dataframe tbody tr th {\n",
       "        vertical-align: top;\n",
       "    }\n",
       "\n",
       "    .dataframe thead th {\n",
       "        text-align: right;\n",
       "    }\n",
       "</style>\n",
       "<table border=\"1\" class=\"dataframe\">\n",
       "  <thead>\n",
       "    <tr style=\"text-align: right;\">\n",
       "      <th></th>\n",
       "      <th>onehotencoder__x0_Germany</th>\n",
       "      <th>onehotencoder__x0_Spain</th>\n",
       "      <th>onehotencoder__x1_Male</th>\n",
       "      <th>CreditScore</th>\n",
       "      <th>Age</th>\n",
       "      <th>Tenure</th>\n",
       "      <th>Balance</th>\n",
       "      <th>NumOfProducts</th>\n",
       "      <th>HasCrCard</th>\n",
       "      <th>IsActiveMember</th>\n",
       "      <th>EstimatedSalary</th>\n",
       "    </tr>\n",
       "  </thead>\n",
       "  <tbody>\n",
       "    <tr>\n",
       "      <th>5275</th>\n",
       "      <td>0.0</td>\n",
       "      <td>0.0</td>\n",
       "      <td>0.0</td>\n",
       "      <td>683.0</td>\n",
       "      <td>42.0</td>\n",
       "      <td>8.0</td>\n",
       "      <td>0.00</td>\n",
       "      <td>2.0</td>\n",
       "      <td>0.0</td>\n",
       "      <td>1.0</td>\n",
       "      <td>198134.90</td>\n",
       "    </tr>\n",
       "    <tr>\n",
       "      <th>8107</th>\n",
       "      <td>0.0</td>\n",
       "      <td>0.0</td>\n",
       "      <td>1.0</td>\n",
       "      <td>560.0</td>\n",
       "      <td>50.0</td>\n",
       "      <td>3.0</td>\n",
       "      <td>0.00</td>\n",
       "      <td>2.0</td>\n",
       "      <td>1.0</td>\n",
       "      <td>0.0</td>\n",
       "      <td>84531.79</td>\n",
       "    </tr>\n",
       "    <tr>\n",
       "      <th>7472</th>\n",
       "      <td>0.0</td>\n",
       "      <td>0.0</td>\n",
       "      <td>0.0</td>\n",
       "      <td>448.0</td>\n",
       "      <td>36.0</td>\n",
       "      <td>6.0</td>\n",
       "      <td>83947.12</td>\n",
       "      <td>2.0</td>\n",
       "      <td>1.0</td>\n",
       "      <td>0.0</td>\n",
       "      <td>81999.53</td>\n",
       "    </tr>\n",
       "    <tr>\n",
       "      <th>5362</th>\n",
       "      <td>1.0</td>\n",
       "      <td>0.0</td>\n",
       "      <td>0.0</td>\n",
       "      <td>750.0</td>\n",
       "      <td>37.0</td>\n",
       "      <td>1.0</td>\n",
       "      <td>133199.71</td>\n",
       "      <td>2.0</td>\n",
       "      <td>1.0</td>\n",
       "      <td>1.0</td>\n",
       "      <td>27366.77</td>\n",
       "    </tr>\n",
       "    <tr>\n",
       "      <th>8903</th>\n",
       "      <td>0.0</td>\n",
       "      <td>0.0</td>\n",
       "      <td>1.0</td>\n",
       "      <td>520.0</td>\n",
       "      <td>35.0</td>\n",
       "      <td>9.0</td>\n",
       "      <td>105387.89</td>\n",
       "      <td>1.0</td>\n",
       "      <td>1.0</td>\n",
       "      <td>1.0</td>\n",
       "      <td>25059.06</td>\n",
       "    </tr>\n",
       "  </tbody>\n",
       "</table>\n",
       "</div>"
      ],
      "text/plain": [
       "      onehotencoder__x0_Germany  onehotencoder__x0_Spain  \\\n",
       "5275                        0.0                      0.0   \n",
       "8107                        0.0                      0.0   \n",
       "7472                        0.0                      0.0   \n",
       "5362                        1.0                      0.0   \n",
       "8903                        0.0                      0.0   \n",
       "\n",
       "      onehotencoder__x1_Male  CreditScore   Age  Tenure    Balance  \\\n",
       "5275                     0.0        683.0  42.0     8.0       0.00   \n",
       "8107                     1.0        560.0  50.0     3.0       0.00   \n",
       "7472                     0.0        448.0  36.0     6.0   83947.12   \n",
       "5362                     0.0        750.0  37.0     1.0  133199.71   \n",
       "8903                     1.0        520.0  35.0     9.0  105387.89   \n",
       "\n",
       "      NumOfProducts  HasCrCard  IsActiveMember  EstimatedSalary  \n",
       "5275            2.0        0.0             1.0        198134.90  \n",
       "8107            2.0        1.0             0.0         84531.79  \n",
       "7472            2.0        1.0             0.0         81999.53  \n",
       "5362            2.0        1.0             1.0         27366.77  \n",
       "8903            1.0        1.0             1.0         25059.06  "
      ]
     },
     "metadata": {},
     "output_type": "display_data"
    },
    {
     "data": {
      "text/html": [
       "<div>\n",
       "<style scoped>\n",
       "    .dataframe tbody tr th:only-of-type {\n",
       "        vertical-align: middle;\n",
       "    }\n",
       "\n",
       "    .dataframe tbody tr th {\n",
       "        vertical-align: top;\n",
       "    }\n",
       "\n",
       "    .dataframe thead th {\n",
       "        text-align: right;\n",
       "    }\n",
       "</style>\n",
       "<table border=\"1\" class=\"dataframe\">\n",
       "  <thead>\n",
       "    <tr style=\"text-align: right;\">\n",
       "      <th></th>\n",
       "      <th>onehotencoder__x0_Germany</th>\n",
       "      <th>onehotencoder__x0_Spain</th>\n",
       "      <th>onehotencoder__x1_Male</th>\n",
       "      <th>CreditScore</th>\n",
       "      <th>Age</th>\n",
       "      <th>Tenure</th>\n",
       "      <th>Balance</th>\n",
       "      <th>NumOfProducts</th>\n",
       "      <th>HasCrCard</th>\n",
       "      <th>IsActiveMember</th>\n",
       "      <th>EstimatedSalary</th>\n",
       "    </tr>\n",
       "  </thead>\n",
       "  <tbody>\n",
       "    <tr>\n",
       "      <th>4744</th>\n",
       "      <td>0.0</td>\n",
       "      <td>0.0</td>\n",
       "      <td>0.0</td>\n",
       "      <td>757.0</td>\n",
       "      <td>51.0</td>\n",
       "      <td>1.0</td>\n",
       "      <td>0.00</td>\n",
       "      <td>1.0</td>\n",
       "      <td>1.0</td>\n",
       "      <td>1.0</td>\n",
       "      <td>22835.13</td>\n",
       "    </tr>\n",
       "    <tr>\n",
       "      <th>9427</th>\n",
       "      <td>0.0</td>\n",
       "      <td>1.0</td>\n",
       "      <td>0.0</td>\n",
       "      <td>693.0</td>\n",
       "      <td>39.0</td>\n",
       "      <td>0.0</td>\n",
       "      <td>0.00</td>\n",
       "      <td>2.0</td>\n",
       "      <td>0.0</td>\n",
       "      <td>0.0</td>\n",
       "      <td>81901.60</td>\n",
       "    </tr>\n",
       "    <tr>\n",
       "      <th>9063</th>\n",
       "      <td>0.0</td>\n",
       "      <td>0.0</td>\n",
       "      <td>1.0</td>\n",
       "      <td>609.0</td>\n",
       "      <td>39.0</td>\n",
       "      <td>3.0</td>\n",
       "      <td>121778.71</td>\n",
       "      <td>1.0</td>\n",
       "      <td>1.0</td>\n",
       "      <td>1.0</td>\n",
       "      <td>138399.67</td>\n",
       "    </tr>\n",
       "    <tr>\n",
       "      <th>9766</th>\n",
       "      <td>1.0</td>\n",
       "      <td>0.0</td>\n",
       "      <td>1.0</td>\n",
       "      <td>800.0</td>\n",
       "      <td>39.0</td>\n",
       "      <td>4.0</td>\n",
       "      <td>95252.72</td>\n",
       "      <td>1.0</td>\n",
       "      <td>1.0</td>\n",
       "      <td>0.0</td>\n",
       "      <td>13906.34</td>\n",
       "    </tr>\n",
       "    <tr>\n",
       "      <th>9752</th>\n",
       "      <td>0.0</td>\n",
       "      <td>0.0</td>\n",
       "      <td>1.0</td>\n",
       "      <td>690.0</td>\n",
       "      <td>21.0</td>\n",
       "      <td>8.0</td>\n",
       "      <td>0.00</td>\n",
       "      <td>2.0</td>\n",
       "      <td>1.0</td>\n",
       "      <td>1.0</td>\n",
       "      <td>155782.89</td>\n",
       "    </tr>\n",
       "  </tbody>\n",
       "</table>\n",
       "</div>"
      ],
      "text/plain": [
       "      onehotencoder__x0_Germany  onehotencoder__x0_Spain  \\\n",
       "4744                        0.0                      0.0   \n",
       "9427                        0.0                      1.0   \n",
       "9063                        0.0                      0.0   \n",
       "9766                        1.0                      0.0   \n",
       "9752                        0.0                      0.0   \n",
       "\n",
       "      onehotencoder__x1_Male  CreditScore   Age  Tenure    Balance  \\\n",
       "4744                     0.0        757.0  51.0     1.0       0.00   \n",
       "9427                     0.0        693.0  39.0     0.0       0.00   \n",
       "9063                     1.0        609.0  39.0     3.0  121778.71   \n",
       "9766                     1.0        800.0  39.0     4.0   95252.72   \n",
       "9752                     1.0        690.0  21.0     8.0       0.00   \n",
       "\n",
       "      NumOfProducts  HasCrCard  IsActiveMember  EstimatedSalary  \n",
       "4744            1.0        1.0             1.0         22835.13  \n",
       "9427            2.0        0.0             0.0         81901.60  \n",
       "9063            1.0        1.0             1.0        138399.67  \n",
       "9766            1.0        1.0             0.0         13906.34  \n",
       "9752            2.0        1.0             1.0        155782.89  "
      ]
     },
     "metadata": {},
     "output_type": "display_data"
    },
    {
     "data": {
      "text/html": [
       "<div>\n",
       "<style scoped>\n",
       "    .dataframe tbody tr th:only-of-type {\n",
       "        vertical-align: middle;\n",
       "    }\n",
       "\n",
       "    .dataframe tbody tr th {\n",
       "        vertical-align: top;\n",
       "    }\n",
       "\n",
       "    .dataframe thead th {\n",
       "        text-align: right;\n",
       "    }\n",
       "</style>\n",
       "<table border=\"1\" class=\"dataframe\">\n",
       "  <thead>\n",
       "    <tr style=\"text-align: right;\">\n",
       "      <th></th>\n",
       "      <th>onehotencoder__x0_Germany</th>\n",
       "      <th>onehotencoder__x0_Spain</th>\n",
       "      <th>onehotencoder__x1_Male</th>\n",
       "      <th>CreditScore</th>\n",
       "      <th>Age</th>\n",
       "      <th>Tenure</th>\n",
       "      <th>Balance</th>\n",
       "      <th>NumOfProducts</th>\n",
       "      <th>HasCrCard</th>\n",
       "      <th>IsActiveMember</th>\n",
       "      <th>EstimatedSalary</th>\n",
       "    </tr>\n",
       "  </thead>\n",
       "  <tbody>\n",
       "    <tr>\n",
       "      <th>8125</th>\n",
       "      <td>1.0</td>\n",
       "      <td>0.0</td>\n",
       "      <td>0.0</td>\n",
       "      <td>629.0</td>\n",
       "      <td>38.0</td>\n",
       "      <td>9.0</td>\n",
       "      <td>123948.85</td>\n",
       "      <td>1.0</td>\n",
       "      <td>1.0</td>\n",
       "      <td>0.0</td>\n",
       "      <td>76053.07</td>\n",
       "    </tr>\n",
       "    <tr>\n",
       "      <th>9470</th>\n",
       "      <td>1.0</td>\n",
       "      <td>0.0</td>\n",
       "      <td>0.0</td>\n",
       "      <td>751.0</td>\n",
       "      <td>28.0</td>\n",
       "      <td>10.0</td>\n",
       "      <td>132932.14</td>\n",
       "      <td>2.0</td>\n",
       "      <td>1.0</td>\n",
       "      <td>1.0</td>\n",
       "      <td>46630.47</td>\n",
       "    </tr>\n",
       "    <tr>\n",
       "      <th>863</th>\n",
       "      <td>0.0</td>\n",
       "      <td>0.0</td>\n",
       "      <td>1.0</td>\n",
       "      <td>717.0</td>\n",
       "      <td>53.0</td>\n",
       "      <td>6.0</td>\n",
       "      <td>0.00</td>\n",
       "      <td>2.0</td>\n",
       "      <td>0.0</td>\n",
       "      <td>1.0</td>\n",
       "      <td>97614.87</td>\n",
       "    </tr>\n",
       "    <tr>\n",
       "      <th>6176</th>\n",
       "      <td>1.0</td>\n",
       "      <td>0.0</td>\n",
       "      <td>0.0</td>\n",
       "      <td>608.0</td>\n",
       "      <td>38.0</td>\n",
       "      <td>8.0</td>\n",
       "      <td>103653.51</td>\n",
       "      <td>2.0</td>\n",
       "      <td>1.0</td>\n",
       "      <td>1.0</td>\n",
       "      <td>137079.86</td>\n",
       "    </tr>\n",
       "    <tr>\n",
       "      <th>3263</th>\n",
       "      <td>0.0</td>\n",
       "      <td>0.0</td>\n",
       "      <td>1.0</td>\n",
       "      <td>447.0</td>\n",
       "      <td>43.0</td>\n",
       "      <td>2.0</td>\n",
       "      <td>0.00</td>\n",
       "      <td>2.0</td>\n",
       "      <td>1.0</td>\n",
       "      <td>0.0</td>\n",
       "      <td>33879.26</td>\n",
       "    </tr>\n",
       "  </tbody>\n",
       "</table>\n",
       "</div>"
      ],
      "text/plain": [
       "      onehotencoder__x0_Germany  onehotencoder__x0_Spain  \\\n",
       "8125                        1.0                      0.0   \n",
       "9470                        1.0                      0.0   \n",
       "863                         0.0                      0.0   \n",
       "6176                        1.0                      0.0   \n",
       "3263                        0.0                      0.0   \n",
       "\n",
       "      onehotencoder__x1_Male  CreditScore   Age  Tenure    Balance  \\\n",
       "8125                     0.0        629.0  38.0     9.0  123948.85   \n",
       "9470                     0.0        751.0  28.0    10.0  132932.14   \n",
       "863                      1.0        717.0  53.0     6.0       0.00   \n",
       "6176                     0.0        608.0  38.0     8.0  103653.51   \n",
       "3263                     1.0        447.0  43.0     2.0       0.00   \n",
       "\n",
       "      NumOfProducts  HasCrCard  IsActiveMember  EstimatedSalary  \n",
       "8125            1.0        1.0             0.0         76053.07  \n",
       "9470            2.0        1.0             1.0         46630.47  \n",
       "863             2.0        0.0             1.0         97614.87  \n",
       "6176            2.0        1.0             1.0        137079.86  \n",
       "3263            2.0        1.0             0.0         33879.26  "
      ]
     },
     "execution_count": 31,
     "metadata": {},
     "output_type": "execute_result"
    }
   ],
   "source": [
    "#проверим что получилось\n",
    "display(features_train.head())\n",
    "display(features_val.head())\n",
    "features_test.head()"
   ]
  },
  {
   "cell_type": "markdown",
   "metadata": {},
   "source": [
    "Теперь масштабируем числовые признаки"
   ]
  },
  {
   "cell_type": "code",
   "execution_count": 32,
   "metadata": {
    "scrolled": true
   },
   "outputs": [],
   "source": [
    "# сохраним список названий столбцов с числовыми признаками\n",
    "numeric = ['CreditScore', 'Age', 'Tenure', 'Balance', 'NumOfProducts','EstimatedSalary']\n",
    "\n",
    "# масштабируем числовые признаки в переменных\n",
    "scaler = StandardScaler()\n",
    "scaler.fit(features_train[numeric])\n",
    "features_train[numeric] = scaler.transform(features_train[numeric])\n",
    "features_val[numeric] = scaler.transform(features_val[numeric])\n",
    "features_test[numeric] = scaler.transform(features_test[numeric])"
   ]
  },
  {
   "cell_type": "markdown",
   "metadata": {},
   "source": [
    "Проверим что получилось"
   ]
  },
  {
   "cell_type": "code",
   "execution_count": 33,
   "metadata": {
    "scrolled": true
   },
   "outputs": [
    {
     "data": {
      "text/html": [
       "<div>\n",
       "<style scoped>\n",
       "    .dataframe tbody tr th:only-of-type {\n",
       "        vertical-align: middle;\n",
       "    }\n",
       "\n",
       "    .dataframe tbody tr th {\n",
       "        vertical-align: top;\n",
       "    }\n",
       "\n",
       "    .dataframe thead th {\n",
       "        text-align: right;\n",
       "    }\n",
       "</style>\n",
       "<table border=\"1\" class=\"dataframe\">\n",
       "  <thead>\n",
       "    <tr style=\"text-align: right;\">\n",
       "      <th></th>\n",
       "      <th>onehotencoder__x0_Germany</th>\n",
       "      <th>onehotencoder__x0_Spain</th>\n",
       "      <th>onehotencoder__x1_Male</th>\n",
       "      <th>CreditScore</th>\n",
       "      <th>Age</th>\n",
       "      <th>Tenure</th>\n",
       "      <th>Balance</th>\n",
       "      <th>NumOfProducts</th>\n",
       "      <th>HasCrCard</th>\n",
       "      <th>IsActiveMember</th>\n",
       "      <th>EstimatedSalary</th>\n",
       "    </tr>\n",
       "  </thead>\n",
       "  <tbody>\n",
       "    <tr>\n",
       "      <th>5275</th>\n",
       "      <td>0.0</td>\n",
       "      <td>0.0</td>\n",
       "      <td>0.0</td>\n",
       "      <td>0.339890</td>\n",
       "      <td>0.291132</td>\n",
       "      <td>1.079497</td>\n",
       "      <td>-1.215905</td>\n",
       "      <td>0.825975</td>\n",
       "      <td>0.0</td>\n",
       "      <td>1.0</td>\n",
       "      <td>1.685013</td>\n",
       "    </tr>\n",
       "    <tr>\n",
       "      <th>8107</th>\n",
       "      <td>0.0</td>\n",
       "      <td>0.0</td>\n",
       "      <td>1.0</td>\n",
       "      <td>-0.932022</td>\n",
       "      <td>1.053675</td>\n",
       "      <td>-0.720665</td>\n",
       "      <td>-1.215905</td>\n",
       "      <td>0.825975</td>\n",
       "      <td>1.0</td>\n",
       "      <td>0.0</td>\n",
       "      <td>-0.284799</td>\n",
       "    </tr>\n",
       "    <tr>\n",
       "      <th>7472</th>\n",
       "      <td>0.0</td>\n",
       "      <td>0.0</td>\n",
       "      <td>0.0</td>\n",
       "      <td>-2.090186</td>\n",
       "      <td>-0.280774</td>\n",
       "      <td>0.359432</td>\n",
       "      <td>0.129810</td>\n",
       "      <td>0.825975</td>\n",
       "      <td>1.0</td>\n",
       "      <td>0.0</td>\n",
       "      <td>-0.328707</td>\n",
       "    </tr>\n",
       "    <tr>\n",
       "      <th>5362</th>\n",
       "      <td>1.0</td>\n",
       "      <td>0.0</td>\n",
       "      <td>0.0</td>\n",
       "      <td>1.032720</td>\n",
       "      <td>-0.185457</td>\n",
       "      <td>-1.440729</td>\n",
       "      <td>0.919354</td>\n",
       "      <td>0.825975</td>\n",
       "      <td>1.0</td>\n",
       "      <td>1.0</td>\n",
       "      <td>-1.276007</td>\n",
       "    </tr>\n",
       "    <tr>\n",
       "      <th>8903</th>\n",
       "      <td>0.0</td>\n",
       "      <td>0.0</td>\n",
       "      <td>1.0</td>\n",
       "      <td>-1.345652</td>\n",
       "      <td>-0.376092</td>\n",
       "      <td>1.439529</td>\n",
       "      <td>0.473516</td>\n",
       "      <td>-0.916588</td>\n",
       "      <td>1.0</td>\n",
       "      <td>1.0</td>\n",
       "      <td>-1.316021</td>\n",
       "    </tr>\n",
       "  </tbody>\n",
       "</table>\n",
       "</div>"
      ],
      "text/plain": [
       "      onehotencoder__x0_Germany  onehotencoder__x0_Spain  \\\n",
       "5275                        0.0                      0.0   \n",
       "8107                        0.0                      0.0   \n",
       "7472                        0.0                      0.0   \n",
       "5362                        1.0                      0.0   \n",
       "8903                        0.0                      0.0   \n",
       "\n",
       "      onehotencoder__x1_Male  CreditScore       Age    Tenure   Balance  \\\n",
       "5275                     0.0     0.339890  0.291132  1.079497 -1.215905   \n",
       "8107                     1.0    -0.932022  1.053675 -0.720665 -1.215905   \n",
       "7472                     0.0    -2.090186 -0.280774  0.359432  0.129810   \n",
       "5362                     0.0     1.032720 -0.185457 -1.440729  0.919354   \n",
       "8903                     1.0    -1.345652 -0.376092  1.439529  0.473516   \n",
       "\n",
       "      NumOfProducts  HasCrCard  IsActiveMember  EstimatedSalary  \n",
       "5275       0.825975        0.0             1.0         1.685013  \n",
       "8107       0.825975        1.0             0.0        -0.284799  \n",
       "7472       0.825975        1.0             0.0        -0.328707  \n",
       "5362       0.825975        1.0             1.0        -1.276007  \n",
       "8903      -0.916588        1.0             1.0        -1.316021  "
      ]
     },
     "execution_count": 33,
     "metadata": {},
     "output_type": "execute_result"
    }
   ],
   "source": [
    "features_train.head()"
   ]
  },
  {
   "cell_type": "markdown",
   "metadata": {},
   "source": [
    "Данные подготовлены к обучению."
   ]
  },
  {
   "cell_type": "markdown",
   "metadata": {},
   "source": [
    "### **Выводы:** \n",
    "\n",
    "При подготовке данных к обучению выявили:\n",
    "- В столбце Tenure 909 пропусков (9% строк). Пропуски заполнены медианой в разбивке по целевому признаку;\n",
    "- Избыточные параметры RowNumber, CustomerId и Surname для обучения. Вывели их в отдельную таблицу;\n",
    "- Отсутсвие корреляции Пирсона выше порога 0.6. Следовательно мультиколлинеарность признаков также нет;\n",
    "- Распределение кредитного рейтинга, возраста клиентов и баланса на счете похоже на нормальное. Распределение остальных числовых параметров далеки от нормального;\n",
    "- Преобладающее большинство (36%) клиентов имеют нулевой баланс на счетах. Более того, 14% спящих клиентов из представленных данных с нулевыми остатками, и они не покинули банк. Об этом нужно сказать бизнесу, так как модель, используя эти данные, может ориентироваться на таких не приносящих прибыль клиентов. В рамках текущей задачи учитывать этот факт не будем;\n",
    "- У большинства клиентов открыты по одному или двум продуктам;\n",
    "- В данных разный баланс классов - покинувших банк клиентов сильно меньше (20%).\n",
    "\n",
    "Категориальные признаки были закодированы методом OHE с учетом дамми-ловушки:\n",
    "- Geography — страна проживания;\n",
    "- Gender — пол.\n",
    "\n",
    "Числовые признаки стандартизированы с помощью scaler:\n",
    "- CreditScore - кредитный рейтинг;\n",
    "- Age - возраст;\n",
    "- Tenure - сколько лет человек является клиентом банка;\n",
    "- Balance - баланс на счёте;\n",
    "- NumOfProducts - количество продуктов банка, используемых клиентом;\n",
    "- EstimatedSalary - предполагаемая зарплата.\n",
    "\n",
    "Данные разделены на тренировочную (60%), валидационную (20%) и тестовую (20%) выборки.\n",
    "\n"
   ]
  },
  {
   "cell_type": "markdown",
   "metadata": {},
   "source": [
    "## Исследование задачи"
   ]
  },
  {
   "cell_type": "markdown",
   "metadata": {},
   "source": [
    "### Баланс классов"
   ]
  },
  {
   "cell_type": "markdown",
   "metadata": {},
   "source": [
    "Исследуем баланс классов. Подберем лучшую модель без учёта дисбаланса."
   ]
  },
  {
   "cell_type": "markdown",
   "metadata": {},
   "source": [
    "Визуализируем баланс классов в общей выборке"
   ]
  },
  {
   "cell_type": "code",
   "execution_count": 34,
   "metadata": {
    "scrolled": false
   },
   "outputs": [
    {
     "data": {
      "image/png": "[encoded data removed]",
      "text/plain": [
       "<Figure size 640x480 with 1 Axes>"
      ]
     },
     "metadata": {},
     "output_type": "display_data"
    }
   ],
   "source": [
    "(clnt_log.Exited.value_counts(normalize=True)\n",
    " .plot(kind='bar', title='Баланс классов в общей выборке'));"
   ]
  },
  {
   "cell_type": "markdown",
   "metadata": {},
   "source": [
    "Как видно, баланс классов далек от 1:1. Доля покинувших банк клиентов 20%."
   ]
  },
  {
   "cell_type": "markdown",
   "metadata": {},
   "source": [
    "### Константная модель"
   ]
  },
  {
   "cell_type": "markdown",
   "metadata": {},
   "source": [
    "Посмотрим как дисбаланс повлияет на метрику accuracy. Для начала вычислим accuracy обученной модели, а потом сравним результат с accuracy константной модели. "
   ]
  },
  {
   "cell_type": "markdown",
   "metadata": {},
   "source": [
    "Для начала посчитаем accuracy константной модели, где всегда предсказывается 0."
   ]
  },
  {
   "cell_type": "code",
   "execution_count": 37,
   "metadata": {},
   "outputs": [
    {
     "name": "stdout",
     "output_type": "stream",
     "text": [
      "Accuracy на train: 0.7963333333333333\n",
      "Accuracy на val: 0.796\n",
      "\n"
     ]
    }
   ],
   "source": [
    "dummy_clf = DummyClassifier(strategy='constant', constant=0, random_state=1357)\n",
    "dummy_clf.fit(features_train, target_train)\n",
    "predicted_val = dummy_clf.predict(features_val)\n",
    "\n",
    "print(f'Accuracy на train: {dummy_clf.score(features_train, target_train)}')\n",
    "print(f'Accuracy на val: {dummy_clf.score(features_val, target_val)}')\n",
    "print()"
   ]
  },
  {
   "cell_type": "markdown",
   "metadata": {},
   "source": [
    "### 'Дерево решений' без учета дисбаланса"
   ]
  },
  {
   "cell_type": "markdown",
   "metadata": {},
   "source": [
    "Попробуем использовать алгоритм 'Дерево решений', чтобы сравнить его accuracy с константной моделью.\n",
    "\n",
    "Подберем оптимальный гиперпараметры и вычислим метрики accuracy и f1 на валидационной выборке. "
   ]
  },
  {
   "cell_type": "code",
   "execution_count": 38,
   "metadata": {
    "scrolled": true
   },
   "outputs": [
    {
     "name": "stdout",
     "output_type": "stream",
     "text": [
      "Лучшая глубина дерева: 10\n",
      "Лучшая splitter: random\n",
      "Лучшая min_samples_leaf: 2\n",
      "\n",
      "Accuracy на train: 0.878\n",
      "Accuracy на val: 0.8515\n",
      "\n",
      "F1 на val: 0.5612998522895126\n"
     ]
    }
   ],
   "source": [
    "best_accuracy_train_tree_cl = 0.79 # используем accuracy константной модели\n",
    "best_accuracy_val_tree_cl = 0.79 # используем accuracy константной модели\n",
    "best_f1_val_tree_cl = 0\n",
    "best_max_depth = 0\n",
    "best_splitter = 0\n",
    "best_msl = 0\n",
    "\n",
    "spl =  ['best', 'random']\n",
    "\n",
    "for d in range(1,101):\n",
    "    for s in spl:\n",
    "        for m in range(1,5):\n",
    "            model_tree_cl = DecisionTreeClassifier(criterion = 'entropy', splitter=s, max_depth=d, \n",
    "                                                   min_samples_leaf = m, random_state=1357)\n",
    "            model_tree_cl.fit(features_train, target_train)\n",
    "            predicted_train = model_tree_cl.predict(features_train)\n",
    "            predicted_val = model_tree_cl.predict(features_val)\n",
    "            accuracy_train = model_tree_cl.score(features_train, target_train)\n",
    "            accuracy_val = model_tree_cl.score(features_val, target_val)\n",
    "            f1_val = f1_score(target_val, predicted_val)\n",
    "            # остановимся на таких гипперпараметрах, когда f1 перестанет расти\n",
    "            if f1_val >= best_f1_val_tree_cl:\n",
    "                best_max_depth = d\n",
    "                best_splitter = s\n",
    "                best_msl = m\n",
    "                best_accuracy_train_tree_cl = accuracy_train\n",
    "                best_accuracy_val_tree_cl = accuracy_val\n",
    "                best_f1_val_tree_cl = f1_val\n",
    "            \n",
    "            \n",
    "print(f'Лучшая глубина дерева: {best_max_depth}')\n",
    "print(f'Лучшая splitter: {best_splitter}')\n",
    "print(f'Лучшая min_samples_leaf: {best_msl}')\n",
    "print()\n",
    "print(f'Accuracy на train: {best_accuracy_train_tree_cl}')\n",
    "print(f'Accuracy на val: {best_accuracy_val_tree_cl}')\n",
    "print()\n",
    "print(f'F1 на val: {best_f1_val_tree_cl}')"
   ]
  },
  {
   "cell_type": "markdown",
   "metadata": {},
   "source": [
    "Используя лучший гиперпараметры (глубины дерева: 10, splitter: random и min_samples_leaf: 2) еще раз обучим модель и построим ROC-кривую - посмотрим на соотношение полноты и доли ложных срабатываний при разных порогах."
   ]
  },
  {
   "cell_type": "code",
   "execution_count": 39,
   "metadata": {
    "scrolled": true
   },
   "outputs": [
    {
     "data": {
      "text/plain": [
       "'Площадь под ROC-кривой: 0.7608161826288304'"
      ]
     },
     "metadata": {},
     "output_type": "display_data"
    },
    {
     "data": {
      "image/png": "[encoded data removed]",
      "text/plain": [
       "<Figure size 640x480 with 1 Axes>"
      ]
     },
     "metadata": {},
     "output_type": "display_data"
    }
   ],
   "source": [
    "model_tree_cl = DecisionTreeClassifier(criterion = 'entropy', splitter='random', max_depth=12, \n",
    "                                       min_samples_leaf = 2, random_state=1357)\n",
    "model_tree_cl.fit(features_train, target_train)\n",
    "\n",
    "probabilities_val = model_tree_cl.predict_proba(features_val)\n",
    "probabilities_one_val = probabilities_val[:, 1]\n",
    "\n",
    "fpr, tpr, thresholds = roc_curve(target_val, probabilities_one_val)\n",
    "\n",
    "display(f'Площадь под ROC-кривой: {roc_auc_score(target_val, probabilities_one_val)}')\n",
    "\n",
    "plt.figure()\n",
    "plt.plot(fpr, tpr)\n",
    "plt.plot([0, 1], [0, 1], linestyle='--')\n",
    "plt.xlim([0.0, 1.0])\n",
    "plt.ylim([0.0, 1.0])\n",
    "plt.xlabel('False Positive Rate')\n",
    "plt.ylabel('True Positive Rate')\n",
    "plt.title('ROC-кривая')\n",
    "plt.show()"
   ]
  },
  {
   "cell_type": "markdown",
   "metadata": {},
   "source": [
    "**ИЗМЕНИЛИ ГИППЕРПАРАМЕТР ГЛУБИНЫ ДЕРЕВА С 10 НА 12**"
   ]
  },
  {
   "cell_type": "markdown",
   "metadata": {},
   "source": [
    "Определили лучшие гиперпараметры с глубиной дерева: 10, splitter: random и min_samples_leaf: 2\n",
    "\n",
    "Судя по равно высоким результатам accuracy на тренировочной и валидационной выборке модель 'Дерево решений' обучилась хорошо. \n",
    "\n",
    "Однако, accuracy валидационной выборки (0.85) не сильно превосхордит константную модель (на 0.79).\n",
    "\n",
    "Зафиксировали результат F1 меры на валидационной выборке равный 0.56.\n",
    "\n",
    "Площадь под ROC-кривой 0.8 больше константной модели (0.5)."
   ]
  },
  {
   "cell_type": "markdown",
   "metadata": {},
   "source": [
    "### \"Случайный лес\" без учета дисбаланса"
   ]
  },
  {
   "cell_type": "markdown",
   "metadata": {},
   "source": [
    "**УДАЛИЛИ МОДЕЛЬ СЛУЧАЙНОГО ЛЕСА**"
   ]
  },
  {
   "cell_type": "markdown",
   "metadata": {},
   "source": [
    "Аналогично проверим что покажет модель используя алгоритм \"Случайный лес\"."
   ]
  },
  {
   "cell_type": "markdown",
   "metadata": {},
   "source": [
    "Лучшую глубину дерева мы уже определили: 10. Попробуем подобрать остальные гиперпараметры."
   ]
  },
  {
   "cell_type": "markdown",
   "metadata": {},
   "source": [
    "Используя лучшие гиперпараметры (глубины дерева: 10, кол-во деревьев: 16, criterion: entropy) еще раз обучим модель и построим ROC-кривую - посмотрим на соотношение полноты и доли ложных срабатываний при разных порогах. Также вычислим площадь под ней."
   ]
  },
  {
   "cell_type": "markdown",
   "metadata": {},
   "source": [
    "Определили лучшую глубину дерева равной 10 и кол-во деревьев 16. \n",
    "\n",
    "Разница в accuracy на тренировочной и валидационной выборках незначительная (0.4). Значит модель не сильно переобучена.\n",
    "\n",
    "Accuracy модели 'Случайный лес' на валидационной выборке (0.86) незначительно превосходит константную модель (0.79). И чуть больше, чем accuracy модели 'Дерево решений' (0.85).\n",
    "\n",
    "F1 мера модели 'Случайный лес' (0.56), рассчитанная на валидационной выборке, такая же как и в модели 'Дерево решений' (0.56).\n",
    "\n",
    "Площадь под ROC-кривой модели 'Случайный лес' (0.829) больше константной модели (0.5), и чуть больше, чем в модели 'Дерево решений' (0.8)."
   ]
  },
  {
   "cell_type": "markdown",
   "metadata": {},
   "source": [
    "### \"Логистическая регрессия\" без учета дисбаланса"
   ]
  },
  {
   "cell_type": "markdown",
   "metadata": {},
   "source": [
    "Посмотрим результат алгоритма \"Логистическая регрессия\"."
   ]
  },
  {
   "cell_type": "code",
   "execution_count": 37,
   "metadata": {
    "scrolled": false
   },
   "outputs": [
    {
     "data": {
      "image/png": "[encoded data removed]",
      "text/plain": [
       "<Figure size 432x288 with 1 Axes>"
      ]
     },
     "metadata": {
      "needs_background": "light"
     },
     "output_type": "display_data"
    },
    {
     "name": "stdout",
     "output_type": "stream",
     "text": [
      "Accuracy на train: 0.8103333333333333\n",
      "Accuracy на val: 0.811\n",
      "\n",
      "F1 на val: 0.3127272727272727\n",
      "\n",
      "Площадь под ROC-кривой: 0.7474997536703123\n"
     ]
    }
   ],
   "source": [
    "model_logregres = LogisticRegression(random_state=1357, solver='liblinear', max_iter=1000)\n",
    "model_logregres.fit(features_train, target_train)\n",
    "\n",
    "predicted_val = model_logregres.predict(features_val)\n",
    "\n",
    "accuracy_train = model_logregres.score(features_train, target_train)\n",
    "accuracy_val = model_logregres.score(features_val, target_val)\n",
    "\n",
    "f1_val = f1_score(target_val, predicted_val)\n",
    "\n",
    "probabilities_val = model_logregres.predict_proba(features_val)\n",
    "probabilities_one_val = probabilities_val[:, 1]\n",
    "roc_auc_val = roc_auc_score(target_val, probabilities_one_val)\n",
    "\n",
    "fpr, tpr, thresholds = roc_curve(target_val, probabilities_one_val)\n",
    "\n",
    "plt.figure()\n",
    "plt.plot(fpr, tpr)\n",
    "plt.plot([0, 1], [0, 1], linestyle='--')\n",
    "plt.xlim([0.0, 1.0])\n",
    "plt.ylim([0.0, 1.0])\n",
    "plt.xlabel('False Positive Rate')\n",
    "plt.ylabel('True Positive Rate')\n",
    "plt.title('ROC-кривая')\n",
    "plt.show()\n",
    "\n",
    "print(f'Accuracy на train: {accuracy_train}')\n",
    "print(f'Accuracy на val: {accuracy_val}')\n",
    "print()\n",
    "print(f'F1 на val: {f1_val}')\n",
    "print()\n",
    "print(f'Площадь под ROC-кривой: {roc_auc_val}')"
   ]
  },
  {
   "cell_type": "markdown",
   "metadata": {},
   "source": [
    "Нет разницы в accuracy на тренировочной и валидационной выборках - модель не переобучена.\n",
    "\n",
    "Accuracy модели 'Логистическая регрессия' на валидационной выборке (0.81) почти равна константной моделе (0.79). И сильно меньше, чем accuracy модели 'Дерево решений' (0.85) и  'Случайный лес' (0.86).\n",
    "\n",
    "F1 мера модели 'Логистическая регрессия' (0.31), рассчитанная на валидационной выборке, в два раза ниже, чем у моделей 'Дерево решений' (0.56) и 'Случайный лес' (0.56).\n",
    "\n",
    "Площадь под ROC-кривой модели 'Логистическая регрессия' (0.74) больше константной модели (0.5), но меньше площади модели 'Дерево решений' (0.8) и 'Случайный лес' (0.829).\n",
    "\n",
    "Судя по всему модель 'Логистическая регрессия' сильней подвержена дисбалансу классов, чем остальные модели."
   ]
  },
  {
   "cell_type": "markdown",
   "metadata": {},
   "source": [
    "### **Выводы:** \n",
    "\n",
    "- Дисбаланс классов значительный 1:5;\n",
    "- Все три использовавшихся модели 'Дерево решений', 'Случайный лес' и 'Логистическая регрессия' показали результаты accuracy чуть лучше, чем у константной модели;\n",
    "- Лучший результат метрик продемонстрировала модель 'Случайный лес';\n",
    "- Худший результат метрик у модели 'Логистическая регрессия' - максимально подвержена дисбалансу классов в выборке.\n",
    "\n",
    "\n",
    "**Результаты метрик моделей**\n",
    "\n",
    "'Константная модель':\n",
    "- Accuracy на train: 0.796\n",
    "- Accuracy на val: 0.796\n",
    "\n",
    "'Дерево решений' (с глубиной дерева: 10, splitter: random и min_samples_leaf: 2):\n",
    "- Accuracy на train: 0.878\n",
    "- Accuracy на val: 0.8515\n",
    "- F1 на val: 0.561\n",
    "- Площадь под ROC-кривой: 0.803\n",
    "\n",
    "'Случайный лес' (с глубиной дерева: 10 и кол-вом деревьев: 16, criterion: entropy):\n",
    "- Accuracy на train: 0.9\n",
    "- Accuracy на val: 0.861\n",
    "- F1 на val: 0.565\n",
    "- Площадь под ROC-кривой: 0.829\n",
    "\n",
    "'Логистическая регрессия':\n",
    "- Accuracy на train: 0.81\n",
    "- Accuracy на val: 0.81\n",
    "- F1 на val: 0.312\n",
    "- Площадь под ROC-кривой: 0.747"
   ]
  },
  {
   "cell_type": "markdown",
   "metadata": {},
   "source": [
    "## Борьба с дисбалансом"
   ]
  },
  {
   "cell_type": "markdown",
   "metadata": {},
   "source": [
    "Попробуем улучшить качество модели, учитывая дисбаланс классов. Обучим разные модели и найдем лучшую. Сравним ее результаты с результатами без учета дисбаланса."
   ]
  },
  {
   "cell_type": "markdown",
   "metadata": {},
   "source": [
    "### Используем class_weight='balanced'\n",
    "Для начала попробуем указать гиперпараметр class_weight='balanced', чтобы модель учла дисбалан классов в выборке."
   ]
  },
  {
   "cell_type": "markdown",
   "metadata": {},
   "source": [
    "Начнем с алгоритма 'Дерево решений'. "
   ]
  },
  {
   "cell_type": "code",
   "execution_count": 38,
   "metadata": {
    "scrolled": false
   },
   "outputs": [
    {
     "data": {
      "image/png": "[encoded data removed]",
      "text/plain": [
       "<Figure size 432x288 with 1 Axes>"
      ]
     },
     "metadata": {
      "needs_background": "light"
     },
     "output_type": "display_data"
    },
    {
     "name": "stdout",
     "output_type": "stream",
     "text": [
      "Accuracy на train: 0.8248333333333333\n",
      "Accuracy на val: 0.7715\n",
      "\n",
      "F1 на val: 0.5479723046488626\n",
      "\n",
      "Площадь под ROC-кривой: 0.7885213444674352\n"
     ]
    }
   ],
   "source": [
    "model_tree_cl_weight = DecisionTreeClassifier(criterion = 'entropy', splitter='random', max_depth=10, \n",
    "                                              min_samples_leaf = 2, random_state=1357, class_weight='balanced')\n",
    "model_tree_cl_weight.fit(features_train, target_train)\n",
    "\n",
    "predicted_val_cl_weight = model_tree_cl_weight.predict(features_val)\n",
    "\n",
    "accuracy_train_cl_weight = model_tree_cl_weight.score(features_train, target_train)\n",
    "accuracy_val_cl_weight = model_tree_cl_weight.score(features_val, target_val)\n",
    "\n",
    "f1_val_cl_weight = f1_score(target_val, predicted_val_cl_weight)\n",
    "\n",
    "probabilities_val_cl_weight = model_tree_cl_weight.predict_proba(features_val)\n",
    "probabilities_one_val_cl_weight = probabilities_val_cl_weight[:, 1]\n",
    "roc_auc_val_cl_weight = roc_auc_score(target_val, probabilities_one_val_cl_weight)\n",
    "\n",
    "fpr, tpr, thresholds = roc_curve(target_val, probabilities_one_val_cl_weight)\n",
    "\n",
    "plt.figure()\n",
    "plt.plot(fpr, tpr)\n",
    "plt.plot([0, 1], [0, 1], linestyle='--')\n",
    "plt.xlim([0.0, 1.0])\n",
    "plt.ylim([0.0, 1.0])\n",
    "plt.xlabel('False Positive Rate')\n",
    "plt.ylabel('True Positive Rate')\n",
    "plt.title('ROC-кривая')\n",
    "plt.show()\n",
    "\n",
    "print(f'Accuracy на train: {accuracy_train_cl_weight}')\n",
    "print(f'Accuracy на val: {accuracy_val_cl_weight}')\n",
    "print()\n",
    "print(f'F1 на val: {f1_val_cl_weight}')\n",
    "print()\n",
    "print(f'Площадь под ROC-кривой: {roc_auc_val_cl_weight}')"
   ]
  },
  {
   "cell_type": "markdown",
   "metadata": {},
   "source": [
    "Показатели **'Дерево решений'** только ухудшились.\n",
    "\n",
    "**Без учета баланса классов:**\n",
    "- Accuracy на train: 0.878\n",
    "- Accuracy на val: 0.8515\n",
    "- F1 на val: 0.561\n",
    "- Площадь под ROC-кривой: 0.803\n",
    "\n",
    "**Стали с гиперпараметром class_weight='balanced':**\n",
    "- Accuracy на train: 0.824\n",
    "- Accuracy на val: 0.771\n",
    "- F1 на val: 0.547\n",
    "- Площадь под ROC-кривой: 0.788"
   ]
  },
  {
   "cell_type": "markdown",
   "metadata": {},
   "source": [
    "Аналогично проверим \"Случайный лес\"."
   ]
  },
  {
   "cell_type": "code",
   "execution_count": 39,
   "metadata": {},
   "outputs": [
    {
     "data": {
      "image/png": "[encoded data removed]",
      "text/plain": [
       "<Figure size 432x288 with 1 Axes>"
      ]
     },
     "metadata": {
      "needs_background": "light"
     },
     "output_type": "display_data"
    },
    {
     "name": "stdout",
     "output_type": "stream",
     "text": [
      "Accuracy на train: 0.907\n",
      "Accuracy на val: 0.8275\n",
      "\n",
      "F1 на val: 0.5974329054842473\n",
      "\n",
      "Площадь под ROC-кривой: 0.8360006219824614\n"
     ]
    }
   ],
   "source": [
    "model_rand_forest_weight = RandomForestClassifier(criterion = 'entropy', max_depth = 10, \n",
    "                                           random_state=1357, n_estimators=16, class_weight='balanced') \n",
    "model_rand_forest_weight.fit(features_train, target_train)\n",
    "\n",
    "predicted_val_forest_weight = model_rand_forest_weight.predict(features_val)\n",
    "\n",
    "accuracy_train_forest_weight = model_rand_forest_weight.score(features_train, target_train)\n",
    "accuracy_val_forest_weight = model_rand_forest_weight.score(features_val, target_val)\n",
    "\n",
    "f1_val_forest_weight = f1_score(target_val, predicted_val_forest_weight)\n",
    "\n",
    "probabilities_val_forest_weight = model_rand_forest_weight.predict_proba(features_val)\n",
    "probabilities_one_val_forest_weight = probabilities_val_forest_weight[:, 1]\n",
    "roc_auc_val_forest_weight = roc_auc_score(target_val, probabilities_one_val_forest_weight)\n",
    "\n",
    "fpr, tpr, thresholds = roc_curve(target_val, probabilities_one_val_forest_weight)\n",
    "\n",
    "plt.figure()\n",
    "plt.plot(fpr, tpr)\n",
    "plt.plot([0, 1], [0, 1], linestyle='--')\n",
    "plt.xlim([0.0, 1.0])\n",
    "plt.ylim([0.0, 1.0])\n",
    "plt.xlabel('False Positive Rate')\n",
    "plt.ylabel('True Positive Rate')\n",
    "plt.title('ROC-кривая')\n",
    "plt.show()\n",
    "\n",
    "print(f'Accuracy на train: {accuracy_train_forest_weight}')\n",
    "print(f'Accuracy на val: {accuracy_val_forest_weight}')\n",
    "print()\n",
    "print(f'F1 на val: {f1_val_forest_weight}')\n",
    "print()\n",
    "print(f'Площадь под ROC-кривой: {roc_auc_val_forest_weight}')"
   ]
  },
  {
   "cell_type": "markdown",
   "metadata": {},
   "source": [
    "Показатели **'Случайный лес'** незначительно улучшились. Отметим снижение показателя accuracy.\n",
    "\n",
    "**Без учета баланса классов:**\n",
    "- Accuracy на train: 0.9\n",
    "- Accuracy на val: 0.861\n",
    "- F1 на val: 0.565\n",
    "- Площадь под ROC-кривой: 0.829\n",
    "\n",
    "**Стали с гиперпараметром class_weight='balanced':**\n",
    "- Accuracy на train: 0.907\n",
    "- Accuracy на val: 0.827\n",
    "- F1 на val: 0.597\n",
    "- Площадь под ROC-кривой: 0.836"
   ]
  },
  {
   "cell_type": "markdown",
   "metadata": {},
   "source": [
    "Теперь проверим как повлияет учет баланса классов на 'Логистическую регрессию'"
   ]
  },
  {
   "cell_type": "code",
   "execution_count": 40,
   "metadata": {},
   "outputs": [
    {
     "data": {
      "image/png": "[encoded data removed]",
      "text/plain": [
       "<Figure size 432x288 with 1 Axes>"
      ]
     },
     "metadata": {
      "needs_background": "light"
     },
     "output_type": "display_data"
    },
    {
     "name": "stdout",
     "output_type": "stream",
     "text": [
      "Accuracy на train: 0.7113333333333334\n",
      "Accuracy на val: 0.7065\n",
      "\n",
      "F1 на val: 0.4782222222222222\n",
      "\n",
      "Площадь под ROC-кривой: 0.752193873780668\n"
     ]
    }
   ],
   "source": [
    "model_logregres_weight = LogisticRegression(random_state=1357, solver='liblinear', \n",
    "                                     max_iter=1000, class_weight='balanced')\n",
    "model_logregres_weight.fit(features_train, target_train)\n",
    "\n",
    "predicted_val_logregres_weight = model_logregres_weight.predict(features_val)\n",
    "\n",
    "accuracy_train_logregres_weight = model_logregres_weight.score(features_train, target_train)\n",
    "accuracy_val_logregres_weight = model_logregres_weight.score(features_val, target_val)\n",
    "\n",
    "f1_val_logregres_weight = f1_score(target_val, predicted_val_logregres_weight)\n",
    "\n",
    "probabilities_val_logregres_weight = model_logregres_weight.predict_proba(features_val)\n",
    "probabilities_one_val_logregres_weight = probabilities_val_logregres_weight[:, 1]\n",
    "roc_auc_val_logregres_weight = roc_auc_score(target_val, probabilities_one_val_logregres_weight)\n",
    "\n",
    "fpr, tpr, thresholds = roc_curve(target_val, probabilities_one_val_logregres_weight)\n",
    "\n",
    "plt.figure()\n",
    "plt.plot(fpr, tpr)\n",
    "plt.plot([0, 1], [0, 1], linestyle='--')\n",
    "plt.xlim([0.0, 1.0])\n",
    "plt.ylim([0.0, 1.0])\n",
    "plt.xlabel('False Positive Rate')\n",
    "plt.ylabel('True Positive Rate')\n",
    "plt.title('ROC-кривая')\n",
    "plt.show()\n",
    "\n",
    "print(f'Accuracy на train: {accuracy_train_logregres_weight}')\n",
    "print(f'Accuracy на val: {accuracy_val_logregres_weight}')\n",
    "print()\n",
    "print(f'F1 на val: {f1_val_logregres_weight}')\n",
    "print()\n",
    "print(f'Площадь под ROC-кривой: {roc_auc_val_logregres_weight}')"
   ]
  },
  {
   "cell_type": "markdown",
   "metadata": {},
   "source": [
    "Показатели **'Логистическая регрессия'** улучшились. Отметим снижение показателя accuracy.\n",
    "\n",
    "**Без учета баланса классов:**\n",
    "- Accuracy на train: 0.81\n",
    "- Accuracy на val: 0.81\n",
    "- F1 на val: 0.312\n",
    "- Площадь под ROC-кривой: 0.747\n",
    "\n",
    "**Стали с гиперпараметром class_weight='balanced':**\n",
    "- Accuracy на train: 0.711\n",
    "- Accuracy на val: 0.706\n",
    "- F1 на val: 0.478\n",
    "- Площадь под ROC-кривой: 0.752"
   ]
  },
  {
   "cell_type": "markdown",
   "metadata": {},
   "source": [
    "### Увеличение выборки (upsampling)"
   ]
  },
  {
   "cell_type": "markdown",
   "metadata": {},
   "source": [
    "Увеличим обьекты класса 1 до пропорции 1:1."
   ]
  },
  {
   "cell_type": "code",
   "execution_count": 41,
   "metadata": {},
   "outputs": [],
   "source": [
    "# напишем функцию для увеличения выборки\n",
    "def upsample(features, target, repeat):\n",
    "    # поделим выборку на отрицательные и положительные обьекты\n",
    "    features_zeros = features[target == 0]\n",
    "    features_ones = features[target == 1]\n",
    "    target_zeros = target[target == 0]\n",
    "    target_ones = target[target == 1]\n",
    "    # увеличим положительные обьекты на repeat раз\n",
    "    features_upsampled = pd.concat([features_zeros] + [features_ones] * repeat)\n",
    "    target_upsampled = pd.concat([target_zeros] + [target_ones] * repeat)\n",
    "    # перемешаем обьекты\n",
    "    features_upsampled, target_upsampled = shuffle(\n",
    "        features_upsampled, target_upsampled, random_state=1357)\n",
    "    \n",
    "    return features_upsampled, target_upsampled\n",
    "\n",
    "features_upsampled, target_upsampled = upsample(features_train, target_train, 4)"
   ]
  },
  {
   "cell_type": "markdown",
   "metadata": {},
   "source": [
    "Проверим соотношение классов после увеличения"
   ]
  },
  {
   "cell_type": "code",
   "execution_count": 42,
   "metadata": {
    "scrolled": true
   },
   "outputs": [
    {
     "data": {
      "image/png": "[encoded data removed]",
      "text/plain": [
       "<Figure size 432x288 with 1 Axes>"
      ]
     },
     "metadata": {
      "needs_background": "light"
     },
     "output_type": "display_data"
    }
   ],
   "source": [
    "(target_upsampled.value_counts(normalize=True)\n",
    " .plot(kind='bar', title='Баланс классов в общей выборке'));"
   ]
  },
  {
   "cell_type": "markdown",
   "metadata": {},
   "source": [
    "Посмотрим на результат 'Дерева решений' после увеличения класса 1"
   ]
  },
  {
   "cell_type": "code",
   "execution_count": 43,
   "metadata": {},
   "outputs": [
    {
     "data": {
      "image/png": "[encoded data removed]",
      "text/plain": [
       "<Figure size 432x288 with 1 Axes>"
      ]
     },
     "metadata": {
      "needs_background": "light"
     },
     "output_type": "display_data"
    },
    {
     "name": "stdout",
     "output_type": "stream",
     "text": [
      "Accuracy на train: 0.824332712600869\n",
      "Accuracy на val: 0.774\n",
      "\n",
      "F1 на val: 0.5349794238683128\n",
      "\n",
      "Площадь под ROC-кривой: 0.7693923046605577\n"
     ]
    }
   ],
   "source": [
    "model_tree_cl_up = DecisionTreeClassifier(criterion = 'entropy', splitter='random', max_depth=10, \n",
    "                                          min_samples_leaf = 2, random_state=1357,)\n",
    "model_tree_cl_up.fit(features_upsampled, target_upsampled)\n",
    "\n",
    "predicted_val_cl_up = model_tree_cl_up.predict(features_val)\n",
    "\n",
    "accuracy_train_cl_up = model_tree_cl_up.score(features_upsampled, target_upsampled)\n",
    "accuracy_val_cl_up = model_tree_cl_up.score(features_val, target_val)\n",
    "\n",
    "f1_val_cl_up = f1_score(target_val, predicted_val_cl_up)\n",
    "\n",
    "probabilities_val_cl_up = model_tree_cl_up.predict_proba(features_val)\n",
    "probabilities_one_val_cl_up = probabilities_val_cl_up[:, 1]\n",
    "roc_auc_val_cl_up = roc_auc_score(target_val, probabilities_one_val_cl_up)\n",
    "\n",
    "fpr, tpr, thresholds = roc_curve(target_val, probabilities_one_val_cl_up)\n",
    "\n",
    "plt.figure()\n",
    "plt.plot(fpr, tpr)\n",
    "plt.plot([0, 1], [0, 1], linestyle='--')\n",
    "plt.xlim([0.0, 1.0])\n",
    "plt.ylim([0.0, 1.0])\n",
    "plt.xlabel('False Positive Rate')\n",
    "plt.ylabel('True Positive Rate')\n",
    "plt.title('ROC-кривая')\n",
    "plt.show()\n",
    "\n",
    "print(f'Accuracy на train: {accuracy_train_cl_up}')\n",
    "print(f'Accuracy на val: {accuracy_val_cl_up}')\n",
    "print()\n",
    "print(f'F1 на val: {f1_val_cl_up}')\n",
    "print()\n",
    "print(f'Площадь под ROC-кривой: {roc_auc_val_cl_up}')"
   ]
  },
  {
   "cell_type": "markdown",
   "metadata": {},
   "source": [
    "Нет особой разницы в показателях между гиперпараметром class_weight='balanced' и увеличением класса методом upsampling.\n",
    "\n",
    "**Без учета баланса классов:**\n",
    "- Accuracy на train: 0.878\n",
    "- Accuracy на val: 0.8515\n",
    "- F1 на val: 0.561\n",
    "- Площадь под ROC-кривой: 0.803\n",
    "\n",
    "**C гиперпараметром class_weight='balanced':**\n",
    "- Accuracy на train: 0.824\n",
    "- Accuracy на val: 0.771\n",
    "- F1 на val: 0.547\n",
    "- Площадь под ROC-кривой: 0.788\n",
    "\n",
    "**С использованием upsampling:**\n",
    "- Accuracy на train: 0.824\n",
    "- Accuracy на val: 0.774\n",
    "- F1 на val: 0.534\n",
    "- Площадь под ROC-кривой: 0.769\n"
   ]
  },
  {
   "cell_type": "markdown",
   "metadata": {},
   "source": [
    "Проверим как работает увеличение 1 на примере 'Случайный лес'"
   ]
  },
  {
   "cell_type": "code",
   "execution_count": 44,
   "metadata": {},
   "outputs": [
    {
     "data": {
      "image/png": "[encoded data removed]",
      "text/plain": [
       "<Figure size 432x288 with 1 Axes>"
      ]
     },
     "metadata": {
      "needs_background": "light"
     },
     "output_type": "display_data"
    },
    {
     "name": "stdout",
     "output_type": "stream",
     "text": [
      "Accuracy на train: 0.8849575832816057\n",
      "Accuracy на val: 0.812\n",
      "\n",
      "F1 на val: 0.591304347826087\n",
      "\n",
      "Площадь под ROC-кривой: 0.8362600379347719\n"
     ]
    }
   ],
   "source": [
    "model_rand_forest_up = RandomForestClassifier(criterion = 'entropy', max_depth = 10, \n",
    "                                           random_state=1357, n_estimators=16) \n",
    "model_rand_forest_up.fit(features_upsampled, target_upsampled)\n",
    "\n",
    "predicted_val_forest_up = model_rand_forest_up.predict(features_val)\n",
    "\n",
    "accuracy_train_forest_up = model_rand_forest_up.score(features_upsampled, target_upsampled)\n",
    "accuracy_val_forest_up = model_rand_forest_up.score(features_val, target_val)\n",
    "\n",
    "f1_val_forest_up = f1_score(target_val, predicted_val_forest_up)\n",
    "\n",
    "probabilities_val_forest_up = model_rand_forest_up.predict_proba(features_val)\n",
    "probabilities_one_val_forest_up = probabilities_val_forest_up[:, 1]\n",
    "roc_auc_val_forest_up = roc_auc_score(target_val, probabilities_one_val_forest_up)\n",
    "\n",
    "fpr, tpr, thresholds = roc_curve(target_val, probabilities_one_val_forest_up)\n",
    "\n",
    "plt.figure()\n",
    "plt.plot(fpr, tpr)\n",
    "plt.plot([0, 1], [0, 1], linestyle='--')\n",
    "plt.xlim([0.0, 1.0])\n",
    "plt.ylim([0.0, 1.0])\n",
    "plt.xlabel('False Positive Rate')\n",
    "plt.ylabel('True Positive Rate')\n",
    "plt.title('ROC-кривая')\n",
    "plt.show()\n",
    "\n",
    "print(f'Accuracy на train: {accuracy_train_forest_up}')\n",
    "print(f'Accuracy на val: {accuracy_val_forest_up}')\n",
    "print()\n",
    "print(f'F1 на val: {f1_val_forest_up}')\n",
    "print()\n",
    "print(f'Площадь под ROC-кривой: {roc_auc_val_forest_up}')"
   ]
  },
  {
   "cell_type": "markdown",
   "metadata": {},
   "source": [
    "Нет особой разницы в показателях между гиперпараметром class_weight='balanced' и увеличением класса методом upsampling.\n",
    "\n",
    "**Без учета баланса классов:**\n",
    "- Accuracy на train: 0.9\n",
    "- Accuracy на val: 0.861\n",
    "- F1 на val: 0.565\n",
    "- Площадь под ROC-кривой: 0.829\n",
    "\n",
    "**С гиперпараметром class_weight='balanced':**\n",
    "- Accuracy на train: 0.907\n",
    "- Accuracy на val: 0.827\n",
    "- F1 на val: 0.597\n",
    "- Площадь под ROC-кривой: 0.836\n",
    "\n",
    "**С использованием upsampling:**\n",
    "- Accuracy на train: 0.884\n",
    "- Accuracy на val: 0.812\n",
    "- F1 на val: 0.591\n",
    "- Площадь под ROC-кривой: 0.836"
   ]
  },
  {
   "cell_type": "markdown",
   "metadata": {},
   "source": [
    "Проверим как отреагирует модель 'Логистическая регрессия' на увеличение класса 1"
   ]
  },
  {
   "cell_type": "code",
   "execution_count": 45,
   "metadata": {},
   "outputs": [
    {
     "data": {
      "image/png": "[encoded data removed]",
      "text/plain": [
       "<Figure size 432x288 with 1 Axes>"
      ]
     },
     "metadata": {
      "needs_background": "light"
     },
     "output_type": "display_data"
    },
    {
     "name": "stdout",
     "output_type": "stream",
     "text": [
      "Accuracy на train: 0.7108421270432443\n",
      "Accuracy на val: 0.7035\n",
      "\n",
      "F1 на val: 0.47753303964757704\n",
      "\n",
      "Площадь под ROC-кривой: 0.7522431397181988\n"
     ]
    }
   ],
   "source": [
    "model_logregres_up = LogisticRegression(random_state=1357, solver='liblinear', \n",
    "                                     max_iter=1000)\n",
    "model_logregres_up.fit(features_upsampled, target_upsampled)\n",
    "\n",
    "predicted_val_logregres_up = model_logregres_up.predict(features_val)\n",
    "\n",
    "accuracy_train_logregres_up = model_logregres_up.score(features_upsampled, target_upsampled)\n",
    "accuracy_val_logregres_up = model_logregres_up.score(features_val, target_val)\n",
    "\n",
    "f1_val_logregres_up = f1_score(target_val, predicted_val_logregres_up)\n",
    "\n",
    "probabilities_val_logregres_up = model_logregres_up.predict_proba(features_val)\n",
    "probabilities_one_val_logregres_up = probabilities_val_logregres_up[:, 1]\n",
    "roc_auc_val_logregres_up = roc_auc_score(target_val, probabilities_one_val_logregres_up)\n",
    "\n",
    "fpr, tpr, thresholds = roc_curve(target_val, probabilities_one_val_logregres_up)\n",
    "\n",
    "plt.figure()\n",
    "plt.plot(fpr, tpr)\n",
    "plt.plot([0, 1], [0, 1], linestyle='--')\n",
    "plt.xlim([0.0, 1.0])\n",
    "plt.ylim([0.0, 1.0])\n",
    "plt.xlabel('False Positive Rate')\n",
    "plt.ylabel('True Positive Rate')\n",
    "plt.title('ROC-кривая')\n",
    "plt.show()\n",
    "\n",
    "print(f'Accuracy на train: {accuracy_train_logregres_up}')\n",
    "print(f'Accuracy на val: {accuracy_val_logregres_up}')\n",
    "print()\n",
    "print(f'F1 на val: {f1_val_logregres_up}')\n",
    "print()\n",
    "print(f'Площадь под ROC-кривой: {roc_auc_val_logregres_up}')"
   ]
  },
  {
   "cell_type": "markdown",
   "metadata": {},
   "source": [
    "Показатели **'Логистической регрессии'** не изменились.\n",
    "\n",
    "**Без учета баланса классов:**\n",
    "- Accuracy на train: 0.81\n",
    "- Accuracy на val: 0.81\n",
    "- F1 на val: 0.312\n",
    "- Площадь под ROC-кривой: 0.747\n",
    "\n",
    "**С гиперпараметром class_weight='balanced':**\n",
    "- Accuracy на train: 0.711\n",
    "- Accuracy на val: 0.706\n",
    "- F1 на val: 0.478\n",
    "- Площадь под ROC-кривой: 0.752\n",
    "\n",
    "**С использованием upsampling:**\n",
    "- Accuracy на train: 0.71\n",
    "- Accuracy на val: 0.703\n",
    "- F1 на val: 0.477\n",
    "- Площадь под ROC-кривой: 0.752"
   ]
  },
  {
   "cell_type": "markdown",
   "metadata": {},
   "source": [
    "Лучше всех показала себя модель 'Случайный лес' с балансировкой классов гиперпараметром class_weight='balanced'."
   ]
  },
  {
   "cell_type": "markdown",
   "metadata": {},
   "source": [
    "### **Выводы:**\n",
    "\n",
    "Применили 2 метода изменения дисбаланса классов - гиперпараметр class_weight='balanced' и upsampling:\n",
    "- Лучше всех показала себя модель 'Случайный лес' с использованием class_weight='balanced';\n",
    "- Модель 'Дерево решений' не продемонстрировала изменения в показателях метрик;\n",
    "- Модель 'Логистическая регрессия' показала значительный рост показателя метрики f1 после выравнивания баланса классов;\n",
    "- После выравнивания баланса классов показатель accuracy снизился.\n",
    "\n",
    "**Результаты метрик моделей**\n",
    "\n",
    "1) Показатели **'Дерево решений'**\n",
    "\n",
    "Без учета баланса классов:\n",
    "- Accuracy на train: 0.878\n",
    "- Accuracy на val: 0.8515\n",
    "- F1 на val: 0.561\n",
    "- Площадь под ROC-кривой: 0.803\n",
    "\n",
    "C гиперпараметром class_weight='balanced':\n",
    "- Accuracy на train: 0.824\n",
    "- Accuracy на val: 0.771\n",
    "- F1 на val: 0.547\n",
    "- Площадь под ROC-кривой: 0.788\n",
    "\n",
    "С использованием upsampling:\n",
    "- Accuracy на train: 0.824\n",
    "- Accuracy на val: 0.774\n",
    "- F1 на val: 0.534\n",
    "- Площадь под ROC-кривой: 0.769\n",
    "\n",
    "\n",
    "\n",
    "2) Показатели **'Случайный лес'** \n",
    "\n",
    "Без учета баланса классов:\n",
    "- Accuracy на train: 0.9\n",
    "- Accuracy на val: 0.861\n",
    "- F1 на val: 0.565\n",
    "- Площадь под ROC-кривой: 0.829\n",
    "\n",
    "С гиперпараметром class_weight='balanced':\n",
    "- Accuracy на train: 0.907\n",
    "- Accuracy на val: 0.827\n",
    "- F1 на val: 0.597\n",
    "- Площадь под ROC-кривой: 0.836\n",
    "\n",
    "С использованием upsampling:\n",
    "- Accuracy на train: 0.884\n",
    "- Accuracy на val: 0.812\n",
    "- F1 на val: 0.591\n",
    "- Площадь под ROC-кривой: 0.836\n",
    "\n",
    "\n",
    "\n",
    "3) Показатели **'Логистической регрессии'**\n",
    "\n",
    "Без учета баланса классов:\n",
    "- Accuracy на train: 0.81\n",
    "- Accuracy на val: 0.81\n",
    "- F1 на val: 0.312\n",
    "- Площадь под ROC-кривой: 0.747\n",
    "\n",
    "С гиперпараметром class_weight='balanced':\n",
    "- Accuracy на train: 0.711\n",
    "- Accuracy на val: 0.706\n",
    "- F1 на val: 0.478\n",
    "- Площадь под ROC-кривой: 0.752\n",
    "\n",
    "С использованием upsampling:\n",
    "- Accuracy на train: 0.71\n",
    "- Accuracy на val: 0.703\n",
    "- F1 на val: 0.477\n",
    "- Площадь под ROC-кривой: 0.752"
   ]
  },
  {
   "cell_type": "markdown",
   "metadata": {},
   "source": [
    "## Тестирование модели"
   ]
  },
  {
   "cell_type": "markdown",
   "metadata": {},
   "source": [
    "Проверим качество модели \"Случайный лес\" на тестовой выборке.\n",
    "\n",
    "Применим лучшие гиперпараметры глубины дерева равной 10 и ко-ву деревьев равной 20 в алгоритме \"Случайный лес\". Будем использовать сбалансированную upsampling выборку для обучения модели."
   ]
  },
  {
   "cell_type": "code",
   "execution_count": 46,
   "metadata": {
    "scrolled": false
   },
   "outputs": [
    {
     "data": {
      "image/png": "[encoded data removed]",
      "text/plain": [
       "<Figure size 432x288 with 1 Axes>"
      ]
     },
     "metadata": {
      "needs_background": "light"
     },
     "output_type": "display_data"
    },
    {
     "name": "stdout",
     "output_type": "stream",
     "text": [
      "Accuracy на train: 0.907\n",
      "Accuracy на test: 0.8455\n",
      "\n",
      "F1 на test: 0.6308243727598567\n",
      "\n",
      "Площадь под ROC-кривой на test: 0.8669840873230704\n"
     ]
    }
   ],
   "source": [
    "model_rand_forest_weight = RandomForestClassifier(criterion = 'entropy', max_depth = 10, \n",
    "                                                  random_state=1357, n_estimators=16, class_weight='balanced') \n",
    "model_rand_forest_weight.fit(features_train, target_train)\n",
    "\n",
    "predicted_test_forest_weight = model_rand_forest_weight.predict(features_test)\n",
    "\n",
    "accuracy_train_forest_weight = model_rand_forest_weight.score(features_train, target_train)\n",
    "accuracy_test_forest_weight = model_rand_forest_weight.score(features_test, target_test)\n",
    "\n",
    "f1_test_forest_weight = f1_score(target_test, predicted_test_forest_weight)\n",
    "\n",
    "probabilities_test_forest_weight = model_rand_forest_weight.predict_proba(features_test)\n",
    "probabilities_one_test_forest_weight = probabilities_test_forest_weight[:, 1]\n",
    "roc_auc_test_forest_weight = roc_auc_score(target_test, probabilities_one_test_forest_weight)\n",
    "\n",
    "fpr, tpr, thresholds = roc_curve(target_test, probabilities_one_test_forest_weight)\n",
    "\n",
    "plt.figure()\n",
    "plt.plot(fpr, tpr)\n",
    "plt.plot([0, 1], [0, 1], linestyle='--')\n",
    "plt.xlim([0.0, 1.0])\n",
    "plt.ylim([0.0, 1.0])\n",
    "plt.xlabel('False Positive Rate')\n",
    "plt.ylabel('True Positive Rate')\n",
    "plt.title('ROC-кривая')\n",
    "plt.show()\n",
    "\n",
    "print(f'Accuracy на train: {accuracy_train_forest_weight}')\n",
    "print(f'Accuracy на test: {accuracy_test_forest_weight}')\n",
    "print()\n",
    "print(f'F1 на test: {f1_test_forest_weight}')\n",
    "print()\n",
    "print(f'Площадь под ROC-кривой на test: {roc_auc_test_forest_weight}')"
   ]
  },
  {
   "cell_type": "markdown",
   "metadata": {},
   "source": [
    "**Выводы:** \n",
    "\n",
    "Модель \"Случайный лес\" успешно прошла проверку на тестовой выборке с результатами: \n",
    "\n",
    "- Accuracy на train: 0.907\n",
    "- Accuracy на test: 0.8455\n",
    "- F1 на test: 0.63\n",
    "- Площадь под ROC-кривой на test: 0.866"
   ]
  },
  {
   "cell_type": "markdown",
   "metadata": {},
   "source": [
    "## **Общий вывод:**\n",
    "\n",
    "Проведено исследование исторических данных о поведении клиентов и расторжении договоров с банком.\n",
    "\n",
    "По результатам исследования ставилась цель построить модель прогнозирования, которая будет определять уйдёт клиент из банка в ближайшее время или нет, с предельно большим значением *F1*-меры (более 0.59).\n",
    "\n",
    "**Результаты ознакомления с данными:**\n",
    "\n",
    "- 9% строк пропусков столбца Tenure (сколько лет человек является клиентом банка) заполнены медианой в разбивке по целевому признаку;\n",
    "- Избыточные для обучения параметры RowNumber (индекс строки в данных), CustomerId (уникальный идентификатор клиента) и Surname (фамилия) выведены в отдельную таблицу;\n",
    "- Отсутсвует мультиколлинеарность признаков;\n",
    "- Распределение кредитного рейтинга, возраста клиентов и баланса на счете похоже на нормальное. Распределение остальных числовых параметров далеки от нормального;\n",
    "- Преобладающее большинство (36%) клиентов имеют нулевой баланс на счетах. Более того, 14% спящих клиентов из представленных данных с нулевыми остатками, и они не покинули банк. Об этом нужно сказать бизнесу, так как модель, используя эти данные, может ориентироваться на таких не приносящих прибыль клиентов. В рамках текущей задачи этот факт не учитывается;\n",
    "- У большинства клиентов открыты по одному или двум продуктам;\n",
    "- В данных разный баланс классов (1:5) - покинувших банк клиентов сильно меньше (20%).\n",
    "\n",
    "**Исследование разных моделей и борьба с дисбалансом классов:**\n",
    "\n",
    "Проведена работа по подбору гиперпараметров 3-х разных моделей ('Дерево решений', 'Случайный лес' и 'Логистическая регрессия') **без учета дисбаланса классов**:\n",
    "\n",
    "- В результате использования наиболее подходящих гиперпараметров все три модели показали результат метрики accuracy чуть лучше, чем у константной модели.\n",
    "- Лучший результат метрик продемонстрировала модель 'Случайный лес';\n",
    "- Худший результат метрик у модели 'Логистическая регрессия' - максимально подвержена дисбалансу классов в выборке.\n",
    "\n",
    "Протестированы 2 метода **балансировки классов** - гиперпараметр class_weight='balanced' и upsampling:\n",
    "- Лучше всех показала себя модель 'Случайный лес' с использованием class_weight='balanced';\n",
    "- Модель 'Дерево решений' не продемонстрировала изменения в показателях метрик после балансировки;\n",
    "- Модель 'Логистическая регрессия' показала значительный рост показателя метрики f1 после выравнивания баланса классов;\n",
    "- После выравнивания баланса классов показатель accuracy снизился.\n",
    "\n",
    "По результатам исследования выявлена лучшая модель 'Случайный лес' с параметрами:\n",
    "- глубина дерева 10;\n",
    "- количество деревьев равной 16;\n",
    "- с использованием критерия 'entropy';\n",
    "- модель обучалась на выборке, сбалансированной методом class_weight='balanced'.\n",
    "\n",
    "**Рекомендованная к использованию модель 'Случайный лес'** показала следующие результаты на тестовой выборке:\n",
    "- Accuracy на train: 0.907\n",
    "- Accuracy на test: 0.8455\n",
    "- F1 на test: 0.63 (> 0.59)\n",
    "- Площадь под ROC-кривой на test: 0.866"
   ]
  },
  {
   "cell_type": "markdown",
   "metadata": {},
   "source": [
    "## Чек-лист готовности проекта"
   ]
  },
  {
   "cell_type": "markdown",
   "metadata": {},
   "source": [
    "Поставьте 'x' в выполненных пунктах. Далее нажмите Shift+Enter."
   ]
  },
  {
   "cell_type": "markdown",
   "metadata": {},
   "source": [
    "- [x]  Jupyter Notebook открыт\n",
    "- [x]  Весь код выполняется без ошибок\n",
    "- [x]  Ячейки с кодом расположены в порядке исполнения\n",
    "- [x]  Выполнен шаг 1: данные подготовлены\n",
    "- [x]  Выполнен шаг 2: задача исследована\n",
    "    - [x]  Исследован баланс классов\n",
    "    - [x]  Изучены модели без учёта дисбаланса\n",
    "    - [x]  Написаны выводы по результатам исследования\n",
    "- [x]  Выполнен шаг 3: учтён дисбаланс\n",
    "    - [x]  Применено несколько способов борьбы с дисбалансом\n",
    "    - [x]  Написаны выводы по результатам исследования\n",
    "- [x]  Выполнен шаг 4: проведено тестирование\n",
    "- [x]  Удалось достичь *F1*-меры не менее 0.59\n",
    "- [x]  Исследована метрика *AUC-ROC*"
   ]
  }
 ],
 "metadata": {
  "ExecuteTimeLog": [
   {
    "duration": 1681,
    "start_time": "2023-07-18T17:31:02.171Z"
   },
   {
    "duration": 89,
    "start_time": "2023-07-18T17:31:06.091Z"
   },
   {
    "duration": 19,
    "start_time": "2023-07-18T17:31:46.757Z"
   },
   {
    "duration": 34,
    "start_time": "2023-07-18T17:49:43.648Z"
   },
   {
    "duration": 11,
    "start_time": "2023-07-18T17:50:08.954Z"
   },
   {
    "duration": 11,
    "start_time": "2023-07-18T17:50:17.752Z"
   },
   {
    "duration": 6,
    "start_time": "2023-07-18T17:57:07.353Z"
   },
   {
    "duration": 4,
    "start_time": "2023-07-18T17:58:12.187Z"
   },
   {
    "duration": 11,
    "start_time": "2023-07-18T18:07:06.784Z"
   },
   {
    "duration": 5,
    "start_time": "2023-07-18T18:07:59.128Z"
   },
   {
    "duration": 4,
    "start_time": "2023-07-18T18:09:10.726Z"
   },
   {
    "duration": 4,
    "start_time": "2023-07-18T18:09:24.182Z"
   },
   {
    "duration": 3,
    "start_time": "2023-07-18T18:13:47.029Z"
   },
   {
    "duration": 10,
    "start_time": "2023-07-18T18:13:53.528Z"
   },
   {
    "duration": 10,
    "start_time": "2023-07-18T18:14:23.677Z"
   },
   {
    "duration": 6,
    "start_time": "2023-07-18T18:14:59.795Z"
   },
   {
    "duration": 8,
    "start_time": "2023-07-18T18:15:10.207Z"
   },
   {
    "duration": 12,
    "start_time": "2023-07-18T18:15:17.529Z"
   },
   {
    "duration": 11,
    "start_time": "2023-07-18T18:16:05.507Z"
   },
   {
    "duration": 113,
    "start_time": "2023-07-18T18:16:28.110Z"
   },
   {
    "duration": 4,
    "start_time": "2023-07-18T18:16:31.797Z"
   },
   {
    "duration": 11,
    "start_time": "2023-07-18T18:16:33.437Z"
   },
   {
    "duration": 4,
    "start_time": "2023-07-18T18:17:33.209Z"
   },
   {
    "duration": 11,
    "start_time": "2023-07-18T18:17:58.325Z"
   },
   {
    "duration": 5,
    "start_time": "2023-07-18T18:20:15.029Z"
   },
   {
    "duration": 5,
    "start_time": "2023-07-18T18:20:16.837Z"
   },
   {
    "duration": 10,
    "start_time": "2023-07-18T18:20:22.216Z"
   },
   {
    "duration": 11,
    "start_time": "2023-07-18T18:20:26.753Z"
   },
   {
    "duration": 16,
    "start_time": "2023-07-18T18:22:28.399Z"
   },
   {
    "duration": 130,
    "start_time": "2023-07-18T18:28:22.421Z"
   },
   {
    "duration": 113,
    "start_time": "2023-07-18T18:29:30.295Z"
   },
   {
    "duration": 117,
    "start_time": "2023-07-18T18:30:08.451Z"
   },
   {
    "duration": 122,
    "start_time": "2023-07-18T18:30:20.825Z"
   },
   {
    "duration": 110,
    "start_time": "2023-07-18T18:31:11.310Z"
   },
   {
    "duration": 168,
    "start_time": "2023-07-18T18:32:09.052Z"
   },
   {
    "duration": 111,
    "start_time": "2023-07-18T18:32:33.951Z"
   },
   {
    "duration": 119,
    "start_time": "2023-07-18T18:33:54.012Z"
   },
   {
    "duration": 117,
    "start_time": "2023-07-18T18:35:06.506Z"
   },
   {
    "duration": 115,
    "start_time": "2023-07-18T18:36:53.906Z"
   },
   {
    "duration": 118,
    "start_time": "2023-07-18T18:37:23.888Z"
   },
   {
    "duration": 198,
    "start_time": "2023-07-18T18:39:03.403Z"
   },
   {
    "duration": 1063,
    "start_time": "2023-07-18T18:39:17.903Z"
   },
   {
    "duration": 165,
    "start_time": "2023-07-18T18:39:25.798Z"
   },
   {
    "duration": 4,
    "start_time": "2023-07-18T18:55:00.961Z"
   },
   {
    "duration": 99,
    "start_time": "2023-07-18T18:55:09.928Z"
   },
   {
    "duration": 190,
    "start_time": "2023-07-18T18:55:57.805Z"
   },
   {
    "duration": 10,
    "start_time": "2023-07-18T19:00:17.223Z"
   },
   {
    "duration": 11,
    "start_time": "2023-07-18T19:00:25.841Z"
   },
   {
    "duration": 6,
    "start_time": "2023-07-18T19:01:37.519Z"
   },
   {
    "duration": 5,
    "start_time": "2023-07-18T19:01:44.060Z"
   },
   {
    "duration": 5,
    "start_time": "2023-07-18T19:04:09.152Z"
   },
   {
    "duration": 19,
    "start_time": "2023-07-18T19:04:19.826Z"
   },
   {
    "duration": 19,
    "start_time": "2023-07-18T19:05:23.376Z"
   },
   {
    "duration": 7,
    "start_time": "2023-07-18T19:05:32.362Z"
   },
   {
    "duration": 6,
    "start_time": "2023-07-18T19:05:37.386Z"
   },
   {
    "duration": 153,
    "start_time": "2023-07-18T19:17:22.715Z"
   },
   {
    "duration": 1622,
    "start_time": "2023-07-20T16:24:46.524Z"
   },
   {
    "duration": 145,
    "start_time": "2023-07-20T16:24:48.147Z"
   },
   {
    "duration": 15,
    "start_time": "2023-07-20T16:24:48.294Z"
   },
   {
    "duration": 10,
    "start_time": "2023-07-20T16:24:48.312Z"
   },
   {
    "duration": 11,
    "start_time": "2023-07-20T16:24:48.323Z"
   },
   {
    "duration": 13,
    "start_time": "2023-07-20T16:24:48.335Z"
   },
   {
    "duration": 25,
    "start_time": "2023-07-20T16:24:48.349Z"
   },
   {
    "duration": 4,
    "start_time": "2023-07-20T16:24:48.375Z"
   },
   {
    "duration": 17,
    "start_time": "2023-07-20T16:24:48.380Z"
   },
   {
    "duration": 5,
    "start_time": "2023-07-20T16:24:48.399Z"
   },
   {
    "duration": 24,
    "start_time": "2023-07-20T16:24:48.406Z"
   },
   {
    "duration": 4,
    "start_time": "2023-07-20T16:24:48.432Z"
   },
   {
    "duration": 31,
    "start_time": "2023-07-20T16:24:48.438Z"
   },
   {
    "duration": 30,
    "start_time": "2023-07-20T16:24:48.471Z"
   },
   {
    "duration": 157,
    "start_time": "2023-07-20T16:24:48.503Z"
   },
   {
    "duration": 145,
    "start_time": "2023-07-20T16:24:48.667Z"
   },
   {
    "duration": 136,
    "start_time": "2023-07-20T16:24:48.813Z"
   },
   {
    "duration": 144,
    "start_time": "2023-07-20T16:24:48.951Z"
   },
   {
    "duration": 6,
    "start_time": "2023-07-20T16:24:49.097Z"
   },
   {
    "duration": 141,
    "start_time": "2023-07-20T16:24:49.105Z"
   },
   {
    "duration": 237,
    "start_time": "2023-07-20T16:24:49.248Z"
   },
   {
    "duration": 10,
    "start_time": "2023-07-20T16:26:07.230Z"
   },
   {
    "duration": 11,
    "start_time": "2023-07-20T16:26:09.338Z"
   },
   {
    "duration": 12,
    "start_time": "2023-07-20T16:26:21.384Z"
   },
   {
    "duration": 16,
    "start_time": "2023-07-20T16:26:41.087Z"
   },
   {
    "duration": 4,
    "start_time": "2023-07-20T16:34:20.892Z"
   },
   {
    "duration": 186,
    "start_time": "2023-07-20T16:42:44.461Z"
   },
   {
    "duration": 7,
    "start_time": "2023-07-20T16:43:02.571Z"
   },
   {
    "duration": 4,
    "start_time": "2023-07-20T16:46:31.169Z"
   },
   {
    "duration": 9,
    "start_time": "2023-07-20T16:46:34.179Z"
   },
   {
    "duration": 2871,
    "start_time": "2023-07-20T17:00:34.583Z"
   },
   {
    "duration": 148,
    "start_time": "2023-07-20T17:00:37.456Z"
   },
   {
    "duration": 14,
    "start_time": "2023-07-20T17:00:37.606Z"
   },
   {
    "duration": 8,
    "start_time": "2023-07-20T17:00:37.622Z"
   },
   {
    "duration": 8,
    "start_time": "2023-07-20T17:00:37.632Z"
   },
   {
    "duration": 14,
    "start_time": "2023-07-20T17:00:37.641Z"
   },
   {
    "duration": 14,
    "start_time": "2023-07-20T17:00:37.656Z"
   },
   {
    "duration": 4,
    "start_time": "2023-07-20T17:01:10.786Z"
   },
   {
    "duration": 12,
    "start_time": "2023-07-20T17:01:21.349Z"
   },
   {
    "duration": 13,
    "start_time": "2023-07-20T17:01:30.400Z"
   },
   {
    "duration": 4,
    "start_time": "2023-07-20T17:01:51.158Z"
   },
   {
    "duration": 14,
    "start_time": "2023-07-20T17:01:53.967Z"
   },
   {
    "duration": 4,
    "start_time": "2023-07-20T17:02:00.612Z"
   },
   {
    "duration": 5,
    "start_time": "2023-07-20T17:02:03.001Z"
   },
   {
    "duration": 15,
    "start_time": "2023-07-20T17:02:09.977Z"
   },
   {
    "duration": 139,
    "start_time": "2023-07-20T17:02:22.659Z"
   },
   {
    "duration": 133,
    "start_time": "2023-07-20T17:02:24.259Z"
   },
   {
    "duration": 121,
    "start_time": "2023-07-20T17:02:25.492Z"
   },
   {
    "duration": 145,
    "start_time": "2023-07-20T17:02:26.873Z"
   },
   {
    "duration": 7,
    "start_time": "2023-07-20T17:02:30.284Z"
   },
   {
    "duration": 133,
    "start_time": "2023-07-20T17:02:34.248Z"
   },
   {
    "duration": 224,
    "start_time": "2023-07-20T17:02:35.751Z"
   },
   {
    "duration": 5,
    "start_time": "2023-07-20T17:02:38.111Z"
   },
   {
    "duration": 10,
    "start_time": "2023-07-20T17:02:44.180Z"
   },
   {
    "duration": 12,
    "start_time": "2023-07-20T17:02:46.524Z"
   },
   {
    "duration": 11,
    "start_time": "2023-07-20T17:03:51.666Z"
   },
   {
    "duration": 6,
    "start_time": "2023-07-20T17:05:48.657Z"
   },
   {
    "duration": 5,
    "start_time": "2023-07-20T17:06:19.351Z"
   },
   {
    "duration": 27,
    "start_time": "2023-07-20T17:15:57.716Z"
   },
   {
    "duration": 11,
    "start_time": "2023-07-20T17:17:47.259Z"
   },
   {
    "duration": 1830,
    "start_time": "2023-07-21T09:09:54.624Z"
   },
   {
    "duration": 128,
    "start_time": "2023-07-21T09:09:56.456Z"
   },
   {
    "duration": 21,
    "start_time": "2023-07-21T09:09:56.586Z"
   },
   {
    "duration": 50,
    "start_time": "2023-07-21T09:09:56.609Z"
   },
   {
    "duration": 27,
    "start_time": "2023-07-21T09:09:56.661Z"
   },
   {
    "duration": 72,
    "start_time": "2023-07-21T09:09:56.690Z"
   },
   {
    "duration": 19,
    "start_time": "2023-07-21T09:09:56.764Z"
   },
   {
    "duration": 11,
    "start_time": "2023-07-21T09:09:56.785Z"
   },
   {
    "duration": 56,
    "start_time": "2023-07-21T09:09:56.797Z"
   },
   {
    "duration": 3,
    "start_time": "2023-07-21T09:09:56.855Z"
   },
   {
    "duration": 13,
    "start_time": "2023-07-21T09:09:56.860Z"
   },
   {
    "duration": 5,
    "start_time": "2023-07-21T09:09:56.874Z"
   },
   {
    "duration": 55,
    "start_time": "2023-07-21T09:09:56.880Z"
   },
   {
    "duration": 26,
    "start_time": "2023-07-21T09:09:56.938Z"
   },
   {
    "duration": 191,
    "start_time": "2023-07-21T09:09:56.966Z"
   },
   {
    "duration": 138,
    "start_time": "2023-07-21T09:09:57.159Z"
   },
   {
    "duration": 142,
    "start_time": "2023-07-21T09:09:57.300Z"
   },
   {
    "duration": 191,
    "start_time": "2023-07-21T09:09:57.444Z"
   },
   {
    "duration": 8,
    "start_time": "2023-07-21T09:09:57.637Z"
   },
   {
    "duration": 196,
    "start_time": "2023-07-21T09:09:57.647Z"
   },
   {
    "duration": 150,
    "start_time": "2023-07-21T09:09:57.844Z"
   },
   {
    "duration": 12,
    "start_time": "2023-07-21T09:09:57.996Z"
   },
   {
    "duration": 52,
    "start_time": "2023-07-21T09:09:58.009Z"
   },
   {
    "duration": 19,
    "start_time": "2023-07-21T09:09:58.063Z"
   },
   {
    "duration": 17,
    "start_time": "2023-07-21T09:09:58.084Z"
   },
   {
    "duration": 44,
    "start_time": "2023-07-21T09:09:58.102Z"
   },
   {
    "duration": 7,
    "start_time": "2023-07-21T09:09:58.148Z"
   },
   {
    "duration": 31,
    "start_time": "2023-07-21T09:09:58.158Z"
   },
   {
    "duration": 55,
    "start_time": "2023-07-21T09:09:58.191Z"
   },
   {
    "duration": 115,
    "start_time": "2023-07-21T09:15:04.565Z"
   },
   {
    "duration": 14,
    "start_time": "2023-07-21T09:15:11.571Z"
   },
   {
    "duration": 13,
    "start_time": "2023-07-21T09:18:08.668Z"
   },
   {
    "duration": 6,
    "start_time": "2023-07-21T09:35:13.858Z"
   },
   {
    "duration": 161,
    "start_time": "2023-07-21T09:36:13.490Z"
   },
   {
    "duration": 112,
    "start_time": "2023-07-21T09:36:22.466Z"
   },
   {
    "duration": 124,
    "start_time": "2023-07-21T09:37:21.950Z"
   },
   {
    "duration": 120,
    "start_time": "2023-07-21T09:37:56.913Z"
   },
   {
    "duration": 142,
    "start_time": "2023-07-21T09:38:35.499Z"
   },
   {
    "duration": 134,
    "start_time": "2023-07-21T09:40:46.247Z"
   },
   {
    "duration": 117,
    "start_time": "2023-07-21T09:41:00.021Z"
   },
   {
    "duration": 128,
    "start_time": "2023-07-21T09:41:08.995Z"
   },
   {
    "duration": 22,
    "start_time": "2023-07-21T09:54:23.561Z"
   },
   {
    "duration": 25,
    "start_time": "2023-07-21T09:59:33.488Z"
   },
   {
    "duration": 10,
    "start_time": "2023-07-21T10:21:42.044Z"
   },
   {
    "duration": 1659,
    "start_time": "2023-07-21T10:22:05.336Z"
   },
   {
    "duration": 60,
    "start_time": "2023-07-21T10:22:06.997Z"
   },
   {
    "duration": 11,
    "start_time": "2023-07-21T10:22:07.059Z"
   },
   {
    "duration": 16,
    "start_time": "2023-07-21T10:22:07.072Z"
   },
   {
    "duration": 14,
    "start_time": "2023-07-21T10:22:07.090Z"
   },
   {
    "duration": 14,
    "start_time": "2023-07-21T10:23:31.905Z"
   },
   {
    "duration": 27,
    "start_time": "2023-07-21T10:23:56.297Z"
   },
   {
    "duration": 11,
    "start_time": "2023-07-21T10:25:01.724Z"
   },
   {
    "duration": 1750,
    "start_time": "2023-07-21T10:35:05.359Z"
   },
   {
    "duration": 47,
    "start_time": "2023-07-21T10:35:07.110Z"
   },
   {
    "duration": 14,
    "start_time": "2023-07-21T10:35:07.158Z"
   },
   {
    "duration": 10,
    "start_time": "2023-07-21T10:35:07.174Z"
   },
   {
    "duration": 3,
    "start_time": "2023-07-21T10:35:07.186Z"
   },
   {
    "duration": 57,
    "start_time": "2023-07-21T10:35:07.191Z"
   },
   {
    "duration": 28,
    "start_time": "2023-07-21T10:35:07.249Z"
   },
   {
    "duration": 19,
    "start_time": "2023-07-21T10:35:07.279Z"
   },
   {
    "duration": 22,
    "start_time": "2023-07-21T10:35:07.304Z"
   },
   {
    "duration": 21,
    "start_time": "2023-07-21T10:35:07.328Z"
   },
   {
    "duration": 4,
    "start_time": "2023-07-21T10:35:07.351Z"
   },
   {
    "duration": 12,
    "start_time": "2023-07-21T10:35:07.356Z"
   },
   {
    "duration": 11,
    "start_time": "2023-07-21T10:35:07.370Z"
   },
   {
    "duration": 10,
    "start_time": "2023-07-21T10:35:07.385Z"
   },
   {
    "duration": 47,
    "start_time": "2023-07-21T10:35:07.397Z"
   },
   {
    "duration": 143,
    "start_time": "2023-07-21T10:35:07.445Z"
   },
   {
    "duration": 162,
    "start_time": "2023-07-21T10:35:07.590Z"
   },
   {
    "duration": 136,
    "start_time": "2023-07-21T10:35:07.754Z"
   },
   {
    "duration": 149,
    "start_time": "2023-07-21T10:35:07.892Z"
   },
   {
    "duration": 7,
    "start_time": "2023-07-21T10:35:08.043Z"
   },
   {
    "duration": 185,
    "start_time": "2023-07-21T10:35:08.052Z"
   },
   {
    "duration": 200,
    "start_time": "2023-07-21T10:35:08.239Z"
   },
   {
    "duration": 5,
    "start_time": "2023-07-21T10:35:08.441Z"
   },
   {
    "duration": 26,
    "start_time": "2023-07-21T10:35:08.447Z"
   },
   {
    "duration": 35,
    "start_time": "2023-07-21T10:35:08.474Z"
   },
   {
    "duration": 33,
    "start_time": "2023-07-21T10:35:08.512Z"
   },
   {
    "duration": 4,
    "start_time": "2023-07-21T10:35:08.547Z"
   },
   {
    "duration": 10,
    "start_time": "2023-07-21T10:35:08.553Z"
   },
   {
    "duration": 32,
    "start_time": "2023-07-21T10:35:08.565Z"
   },
   {
    "duration": 36,
    "start_time": "2023-07-21T10:35:08.598Z"
   },
   {
    "duration": 130,
    "start_time": "2023-07-21T10:35:08.636Z"
   },
   {
    "duration": 3753,
    "start_time": "2023-07-21T10:35:08.768Z"
   },
   {
    "duration": 5,
    "start_time": "2023-07-21T10:42:14.918Z"
   },
   {
    "duration": 129,
    "start_time": "2023-07-21T10:45:40.795Z"
   },
   {
    "duration": 10,
    "start_time": "2023-07-21T10:46:00.522Z"
   },
   {
    "duration": 7,
    "start_time": "2023-07-21T10:46:44.690Z"
   },
   {
    "duration": 7,
    "start_time": "2023-07-21T10:47:17.786Z"
   },
   {
    "duration": 7,
    "start_time": "2023-07-21T10:50:00.290Z"
   },
   {
    "duration": 17,
    "start_time": "2023-07-21T10:50:40.424Z"
   },
   {
    "duration": 10,
    "start_time": "2023-07-21T10:50:43.635Z"
   },
   {
    "duration": 14,
    "start_time": "2023-07-21T10:50:57.673Z"
   },
   {
    "duration": 11,
    "start_time": "2023-07-21T10:51:45.331Z"
   },
   {
    "duration": 10,
    "start_time": "2023-07-21T10:51:49.327Z"
   },
   {
    "duration": 8,
    "start_time": "2023-07-21T10:54:02.427Z"
   },
   {
    "duration": 4013,
    "start_time": "2023-07-21T10:55:31.928Z"
   },
   {
    "duration": 68003,
    "start_time": "2023-07-21T10:57:25.344Z"
   },
   {
    "duration": 2111,
    "start_time": "2023-07-21T11:03:02.940Z"
   },
   {
    "duration": 4380,
    "start_time": "2023-07-21T11:13:08.675Z"
   },
   {
    "duration": 4598,
    "start_time": "2023-07-21T11:13:35.027Z"
   },
   {
    "duration": 288162,
    "start_time": "2023-07-21T11:23:47.971Z"
   },
   {
    "duration": 2563,
    "start_time": "2023-07-21T11:29:54.062Z"
   },
   {
    "duration": 78378,
    "start_time": "2023-07-21T11:30:18.292Z"
   },
   {
    "duration": 196408,
    "start_time": "2023-07-21T11:36:05.064Z"
   },
   {
    "duration": 25586,
    "start_time": "2023-07-21T11:40:55.167Z"
   },
   {
    "duration": 1672,
    "start_time": "2023-07-22T16:17:14.967Z"
   },
   {
    "duration": 157,
    "start_time": "2023-07-22T16:17:16.641Z"
   },
   {
    "duration": 14,
    "start_time": "2023-07-22T16:17:16.800Z"
   },
   {
    "duration": 8,
    "start_time": "2023-07-22T16:17:16.817Z"
   },
   {
    "duration": 4,
    "start_time": "2023-07-22T16:17:16.827Z"
   },
   {
    "duration": 13,
    "start_time": "2023-07-22T16:17:16.832Z"
   },
   {
    "duration": 13,
    "start_time": "2023-07-22T16:17:16.846Z"
   },
   {
    "duration": 15,
    "start_time": "2023-07-22T16:17:16.861Z"
   },
   {
    "duration": 4,
    "start_time": "2023-07-22T16:17:16.878Z"
   },
   {
    "duration": 19,
    "start_time": "2023-07-22T16:17:16.885Z"
   },
   {
    "duration": 4,
    "start_time": "2023-07-22T16:17:16.906Z"
   },
   {
    "duration": 13,
    "start_time": "2023-07-22T16:17:16.912Z"
   },
   {
    "duration": 35,
    "start_time": "2023-07-22T16:17:16.927Z"
   },
   {
    "duration": 6,
    "start_time": "2023-07-22T16:17:16.964Z"
   },
   {
    "duration": 20,
    "start_time": "2023-07-22T16:17:16.972Z"
   },
   {
    "duration": 174,
    "start_time": "2023-07-22T16:17:16.993Z"
   },
   {
    "duration": 150,
    "start_time": "2023-07-22T16:17:17.168Z"
   },
   {
    "duration": 148,
    "start_time": "2023-07-22T16:17:17.319Z"
   },
   {
    "duration": 146,
    "start_time": "2023-07-22T16:17:17.469Z"
   },
   {
    "duration": 6,
    "start_time": "2023-07-22T16:17:17.616Z"
   },
   {
    "duration": 148,
    "start_time": "2023-07-22T16:17:17.624Z"
   },
   {
    "duration": 231,
    "start_time": "2023-07-22T16:17:17.774Z"
   },
   {
    "duration": 6,
    "start_time": "2023-07-22T16:17:18.007Z"
   },
   {
    "duration": 13,
    "start_time": "2023-07-22T16:17:18.014Z"
   },
   {
    "duration": 13,
    "start_time": "2023-07-22T16:17:18.028Z"
   },
   {
    "duration": 11,
    "start_time": "2023-07-22T16:17:18.059Z"
   },
   {
    "duration": 6,
    "start_time": "2023-07-22T16:17:18.072Z"
   },
   {
    "duration": 5,
    "start_time": "2023-07-22T16:17:18.081Z"
   },
   {
    "duration": 34,
    "start_time": "2023-07-22T16:17:18.087Z"
   },
   {
    "duration": 40,
    "start_time": "2023-07-22T16:17:18.123Z"
   },
   {
    "duration": 120,
    "start_time": "2023-07-22T16:17:18.165Z"
   },
   {
    "duration": 7,
    "start_time": "2023-07-22T16:17:18.286Z"
   },
   {
    "duration": 3731,
    "start_time": "2023-07-22T16:18:47.734Z"
   },
   {
    "duration": 121,
    "start_time": "2023-07-22T16:26:41.192Z"
   },
   {
    "duration": 15,
    "start_time": "2023-07-22T16:27:37.456Z"
   },
   {
    "duration": 7,
    "start_time": "2023-07-22T16:28:03.236Z"
   },
   {
    "duration": 25201,
    "start_time": "2023-07-22T16:33:29.638Z"
   },
   {
    "duration": 25660,
    "start_time": "2023-07-22T16:34:29.827Z"
   },
   {
    "duration": 269168,
    "start_time": "2023-07-22T16:35:52.974Z"
   },
   {
    "duration": 264780,
    "start_time": "2023-07-22T16:43:12.770Z"
   },
   {
    "duration": 12656,
    "start_time": "2023-07-22T16:58:24.017Z"
   },
   {
    "duration": 12276,
    "start_time": "2023-07-22T17:00:21.202Z"
   },
   {
    "duration": 36326,
    "start_time": "2023-07-22T17:01:10.684Z"
   },
   {
    "duration": 14106,
    "start_time": "2023-07-22T17:05:11.363Z"
   },
   {
    "duration": 120,
    "start_time": "2023-07-22T17:36:02.076Z"
   },
   {
    "duration": 117,
    "start_time": "2023-07-22T17:36:52.765Z"
   },
   {
    "duration": 131,
    "start_time": "2023-07-22T17:40:13.165Z"
   },
   {
    "duration": 238,
    "start_time": "2023-07-22T18:06:47.365Z"
   },
   {
    "duration": 145,
    "start_time": "2023-07-22T18:10:05.156Z"
   },
   {
    "duration": 3,
    "start_time": "2023-07-22T18:10:31.831Z"
   },
   {
    "duration": 266,
    "start_time": "2023-07-22T18:10:37.955Z"
   },
   {
    "duration": 134,
    "start_time": "2023-07-22T18:11:25.412Z"
   },
   {
    "duration": 104,
    "start_time": "2023-07-22T18:11:58.773Z"
   },
   {
    "duration": 109,
    "start_time": "2023-07-22T18:12:07.508Z"
   },
   {
    "duration": 238,
    "start_time": "2023-07-22T18:12:10.512Z"
   },
   {
    "duration": 142,
    "start_time": "2023-07-22T18:12:28.845Z"
   },
   {
    "duration": 245,
    "start_time": "2023-07-22T18:12:45.476Z"
   },
   {
    "duration": 141,
    "start_time": "2023-07-22T18:20:29.091Z"
   },
   {
    "duration": 3658,
    "start_time": "2023-07-22T18:29:45.212Z"
   },
   {
    "duration": 359,
    "start_time": "2023-07-22T18:30:50.204Z"
   },
   {
    "duration": 344,
    "start_time": "2023-07-22T18:49:16.202Z"
   },
   {
    "duration": 1764,
    "start_time": "2023-07-23T10:09:08.663Z"
   },
   {
    "duration": 173,
    "start_time": "2023-07-23T10:09:10.429Z"
   },
   {
    "duration": 17,
    "start_time": "2023-07-23T10:09:10.604Z"
   },
   {
    "duration": 13,
    "start_time": "2023-07-23T10:09:10.624Z"
   },
   {
    "duration": 5,
    "start_time": "2023-07-23T10:09:10.639Z"
   },
   {
    "duration": 23,
    "start_time": "2023-07-23T10:09:10.646Z"
   },
   {
    "duration": 25,
    "start_time": "2023-07-23T10:09:10.672Z"
   },
   {
    "duration": 30,
    "start_time": "2023-07-23T10:09:10.699Z"
   },
   {
    "duration": 15,
    "start_time": "2023-07-23T10:09:10.731Z"
   },
   {
    "duration": 37,
    "start_time": "2023-07-23T10:09:10.748Z"
   },
   {
    "duration": 4,
    "start_time": "2023-07-23T10:09:10.788Z"
   },
   {
    "duration": 30,
    "start_time": "2023-07-23T10:09:10.794Z"
   },
   {
    "duration": 5,
    "start_time": "2023-07-23T10:09:10.827Z"
   },
   {
    "duration": 6,
    "start_time": "2023-07-23T10:09:10.838Z"
   },
   {
    "duration": 60,
    "start_time": "2023-07-23T10:09:10.847Z"
   },
   {
    "duration": 209,
    "start_time": "2023-07-23T10:09:10.917Z"
   },
   {
    "duration": 182,
    "start_time": "2023-07-23T10:09:11.128Z"
   },
   {
    "duration": 174,
    "start_time": "2023-07-23T10:09:11.313Z"
   },
   {
    "duration": 171,
    "start_time": "2023-07-23T10:09:11.488Z"
   },
   {
    "duration": 14,
    "start_time": "2023-07-23T10:09:11.661Z"
   },
   {
    "duration": 169,
    "start_time": "2023-07-23T10:09:11.680Z"
   },
   {
    "duration": 289,
    "start_time": "2023-07-23T10:09:11.852Z"
   },
   {
    "duration": 8,
    "start_time": "2023-07-23T10:09:12.143Z"
   },
   {
    "duration": 28,
    "start_time": "2023-07-23T10:09:12.153Z"
   },
   {
    "duration": 12,
    "start_time": "2023-07-23T10:09:12.183Z"
   },
   {
    "duration": 11,
    "start_time": "2023-07-23T10:09:12.197Z"
   },
   {
    "duration": 8,
    "start_time": "2023-07-23T10:09:12.210Z"
   },
   {
    "duration": 14,
    "start_time": "2023-07-23T10:09:12.220Z"
   },
   {
    "duration": 66,
    "start_time": "2023-07-23T10:09:12.236Z"
   },
   {
    "duration": 14,
    "start_time": "2023-07-23T10:09:12.305Z"
   },
   {
    "duration": 183,
    "start_time": "2023-07-23T10:09:12.321Z"
   },
   {
    "duration": 8,
    "start_time": "2023-07-23T10:09:12.507Z"
   },
   {
    "duration": 4306,
    "start_time": "2023-07-23T10:09:12.516Z"
   },
   {
    "duration": 174,
    "start_time": "2023-07-23T10:09:16.824Z"
   },
   {
    "duration": 16370,
    "start_time": "2023-07-23T10:09:17.000Z"
   },
   {
    "duration": 304,
    "start_time": "2023-07-23T10:09:33.376Z"
   },
   {
    "duration": 525,
    "start_time": "2023-07-23T10:09:33.682Z"
   },
   {
    "duration": 182,
    "start_time": "2023-07-23T10:25:01.712Z"
   },
   {
    "duration": 173,
    "start_time": "2023-07-23T10:27:24.572Z"
   },
   {
    "duration": 201,
    "start_time": "2023-07-23T10:27:46.582Z"
   },
   {
    "duration": 179,
    "start_time": "2023-07-23T10:37:26.259Z"
   },
   {
    "duration": 384,
    "start_time": "2023-07-23T10:38:11.907Z"
   },
   {
    "duration": 447,
    "start_time": "2023-07-23T10:47:17.558Z"
   },
   {
    "duration": 12,
    "start_time": "2023-07-23T11:14:27.216Z"
   },
   {
    "duration": 151,
    "start_time": "2023-07-23T11:20:14.907Z"
   },
   {
    "duration": 273,
    "start_time": "2023-07-23T11:20:27.040Z"
   },
   {
    "duration": 225,
    "start_time": "2023-07-23T11:27:54.326Z"
   },
   {
    "duration": 1712,
    "start_time": "2023-07-23T11:31:56.313Z"
   },
   {
    "duration": 45,
    "start_time": "2023-07-23T11:31:58.027Z"
   },
   {
    "duration": 21,
    "start_time": "2023-07-23T11:31:58.074Z"
   },
   {
    "duration": 29,
    "start_time": "2023-07-23T11:31:58.097Z"
   },
   {
    "duration": 5,
    "start_time": "2023-07-23T11:31:58.128Z"
   },
   {
    "duration": 14,
    "start_time": "2023-07-23T11:31:58.135Z"
   },
   {
    "duration": 12,
    "start_time": "2023-07-23T11:31:58.151Z"
   },
   {
    "duration": 29,
    "start_time": "2023-07-23T11:31:58.171Z"
   },
   {
    "duration": 12,
    "start_time": "2023-07-23T11:31:58.202Z"
   },
   {
    "duration": 39,
    "start_time": "2023-07-23T11:31:58.217Z"
   },
   {
    "duration": 4,
    "start_time": "2023-07-23T11:31:58.258Z"
   },
   {
    "duration": 36,
    "start_time": "2023-07-23T11:31:58.264Z"
   },
   {
    "duration": 5,
    "start_time": "2023-07-23T11:31:58.302Z"
   },
   {
    "duration": 15,
    "start_time": "2023-07-23T11:31:58.309Z"
   },
   {
    "duration": 32,
    "start_time": "2023-07-23T11:31:58.326Z"
   },
   {
    "duration": 201,
    "start_time": "2023-07-23T11:31:58.360Z"
   },
   {
    "duration": 218,
    "start_time": "2023-07-23T11:31:58.567Z"
   },
   {
    "duration": 187,
    "start_time": "2023-07-23T11:31:58.788Z"
   },
   {
    "duration": 172,
    "start_time": "2023-07-23T11:31:58.978Z"
   },
   {
    "duration": 18,
    "start_time": "2023-07-23T11:31:59.152Z"
   },
   {
    "duration": 173,
    "start_time": "2023-07-23T11:31:59.175Z"
   },
   {
    "duration": 292,
    "start_time": "2023-07-23T11:31:59.350Z"
   },
   {
    "duration": 9,
    "start_time": "2023-07-23T11:31:59.644Z"
   },
   {
    "duration": 29,
    "start_time": "2023-07-23T11:31:59.656Z"
   },
   {
    "duration": 18,
    "start_time": "2023-07-23T11:31:59.692Z"
   },
   {
    "duration": 15,
    "start_time": "2023-07-23T11:31:59.712Z"
   },
   {
    "duration": 6,
    "start_time": "2023-07-23T11:31:59.730Z"
   },
   {
    "duration": 33,
    "start_time": "2023-07-23T11:31:59.741Z"
   },
   {
    "duration": 39,
    "start_time": "2023-07-23T11:31:59.781Z"
   },
   {
    "duration": 14,
    "start_time": "2023-07-23T11:31:59.822Z"
   },
   {
    "duration": 165,
    "start_time": "2023-07-23T11:31:59.838Z"
   },
   {
    "duration": 10,
    "start_time": "2023-07-23T11:32:00.004Z"
   },
   {
    "duration": 4752,
    "start_time": "2023-07-23T11:32:00.016Z"
   },
   {
    "duration": 205,
    "start_time": "2023-07-23T11:32:04.770Z"
   },
   {
    "duration": 17401,
    "start_time": "2023-07-23T11:32:04.978Z"
   },
   {
    "duration": 359,
    "start_time": "2023-07-23T11:32:22.391Z"
   },
   {
    "duration": 443,
    "start_time": "2023-07-23T11:32:22.752Z"
   },
   {
    "duration": 199,
    "start_time": "2023-07-23T11:32:23.201Z"
   },
   {
    "duration": 405,
    "start_time": "2023-07-23T11:32:23.402Z"
   },
   {
    "duration": 409,
    "start_time": "2023-07-23T11:32:23.809Z"
   },
   {
    "duration": 15,
    "start_time": "2023-07-23T11:32:24.221Z"
   },
   {
    "duration": 181,
    "start_time": "2023-07-23T11:32:24.238Z"
   },
   {
    "duration": 199,
    "start_time": "2023-07-23T11:34:17.662Z"
   },
   {
    "duration": 192,
    "start_time": "2023-07-23T11:34:56.346Z"
   },
   {
    "duration": 130,
    "start_time": "2023-07-23T11:35:19.601Z"
   },
   {
    "duration": 306,
    "start_time": "2023-07-23T11:39:41.245Z"
   },
   {
    "duration": 539,
    "start_time": "2023-07-23T11:45:48.967Z"
   },
   {
    "duration": 439,
    "start_time": "2023-07-23T11:48:20.502Z"
   },
   {
    "duration": 413,
    "start_time": "2023-07-23T11:58:00.584Z"
   },
   {
    "duration": 443,
    "start_time": "2023-07-23T11:58:54.244Z"
   },
   {
    "duration": 223,
    "start_time": "2023-07-23T11:59:33.107Z"
   },
   {
    "duration": 474,
    "start_time": "2023-07-23T11:59:54.405Z"
   },
   {
    "duration": 354,
    "start_time": "2023-07-23T12:00:24.338Z"
   },
   {
    "duration": 262,
    "start_time": "2023-07-23T12:03:15.295Z"
   },
   {
    "duration": 355,
    "start_time": "2023-07-23T12:13:04.347Z"
   },
   {
    "duration": 350,
    "start_time": "2023-07-23T12:14:25.590Z"
   },
   {
    "duration": 187,
    "start_time": "2023-07-23T12:15:17.450Z"
   },
   {
    "duration": 1747,
    "start_time": "2023-07-23T12:20:50.391Z"
   },
   {
    "duration": 54,
    "start_time": "2023-07-23T12:20:52.141Z"
   },
   {
    "duration": 17,
    "start_time": "2023-07-23T12:20:52.199Z"
   },
   {
    "duration": 19,
    "start_time": "2023-07-23T12:20:52.219Z"
   },
   {
    "duration": 10,
    "start_time": "2023-07-23T12:20:52.240Z"
   },
   {
    "duration": 27,
    "start_time": "2023-07-23T12:20:52.252Z"
   },
   {
    "duration": 27,
    "start_time": "2023-07-23T12:20:52.288Z"
   },
   {
    "duration": 17,
    "start_time": "2023-07-23T12:20:52.317Z"
   },
   {
    "duration": 29,
    "start_time": "2023-07-23T12:20:52.338Z"
   },
   {
    "duration": 64,
    "start_time": "2023-07-23T12:20:52.372Z"
   },
   {
    "duration": 5,
    "start_time": "2023-07-23T12:20:52.439Z"
   },
   {
    "duration": 53,
    "start_time": "2023-07-23T12:20:52.446Z"
   },
   {
    "duration": 7,
    "start_time": "2023-07-23T12:20:52.501Z"
   },
   {
    "duration": 42,
    "start_time": "2023-07-23T12:20:52.510Z"
   },
   {
    "duration": 53,
    "start_time": "2023-07-23T12:20:52.554Z"
   },
   {
    "duration": 202,
    "start_time": "2023-07-23T12:20:52.609Z"
   },
   {
    "duration": 208,
    "start_time": "2023-07-23T12:20:52.814Z"
   },
   {
    "duration": 196,
    "start_time": "2023-07-23T12:20:53.024Z"
   },
   {
    "duration": 220,
    "start_time": "2023-07-23T12:20:53.228Z"
   },
   {
    "duration": 16,
    "start_time": "2023-07-23T12:20:53.451Z"
   },
   {
    "duration": 214,
    "start_time": "2023-07-23T12:20:53.469Z"
   },
   {
    "duration": 312,
    "start_time": "2023-07-23T12:20:53.685Z"
   },
   {
    "duration": 17,
    "start_time": "2023-07-23T12:20:53.998Z"
   },
   {
    "duration": 31,
    "start_time": "2023-07-23T12:20:54.017Z"
   },
   {
    "duration": 28,
    "start_time": "2023-07-23T12:20:54.051Z"
   },
   {
    "duration": 30,
    "start_time": "2023-07-23T12:20:54.082Z"
   },
   {
    "duration": 7,
    "start_time": "2023-07-23T12:20:54.116Z"
   },
   {
    "duration": 6,
    "start_time": "2023-07-23T12:20:54.129Z"
   },
   {
    "duration": 76,
    "start_time": "2023-07-23T12:20:54.138Z"
   },
   {
    "duration": 23,
    "start_time": "2023-07-23T12:20:54.216Z"
   },
   {
    "duration": 224,
    "start_time": "2023-07-23T12:20:54.241Z"
   },
   {
    "duration": 12,
    "start_time": "2023-07-23T12:20:54.467Z"
   },
   {
    "duration": 4753,
    "start_time": "2023-07-23T12:20:54.495Z"
   },
   {
    "duration": 215,
    "start_time": "2023-07-23T12:20:59.255Z"
   },
   {
    "duration": 17762,
    "start_time": "2023-07-23T12:20:59.477Z"
   },
   {
    "duration": 325,
    "start_time": "2023-07-23T12:21:17.243Z"
   },
   {
    "duration": 367,
    "start_time": "2023-07-23T12:21:17.571Z"
   },
   {
    "duration": 186,
    "start_time": "2023-07-23T12:21:17.940Z"
   },
   {
    "duration": 386,
    "start_time": "2023-07-23T12:21:18.128Z"
   },
   {
    "duration": 419,
    "start_time": "2023-07-23T12:21:18.515Z"
   },
   {
    "duration": 15,
    "start_time": "2023-07-23T12:21:18.936Z"
   },
   {
    "duration": 148,
    "start_time": "2023-07-23T12:21:18.954Z"
   },
   {
    "duration": 181,
    "start_time": "2023-07-23T12:21:19.104Z"
   },
   {
    "duration": 400,
    "start_time": "2023-07-23T12:21:37.953Z"
   },
   {
    "duration": 403,
    "start_time": "2023-07-23T12:28:05.188Z"
   },
   {
    "duration": 542,
    "start_time": "2023-07-23T12:30:17.617Z"
   },
   {
    "duration": 17215,
    "start_time": "2023-07-23T12:34:05.579Z"
   },
   {
    "duration": 17264,
    "start_time": "2023-07-23T12:45:49.866Z"
   },
   {
    "duration": 19915,
    "start_time": "2023-07-23T12:48:54.706Z"
   },
   {
    "duration": 455,
    "start_time": "2023-07-23T13:13:29.725Z"
   },
   {
    "duration": 435,
    "start_time": "2023-07-23T13:15:40.612Z"
   },
   {
    "duration": 115,
    "start_time": "2023-07-23T15:45:32.650Z"
   },
   {
    "duration": 1726,
    "start_time": "2023-07-24T06:48:01.149Z"
   },
   {
    "duration": 343,
    "start_time": "2023-07-24T06:48:02.877Z"
   },
   {
    "duration": 14,
    "start_time": "2023-07-24T06:48:03.221Z"
   },
   {
    "duration": 20,
    "start_time": "2023-07-24T06:48:03.237Z"
   },
   {
    "duration": 5,
    "start_time": "2023-07-24T06:48:03.259Z"
   },
   {
    "duration": 19,
    "start_time": "2023-07-24T06:48:03.265Z"
   },
   {
    "duration": 11,
    "start_time": "2023-07-24T06:48:03.285Z"
   },
   {
    "duration": 14,
    "start_time": "2023-07-24T06:48:03.297Z"
   },
   {
    "duration": 3,
    "start_time": "2023-07-24T06:48:03.312Z"
   },
   {
    "duration": 15,
    "start_time": "2023-07-24T06:48:03.317Z"
   },
   {
    "duration": 4,
    "start_time": "2023-07-24T06:48:03.333Z"
   },
   {
    "duration": 12,
    "start_time": "2023-07-24T06:48:03.338Z"
   },
   {
    "duration": 4,
    "start_time": "2023-07-24T06:48:03.368Z"
   },
   {
    "duration": 24,
    "start_time": "2023-07-24T06:48:03.374Z"
   },
   {
    "duration": 21,
    "start_time": "2023-07-24T06:48:03.399Z"
   },
   {
    "duration": 135,
    "start_time": "2023-07-24T06:48:03.421Z"
   },
   {
    "duration": 140,
    "start_time": "2023-07-24T06:48:03.557Z"
   },
   {
    "duration": 146,
    "start_time": "2023-07-24T06:48:21.614Z"
   },
   {
    "duration": 133,
    "start_time": "2023-07-24T06:48:29.461Z"
   },
   {
    "duration": 130,
    "start_time": "2023-07-24T06:48:34.855Z"
   },
   {
    "duration": 196,
    "start_time": "2023-07-24T06:48:38.764Z"
   },
   {
    "duration": 120,
    "start_time": "2023-07-24T06:48:44.709Z"
   },
   {
    "duration": 1425,
    "start_time": "2023-07-24T06:49:57.796Z"
   },
   {
    "duration": 41,
    "start_time": "2023-07-24T06:49:59.224Z"
   },
   {
    "duration": 13,
    "start_time": "2023-07-24T06:49:59.267Z"
   },
   {
    "duration": 18,
    "start_time": "2023-07-24T06:49:59.282Z"
   },
   {
    "duration": 5,
    "start_time": "2023-07-24T06:50:13.010Z"
   },
   {
    "duration": 8,
    "start_time": "2023-07-24T06:51:40.599Z"
   },
   {
    "duration": 109,
    "start_time": "2023-07-24T06:53:26.449Z"
   },
   {
    "duration": 154,
    "start_time": "2023-07-24T06:53:34.280Z"
   },
   {
    "duration": 12,
    "start_time": "2023-07-24T06:53:50.545Z"
   },
   {
    "duration": 10,
    "start_time": "2023-07-24T06:54:08.239Z"
   },
   {
    "duration": 12,
    "start_time": "2023-07-24T06:55:07.360Z"
   },
   {
    "duration": 10,
    "start_time": "2023-07-24T06:55:25.418Z"
   },
   {
    "duration": 11,
    "start_time": "2023-07-24T06:55:40.183Z"
   },
   {
    "duration": 94,
    "start_time": "2023-07-24T06:56:50.401Z"
   },
   {
    "duration": 12,
    "start_time": "2023-07-24T06:56:54.974Z"
   },
   {
    "duration": 13,
    "start_time": "2023-07-24T06:56:56.377Z"
   },
   {
    "duration": 4,
    "start_time": "2023-07-24T06:57:03.000Z"
   },
   {
    "duration": 13,
    "start_time": "2023-07-24T06:57:04.560Z"
   },
   {
    "duration": 5,
    "start_time": "2023-07-24T06:57:06.911Z"
   },
   {
    "duration": 12,
    "start_time": "2023-07-24T06:57:10.320Z"
   },
   {
    "duration": 4,
    "start_time": "2023-07-24T06:57:12.000Z"
   },
   {
    "duration": 5,
    "start_time": "2023-07-24T06:57:13.527Z"
   },
   {
    "duration": 15,
    "start_time": "2023-07-24T06:57:15.752Z"
   },
   {
    "duration": 156,
    "start_time": "2023-07-24T06:57:22.096Z"
   },
   {
    "duration": 132,
    "start_time": "2023-07-24T06:57:25.359Z"
   },
   {
    "duration": 127,
    "start_time": "2023-07-24T06:57:27.552Z"
   },
   {
    "duration": 128,
    "start_time": "2023-07-24T06:57:31.233Z"
   },
   {
    "duration": 1561,
    "start_time": "2023-07-24T09:29:13.879Z"
   },
   {
    "duration": 5,
    "start_time": "2023-07-24T09:29:59.857Z"
   },
   {
    "duration": 55,
    "start_time": "2023-07-24T09:29:59.864Z"
   },
   {
    "duration": 13,
    "start_time": "2023-07-24T09:29:59.921Z"
   },
   {
    "duration": 10,
    "start_time": "2023-07-24T09:29:59.936Z"
   },
   {
    "duration": 15,
    "start_time": "2023-07-24T09:29:59.947Z"
   },
   {
    "duration": 24,
    "start_time": "2023-07-24T09:29:59.963Z"
   },
   {
    "duration": 45,
    "start_time": "2023-07-24T09:29:59.989Z"
   },
   {
    "duration": 46,
    "start_time": "2023-07-24T09:30:00.036Z"
   },
   {
    "duration": 21,
    "start_time": "2023-07-24T09:30:00.085Z"
   },
   {
    "duration": 37,
    "start_time": "2023-07-24T09:30:00.108Z"
   },
   {
    "duration": 19,
    "start_time": "2023-07-24T09:35:19.648Z"
   },
   {
    "duration": 106,
    "start_time": "2023-07-24T09:35:32.415Z"
   },
   {
    "duration": 4,
    "start_time": "2023-07-24T09:35:44.552Z"
   },
   {
    "duration": 142,
    "start_time": "2023-07-24T09:37:57.535Z"
   },
   {
    "duration": 1436,
    "start_time": "2023-07-24T09:39:09.240Z"
   },
   {
    "duration": 39,
    "start_time": "2023-07-24T09:39:10.678Z"
   },
   {
    "duration": 12,
    "start_time": "2023-07-24T09:39:10.719Z"
   },
   {
    "duration": 8,
    "start_time": "2023-07-24T09:39:10.733Z"
   },
   {
    "duration": 5,
    "start_time": "2023-07-24T09:39:10.743Z"
   },
   {
    "duration": 20,
    "start_time": "2023-07-24T09:39:10.750Z"
   },
   {
    "duration": 10,
    "start_time": "2023-07-24T09:39:10.772Z"
   },
   {
    "duration": 13,
    "start_time": "2023-07-24T09:39:10.783Z"
   },
   {
    "duration": 4,
    "start_time": "2023-07-24T09:39:10.797Z"
   },
   {
    "duration": 19,
    "start_time": "2023-07-24T09:39:10.803Z"
   },
   {
    "duration": 7,
    "start_time": "2023-07-24T09:39:10.823Z"
   },
   {
    "duration": 24,
    "start_time": "2023-07-24T09:39:10.831Z"
   },
   {
    "duration": 12,
    "start_time": "2023-07-24T09:39:10.857Z"
   },
   {
    "duration": 22,
    "start_time": "2023-07-24T09:39:10.870Z"
   },
   {
    "duration": 27,
    "start_time": "2023-07-24T09:39:10.893Z"
   },
   {
    "duration": 149,
    "start_time": "2023-07-24T09:39:10.922Z"
   },
   {
    "duration": 149,
    "start_time": "2023-07-24T09:39:11.072Z"
   },
   {
    "duration": 135,
    "start_time": "2023-07-24T09:39:11.223Z"
   },
   {
    "duration": 134,
    "start_time": "2023-07-24T09:39:11.359Z"
   },
   {
    "duration": 5,
    "start_time": "2023-07-24T09:39:11.495Z"
   },
   {
    "duration": 137,
    "start_time": "2023-07-24T09:39:11.502Z"
   },
   {
    "duration": 208,
    "start_time": "2023-07-24T09:39:11.641Z"
   },
   {
    "duration": 5,
    "start_time": "2023-07-24T09:39:11.851Z"
   },
   {
    "duration": 13,
    "start_time": "2023-07-24T09:40:24.639Z"
   },
   {
    "duration": 10,
    "start_time": "2023-07-24T09:42:09.021Z"
   },
   {
    "duration": 10,
    "start_time": "2023-07-24T09:42:18.888Z"
   },
   {
    "duration": 13,
    "start_time": "2023-07-24T09:42:23.598Z"
   },
   {
    "duration": 120,
    "start_time": "2023-07-24T09:42:54.487Z"
   },
   {
    "duration": 19,
    "start_time": "2023-07-24T09:42:59.431Z"
   },
   {
    "duration": 13,
    "start_time": "2023-07-24T09:43:14.949Z"
   },
   {
    "duration": 14,
    "start_time": "2023-07-24T09:44:04.870Z"
   },
   {
    "duration": 1366,
    "start_time": "2023-07-24T09:44:11.967Z"
   },
   {
    "duration": 42,
    "start_time": "2023-07-24T09:44:13.335Z"
   },
   {
    "duration": 16,
    "start_time": "2023-07-24T09:44:13.379Z"
   },
   {
    "duration": 19,
    "start_time": "2023-07-24T09:44:13.398Z"
   },
   {
    "duration": 6,
    "start_time": "2023-07-24T09:44:13.418Z"
   },
   {
    "duration": 17,
    "start_time": "2023-07-24T09:44:13.426Z"
   },
   {
    "duration": 23,
    "start_time": "2023-07-24T09:44:13.445Z"
   },
   {
    "duration": 16,
    "start_time": "2023-07-24T09:44:13.470Z"
   },
   {
    "duration": 3,
    "start_time": "2023-07-24T09:44:13.488Z"
   },
   {
    "duration": 23,
    "start_time": "2023-07-24T09:44:13.494Z"
   },
   {
    "duration": 4,
    "start_time": "2023-07-24T09:44:13.518Z"
   },
   {
    "duration": 18,
    "start_time": "2023-07-24T09:44:13.523Z"
   },
   {
    "duration": 28,
    "start_time": "2023-07-24T09:44:13.543Z"
   },
   {
    "duration": 11,
    "start_time": "2023-07-24T09:44:13.573Z"
   },
   {
    "duration": 50,
    "start_time": "2023-07-24T09:44:13.586Z"
   },
   {
    "duration": 164,
    "start_time": "2023-07-24T09:44:13.637Z"
   },
   {
    "duration": 146,
    "start_time": "2023-07-24T09:44:13.803Z"
   },
   {
    "duration": 185,
    "start_time": "2023-07-24T09:44:13.956Z"
   },
   {
    "duration": 194,
    "start_time": "2023-07-24T09:44:14.143Z"
   },
   {
    "duration": 9,
    "start_time": "2023-07-24T09:44:14.338Z"
   },
   {
    "duration": 143,
    "start_time": "2023-07-24T09:44:14.349Z"
   },
   {
    "duration": 208,
    "start_time": "2023-07-24T09:44:14.494Z"
   },
   {
    "duration": 6,
    "start_time": "2023-07-24T09:44:14.704Z"
   },
   {
    "duration": 19,
    "start_time": "2023-07-24T09:44:26.338Z"
   },
   {
    "duration": 26,
    "start_time": "2023-07-24T09:45:49.052Z"
   },
   {
    "duration": 1113,
    "start_time": "2023-07-24T09:47:00.700Z"
   },
   {
    "duration": 16,
    "start_time": "2023-07-24T09:47:16.019Z"
   },
   {
    "duration": 21,
    "start_time": "2023-07-24T09:47:19.092Z"
   },
   {
    "duration": 1468,
    "start_time": "2023-07-24T09:47:35.533Z"
   },
   {
    "duration": 39,
    "start_time": "2023-07-24T09:47:37.003Z"
   },
   {
    "duration": 13,
    "start_time": "2023-07-24T09:47:37.044Z"
   },
   {
    "duration": 9,
    "start_time": "2023-07-24T09:47:37.059Z"
   },
   {
    "duration": 8,
    "start_time": "2023-07-24T09:47:37.069Z"
   },
   {
    "duration": 13,
    "start_time": "2023-07-24T09:47:37.079Z"
   },
   {
    "duration": 14,
    "start_time": "2023-07-24T09:47:37.094Z"
   },
   {
    "duration": 14,
    "start_time": "2023-07-24T09:47:37.110Z"
   },
   {
    "duration": 4,
    "start_time": "2023-07-24T09:47:37.125Z"
   },
   {
    "duration": 37,
    "start_time": "2023-07-24T09:47:37.131Z"
   },
   {
    "duration": 4,
    "start_time": "2023-07-24T09:47:37.170Z"
   },
   {
    "duration": 16,
    "start_time": "2023-07-24T09:47:37.175Z"
   },
   {
    "duration": 4,
    "start_time": "2023-07-24T09:47:37.192Z"
   },
   {
    "duration": 18,
    "start_time": "2023-07-24T09:47:37.198Z"
   },
   {
    "duration": 23,
    "start_time": "2023-07-24T09:47:37.217Z"
   },
   {
    "duration": 167,
    "start_time": "2023-07-24T09:47:37.242Z"
   },
   {
    "duration": 145,
    "start_time": "2023-07-24T09:47:37.410Z"
   },
   {
    "duration": 132,
    "start_time": "2023-07-24T09:47:37.556Z"
   },
   {
    "duration": 145,
    "start_time": "2023-07-24T09:47:37.690Z"
   },
   {
    "duration": 6,
    "start_time": "2023-07-24T09:47:37.836Z"
   },
   {
    "duration": 138,
    "start_time": "2023-07-24T09:47:37.844Z"
   },
   {
    "duration": 205,
    "start_time": "2023-07-24T09:47:37.983Z"
   },
   {
    "duration": 5,
    "start_time": "2023-07-24T09:47:38.190Z"
   },
   {
    "duration": 16,
    "start_time": "2023-07-24T09:47:38.197Z"
   },
   {
    "duration": 18,
    "start_time": "2023-07-24T09:47:41.748Z"
   },
   {
    "duration": 14,
    "start_time": "2023-07-24T09:48:52.192Z"
   },
   {
    "duration": 1351,
    "start_time": "2023-07-24T09:49:20.410Z"
   },
   {
    "duration": 41,
    "start_time": "2023-07-24T09:49:21.763Z"
   },
   {
    "duration": 13,
    "start_time": "2023-07-24T09:49:21.806Z"
   },
   {
    "duration": 8,
    "start_time": "2023-07-24T09:49:21.822Z"
   },
   {
    "duration": 27,
    "start_time": "2023-07-24T09:49:21.831Z"
   },
   {
    "duration": 17,
    "start_time": "2023-07-24T09:49:21.860Z"
   },
   {
    "duration": 50,
    "start_time": "2023-07-24T09:49:21.878Z"
   },
   {
    "duration": 27,
    "start_time": "2023-07-24T09:49:21.930Z"
   },
   {
    "duration": 10,
    "start_time": "2023-07-24T09:49:21.959Z"
   },
   {
    "duration": 32,
    "start_time": "2023-07-24T09:49:21.972Z"
   },
   {
    "duration": 11,
    "start_time": "2023-07-24T09:49:22.006Z"
   },
   {
    "duration": 27,
    "start_time": "2023-07-24T09:49:22.018Z"
   },
   {
    "duration": 5,
    "start_time": "2023-07-24T09:49:22.047Z"
   },
   {
    "duration": 7,
    "start_time": "2023-07-24T09:49:22.054Z"
   },
   {
    "duration": 23,
    "start_time": "2023-07-24T09:49:22.063Z"
   },
   {
    "duration": 143,
    "start_time": "2023-07-24T09:49:22.088Z"
   },
   {
    "duration": 136,
    "start_time": "2023-07-24T09:49:22.233Z"
   },
   {
    "duration": 134,
    "start_time": "2023-07-24T09:49:22.371Z"
   },
   {
    "duration": 135,
    "start_time": "2023-07-24T09:49:22.506Z"
   },
   {
    "duration": 6,
    "start_time": "2023-07-24T09:49:22.643Z"
   },
   {
    "duration": 140,
    "start_time": "2023-07-24T09:49:22.650Z"
   },
   {
    "duration": 206,
    "start_time": "2023-07-24T09:49:22.791Z"
   },
   {
    "duration": 6,
    "start_time": "2023-07-24T09:49:22.998Z"
   },
   {
    "duration": 35,
    "start_time": "2023-07-24T09:55:04.745Z"
   },
   {
    "duration": 26,
    "start_time": "2023-07-24T09:55:15.501Z"
   },
   {
    "duration": 22,
    "start_time": "2023-07-24T09:57:02.696Z"
   },
   {
    "duration": 1398,
    "start_time": "2023-07-24T09:57:38.594Z"
   },
   {
    "duration": 40,
    "start_time": "2023-07-24T09:57:39.994Z"
   },
   {
    "duration": 16,
    "start_time": "2023-07-24T09:57:40.036Z"
   },
   {
    "duration": 32,
    "start_time": "2023-07-24T09:57:40.054Z"
   },
   {
    "duration": 18,
    "start_time": "2023-07-24T09:57:40.089Z"
   },
   {
    "duration": 24,
    "start_time": "2023-07-24T09:57:40.109Z"
   },
   {
    "duration": 26,
    "start_time": "2023-07-24T09:57:40.134Z"
   },
   {
    "duration": 20,
    "start_time": "2023-07-24T09:57:40.161Z"
   },
   {
    "duration": 4,
    "start_time": "2023-07-24T09:57:40.183Z"
   },
   {
    "duration": 26,
    "start_time": "2023-07-24T09:57:40.189Z"
   },
   {
    "duration": 4,
    "start_time": "2023-07-24T09:57:40.217Z"
   },
   {
    "duration": 28,
    "start_time": "2023-07-24T09:57:40.222Z"
   },
   {
    "duration": 7,
    "start_time": "2023-07-24T09:57:40.252Z"
   },
   {
    "duration": 13,
    "start_time": "2023-07-24T09:57:40.262Z"
   },
   {
    "duration": 31,
    "start_time": "2023-07-24T09:57:40.277Z"
   },
   {
    "duration": 144,
    "start_time": "2023-07-24T09:57:40.310Z"
   },
   {
    "duration": 142,
    "start_time": "2023-07-24T09:57:40.456Z"
   },
   {
    "duration": 148,
    "start_time": "2023-07-24T09:57:40.599Z"
   },
   {
    "duration": 141,
    "start_time": "2023-07-24T09:57:40.749Z"
   },
   {
    "duration": 6,
    "start_time": "2023-07-24T09:57:40.892Z"
   },
   {
    "duration": 146,
    "start_time": "2023-07-24T09:57:40.900Z"
   },
   {
    "duration": 229,
    "start_time": "2023-07-24T09:57:41.048Z"
   },
   {
    "duration": 7,
    "start_time": "2023-07-24T09:57:41.279Z"
   },
   {
    "duration": 60,
    "start_time": "2023-07-24T09:57:41.288Z"
   },
   {
    "duration": 16,
    "start_time": "2023-07-24T09:57:41.351Z"
   },
   {
    "duration": 10,
    "start_time": "2023-07-24T09:57:47.252Z"
   },
   {
    "duration": 1395,
    "start_time": "2023-07-24T10:04:10.804Z"
   },
   {
    "duration": 40,
    "start_time": "2023-07-24T10:04:12.201Z"
   },
   {
    "duration": 14,
    "start_time": "2023-07-24T10:04:12.243Z"
   },
   {
    "duration": 11,
    "start_time": "2023-07-24T10:04:12.260Z"
   },
   {
    "duration": 5,
    "start_time": "2023-07-24T10:04:12.272Z"
   },
   {
    "duration": 14,
    "start_time": "2023-07-24T10:04:12.279Z"
   },
   {
    "duration": 14,
    "start_time": "2023-07-24T10:04:12.295Z"
   },
   {
    "duration": 18,
    "start_time": "2023-07-24T10:04:12.311Z"
   },
   {
    "duration": 4,
    "start_time": "2023-07-24T10:04:12.331Z"
   },
   {
    "duration": 20,
    "start_time": "2023-07-24T10:04:12.367Z"
   },
   {
    "duration": 4,
    "start_time": "2023-07-24T10:04:12.389Z"
   },
   {
    "duration": 20,
    "start_time": "2023-07-24T10:04:12.395Z"
   },
   {
    "duration": 5,
    "start_time": "2023-07-24T10:04:12.417Z"
   },
   {
    "duration": 6,
    "start_time": "2023-07-24T10:04:12.424Z"
   },
   {
    "duration": 44,
    "start_time": "2023-07-24T10:04:12.432Z"
   },
   {
    "duration": 151,
    "start_time": "2023-07-24T10:04:12.478Z"
   },
   {
    "duration": 196,
    "start_time": "2023-07-24T10:04:12.631Z"
   },
   {
    "duration": 192,
    "start_time": "2023-07-24T10:04:12.829Z"
   },
   {
    "duration": 176,
    "start_time": "2023-07-24T10:04:13.022Z"
   },
   {
    "duration": 8,
    "start_time": "2023-07-24T10:04:13.200Z"
   },
   {
    "duration": 151,
    "start_time": "2023-07-24T10:04:13.210Z"
   },
   {
    "duration": 231,
    "start_time": "2023-07-24T10:04:13.368Z"
   },
   {
    "duration": 12,
    "start_time": "2023-07-24T10:04:13.600Z"
   },
   {
    "duration": 56,
    "start_time": "2023-07-24T10:04:13.613Z"
   },
   {
    "duration": 21,
    "start_time": "2023-07-24T10:04:13.672Z"
   },
   {
    "duration": 17,
    "start_time": "2023-07-24T10:04:15.692Z"
   },
   {
    "duration": 1378,
    "start_time": "2023-07-24T10:26:05.815Z"
   },
   {
    "duration": 47,
    "start_time": "2023-07-24T10:26:07.194Z"
   },
   {
    "duration": 17,
    "start_time": "2023-07-24T10:26:07.243Z"
   },
   {
    "duration": 15,
    "start_time": "2023-07-24T10:26:07.262Z"
   },
   {
    "duration": 31,
    "start_time": "2023-07-24T10:26:07.280Z"
   },
   {
    "duration": 19,
    "start_time": "2023-07-24T10:26:07.313Z"
   },
   {
    "duration": 12,
    "start_time": "2023-07-24T10:26:07.333Z"
   },
   {
    "duration": 19,
    "start_time": "2023-07-24T10:26:07.347Z"
   },
   {
    "duration": 16,
    "start_time": "2023-07-24T10:26:07.367Z"
   },
   {
    "duration": 18,
    "start_time": "2023-07-24T10:26:07.385Z"
   },
   {
    "duration": 5,
    "start_time": "2023-07-24T10:26:07.404Z"
   },
   {
    "duration": 20,
    "start_time": "2023-07-24T10:26:07.410Z"
   },
   {
    "duration": 4,
    "start_time": "2023-07-24T10:26:07.432Z"
   },
   {
    "duration": 16,
    "start_time": "2023-07-24T10:26:07.439Z"
   },
   {
    "duration": 28,
    "start_time": "2023-07-24T10:26:07.456Z"
   },
   {
    "duration": 149,
    "start_time": "2023-07-24T10:26:07.485Z"
   },
   {
    "duration": 159,
    "start_time": "2023-07-24T10:26:07.636Z"
   },
   {
    "duration": 151,
    "start_time": "2023-07-24T10:26:07.797Z"
   },
   {
    "duration": 151,
    "start_time": "2023-07-24T10:26:07.950Z"
   },
   {
    "duration": 7,
    "start_time": "2023-07-24T10:26:08.102Z"
   },
   {
    "duration": 149,
    "start_time": "2023-07-24T10:26:08.111Z"
   },
   {
    "duration": 223,
    "start_time": "2023-07-24T10:26:08.262Z"
   },
   {
    "duration": 6,
    "start_time": "2023-07-24T10:26:08.486Z"
   },
   {
    "duration": 31,
    "start_time": "2023-07-24T10:26:08.494Z"
   },
   {
    "duration": 16,
    "start_time": "2023-07-24T10:26:08.527Z"
   },
   {
    "duration": 14,
    "start_time": "2023-07-24T10:26:10.866Z"
   },
   {
    "duration": 6,
    "start_time": "2023-07-24T10:26:37.547Z"
   },
   {
    "duration": 6,
    "start_time": "2023-07-24T10:29:04.507Z"
   },
   {
    "duration": 25,
    "start_time": "2023-07-24T10:29:07.851Z"
   },
   {
    "duration": 15,
    "start_time": "2023-07-24T10:29:50.817Z"
   },
   {
    "duration": 1463,
    "start_time": "2023-07-24T11:17:31.866Z"
   },
   {
    "duration": 51,
    "start_time": "2023-07-24T11:17:33.332Z"
   },
   {
    "duration": 14,
    "start_time": "2023-07-24T11:17:33.384Z"
   },
   {
    "duration": 9,
    "start_time": "2023-07-24T11:17:33.400Z"
   },
   {
    "duration": 14,
    "start_time": "2023-07-24T11:17:33.411Z"
   },
   {
    "duration": 19,
    "start_time": "2023-07-24T11:17:33.427Z"
   },
   {
    "duration": 18,
    "start_time": "2023-07-24T11:17:33.448Z"
   },
   {
    "duration": 20,
    "start_time": "2023-07-24T11:17:33.467Z"
   },
   {
    "duration": 3,
    "start_time": "2023-07-24T11:17:33.489Z"
   },
   {
    "duration": 16,
    "start_time": "2023-07-24T11:17:33.496Z"
   },
   {
    "duration": 4,
    "start_time": "2023-07-24T11:17:33.513Z"
   },
   {
    "duration": 16,
    "start_time": "2023-07-24T11:17:33.518Z"
   },
   {
    "duration": 39,
    "start_time": "2023-07-24T11:17:33.535Z"
   },
   {
    "duration": 18,
    "start_time": "2023-07-24T11:17:33.576Z"
   },
   {
    "duration": 29,
    "start_time": "2023-07-24T11:17:33.596Z"
   },
   {
    "duration": 149,
    "start_time": "2023-07-24T11:17:33.626Z"
   },
   {
    "duration": 146,
    "start_time": "2023-07-24T11:17:33.777Z"
   },
   {
    "duration": 192,
    "start_time": "2023-07-24T11:17:33.924Z"
   },
   {
    "duration": 177,
    "start_time": "2023-07-24T11:17:34.118Z"
   },
   {
    "duration": 9,
    "start_time": "2023-07-24T11:17:34.297Z"
   },
   {
    "duration": 156,
    "start_time": "2023-07-24T11:17:34.308Z"
   },
   {
    "duration": 232,
    "start_time": "2023-07-24T11:17:34.471Z"
   },
   {
    "duration": 6,
    "start_time": "2023-07-24T11:17:34.705Z"
   },
   {
    "duration": 28,
    "start_time": "2023-07-24T11:17:34.712Z"
   },
   {
    "duration": 37,
    "start_time": "2023-07-24T11:17:34.741Z"
   },
   {
    "duration": 13,
    "start_time": "2023-07-24T11:17:34.782Z"
   },
   {
    "duration": 5,
    "start_time": "2023-07-24T11:17:34.796Z"
   },
   {
    "duration": 5,
    "start_time": "2023-07-24T11:17:34.803Z"
   },
   {
    "duration": 18,
    "start_time": "2023-07-24T11:17:34.810Z"
   },
   {
    "duration": 41,
    "start_time": "2023-07-24T11:17:34.830Z"
   },
   {
    "duration": 112,
    "start_time": "2023-07-24T11:20:27.731Z"
   },
   {
    "duration": 114,
    "start_time": "2023-07-24T11:21:05.401Z"
   },
   {
    "duration": 14,
    "start_time": "2023-07-24T11:21:11.514Z"
   },
   {
    "duration": 127,
    "start_time": "2023-07-24T11:22:15.001Z"
   },
   {
    "duration": 118,
    "start_time": "2023-07-24T11:22:30.934Z"
   },
   {
    "duration": 116,
    "start_time": "2023-07-24T11:22:37.907Z"
   },
   {
    "duration": 1463,
    "start_time": "2023-07-24T11:23:03.091Z"
   },
   {
    "duration": 49,
    "start_time": "2023-07-24T11:23:04.556Z"
   },
   {
    "duration": 12,
    "start_time": "2023-07-24T11:23:04.607Z"
   },
   {
    "duration": 10,
    "start_time": "2023-07-24T11:23:04.621Z"
   },
   {
    "duration": 4,
    "start_time": "2023-07-24T11:23:04.633Z"
   },
   {
    "duration": 13,
    "start_time": "2023-07-24T11:23:04.639Z"
   },
   {
    "duration": 10,
    "start_time": "2023-07-24T11:23:04.654Z"
   },
   {
    "duration": 19,
    "start_time": "2023-07-24T11:23:04.666Z"
   },
   {
    "duration": 4,
    "start_time": "2023-07-24T11:23:04.687Z"
   },
   {
    "duration": 23,
    "start_time": "2023-07-24T11:23:04.693Z"
   },
   {
    "duration": 4,
    "start_time": "2023-07-24T11:23:04.718Z"
   },
   {
    "duration": 17,
    "start_time": "2023-07-24T11:23:04.723Z"
   },
   {
    "duration": 4,
    "start_time": "2023-07-24T11:23:04.741Z"
   },
   {
    "duration": 32,
    "start_time": "2023-07-24T11:23:04.747Z"
   },
   {
    "duration": 17,
    "start_time": "2023-07-24T11:23:04.783Z"
   },
   {
    "duration": 157,
    "start_time": "2023-07-24T11:23:04.802Z"
   },
   {
    "duration": 156,
    "start_time": "2023-07-24T11:23:04.961Z"
   },
   {
    "duration": 141,
    "start_time": "2023-07-24T11:23:05.118Z"
   },
   {
    "duration": 144,
    "start_time": "2023-07-24T11:23:05.260Z"
   },
   {
    "duration": 6,
    "start_time": "2023-07-24T11:23:05.406Z"
   },
   {
    "duration": 151,
    "start_time": "2023-07-24T11:23:05.413Z"
   },
   {
    "duration": 222,
    "start_time": "2023-07-24T11:23:05.565Z"
   },
   {
    "duration": 8,
    "start_time": "2023-07-24T11:23:05.790Z"
   },
   {
    "duration": 47,
    "start_time": "2023-07-24T11:23:05.800Z"
   },
   {
    "duration": 35,
    "start_time": "2023-07-24T11:23:05.849Z"
   },
   {
    "duration": 16,
    "start_time": "2023-07-24T11:23:05.887Z"
   },
   {
    "duration": 24,
    "start_time": "2023-07-24T11:23:05.905Z"
   },
   {
    "duration": 13,
    "start_time": "2023-07-24T11:23:05.930Z"
   },
   {
    "duration": 27,
    "start_time": "2023-07-24T11:23:05.945Z"
   },
   {
    "duration": 14,
    "start_time": "2023-07-24T11:23:05.979Z"
   },
   {
    "duration": 123,
    "start_time": "2023-07-24T11:23:16.019Z"
   },
   {
    "duration": 6,
    "start_time": "2023-07-24T11:23:21.756Z"
   },
   {
    "duration": 4,
    "start_time": "2023-07-24T11:25:22.563Z"
   },
   {
    "duration": 10,
    "start_time": "2023-07-24T11:27:06.537Z"
   },
   {
    "duration": 167,
    "start_time": "2023-07-24T11:28:32.568Z"
   },
   {
    "duration": 139,
    "start_time": "2023-07-24T11:28:48.904Z"
   },
   {
    "duration": 10,
    "start_time": "2023-07-24T11:28:52.527Z"
   },
   {
    "duration": 10,
    "start_time": "2023-07-24T11:29:05.312Z"
   },
   {
    "duration": 10,
    "start_time": "2023-07-24T11:29:16.425Z"
   },
   {
    "duration": 9,
    "start_time": "2023-07-24T11:29:27.987Z"
   },
   {
    "duration": 3412,
    "start_time": "2023-07-24T12:11:15.298Z"
   },
   {
    "duration": 126,
    "start_time": "2023-07-24T12:12:38.214Z"
   },
   {
    "duration": 12697,
    "start_time": "2023-07-24T12:13:54.974Z"
   },
   {
    "duration": 8,
    "start_time": "2023-07-24T12:15:42.570Z"
   },
   {
    "duration": 1350,
    "start_time": "2023-07-24T12:16:00.959Z"
   },
   {
    "duration": 41,
    "start_time": "2023-07-24T12:16:02.311Z"
   },
   {
    "duration": 123,
    "start_time": "2023-07-24T12:16:02.354Z"
   },
   {
    "duration": 61,
    "start_time": "2023-07-24T12:16:02.479Z"
   },
   {
    "duration": 45,
    "start_time": "2023-07-24T12:16:02.542Z"
   },
   {
    "duration": 36,
    "start_time": "2023-07-24T12:16:02.589Z"
   },
   {
    "duration": 46,
    "start_time": "2023-07-24T12:16:02.627Z"
   },
   {
    "duration": 40,
    "start_time": "2023-07-24T12:16:02.675Z"
   },
   {
    "duration": 20,
    "start_time": "2023-07-24T12:16:02.717Z"
   },
   {
    "duration": 26,
    "start_time": "2023-07-24T12:16:02.739Z"
   },
   {
    "duration": 28,
    "start_time": "2023-07-24T12:16:02.767Z"
   },
   {
    "duration": 13,
    "start_time": "2023-07-24T12:16:02.797Z"
   },
   {
    "duration": 22,
    "start_time": "2023-07-24T12:16:02.812Z"
   },
   {
    "duration": 14,
    "start_time": "2023-07-24T12:16:02.837Z"
   },
   {
    "duration": 24,
    "start_time": "2023-07-24T12:16:02.853Z"
   },
   {
    "duration": 140,
    "start_time": "2023-07-24T12:16:02.878Z"
   },
   {
    "duration": 128,
    "start_time": "2023-07-24T12:16:03.019Z"
   },
   {
    "duration": 128,
    "start_time": "2023-07-24T12:16:03.148Z"
   },
   {
    "duration": 170,
    "start_time": "2023-07-24T12:16:03.277Z"
   },
   {
    "duration": 6,
    "start_time": "2023-07-24T12:16:03.448Z"
   },
   {
    "duration": 130,
    "start_time": "2023-07-24T12:16:03.456Z"
   },
   {
    "duration": 198,
    "start_time": "2023-07-24T12:16:03.587Z"
   },
   {
    "duration": 6,
    "start_time": "2023-07-24T12:16:03.786Z"
   },
   {
    "duration": 28,
    "start_time": "2023-07-24T12:16:03.793Z"
   },
   {
    "duration": 14,
    "start_time": "2023-07-24T12:16:03.822Z"
   },
   {
    "duration": 17,
    "start_time": "2023-07-24T12:16:03.837Z"
   },
   {
    "duration": 15,
    "start_time": "2023-07-24T12:16:03.855Z"
   },
   {
    "duration": 14,
    "start_time": "2023-07-24T12:16:03.871Z"
   },
   {
    "duration": 19,
    "start_time": "2023-07-24T12:16:03.886Z"
   },
   {
    "duration": 29,
    "start_time": "2023-07-24T12:16:03.907Z"
   },
   {
    "duration": 146,
    "start_time": "2023-07-24T12:16:03.938Z"
   },
   {
    "duration": 11,
    "start_time": "2023-07-24T12:16:04.086Z"
   },
   {
    "duration": 3324,
    "start_time": "2023-07-24T12:16:09.106Z"
   },
   {
    "duration": 125,
    "start_time": "2023-07-24T12:16:25.866Z"
   },
   {
    "duration": 1354,
    "start_time": "2023-07-24T12:18:24.552Z"
   },
   {
    "duration": 38,
    "start_time": "2023-07-24T12:18:25.908Z"
   },
   {
    "duration": 11,
    "start_time": "2023-07-24T12:18:25.948Z"
   },
   {
    "duration": 20,
    "start_time": "2023-07-24T12:18:25.961Z"
   },
   {
    "duration": 15,
    "start_time": "2023-07-24T12:18:25.982Z"
   },
   {
    "duration": 12,
    "start_time": "2023-07-24T12:18:25.999Z"
   },
   {
    "duration": 13,
    "start_time": "2023-07-24T12:18:26.012Z"
   },
   {
    "duration": 17,
    "start_time": "2023-07-24T12:18:26.026Z"
   },
   {
    "duration": 4,
    "start_time": "2023-07-24T12:18:26.045Z"
   },
   {
    "duration": 17,
    "start_time": "2023-07-24T12:18:26.051Z"
   },
   {
    "duration": 3,
    "start_time": "2023-07-24T12:18:26.070Z"
   },
   {
    "duration": 20,
    "start_time": "2023-07-24T12:18:26.075Z"
   },
   {
    "duration": 4,
    "start_time": "2023-07-24T12:18:26.097Z"
   },
   {
    "duration": 15,
    "start_time": "2023-07-24T12:18:26.103Z"
   },
   {
    "duration": 17,
    "start_time": "2023-07-24T12:18:26.119Z"
   },
   {
    "duration": 132,
    "start_time": "2023-07-24T12:18:26.138Z"
   },
   {
    "duration": 129,
    "start_time": "2023-07-24T12:18:26.271Z"
   },
   {
    "duration": 127,
    "start_time": "2023-07-24T12:18:26.402Z"
   },
   {
    "duration": 126,
    "start_time": "2023-07-24T12:18:26.530Z"
   },
   {
    "duration": 10,
    "start_time": "2023-07-24T12:18:26.658Z"
   },
   {
    "duration": 126,
    "start_time": "2023-07-24T12:18:26.670Z"
   },
   {
    "duration": 204,
    "start_time": "2023-07-24T12:18:26.797Z"
   },
   {
    "duration": 6,
    "start_time": "2023-07-24T12:18:27.002Z"
   },
   {
    "duration": 33,
    "start_time": "2023-07-24T12:18:27.009Z"
   },
   {
    "duration": 26,
    "start_time": "2023-07-24T12:18:27.043Z"
   },
   {
    "duration": 9,
    "start_time": "2023-07-24T12:18:27.071Z"
   },
   {
    "duration": 98,
    "start_time": "2023-07-24T12:18:29.206Z"
   },
   {
    "duration": 92,
    "start_time": "2023-07-24T12:18:39.694Z"
   },
   {
    "duration": 116,
    "start_time": "2023-07-24T12:18:47.269Z"
   },
   {
    "duration": 13,
    "start_time": "2023-07-24T12:20:16.390Z"
   },
   {
    "duration": 91,
    "start_time": "2023-07-24T12:20:28.807Z"
   },
   {
    "duration": 53,
    "start_time": "2023-07-24T12:20:55.416Z"
   },
   {
    "duration": 1426,
    "start_time": "2023-07-24T12:20:59.089Z"
   },
   {
    "duration": 41,
    "start_time": "2023-07-24T12:21:00.517Z"
   },
   {
    "duration": 46,
    "start_time": "2023-07-24T12:21:00.560Z"
   },
   {
    "duration": 53,
    "start_time": "2023-07-24T12:21:00.608Z"
   },
   {
    "duration": 63,
    "start_time": "2023-07-24T12:21:00.663Z"
   },
   {
    "duration": 191,
    "start_time": "2023-07-24T12:21:00.728Z"
   },
   {
    "duration": 87,
    "start_time": "2023-07-24T12:21:00.921Z"
   },
   {
    "duration": 110,
    "start_time": "2023-07-24T12:21:01.010Z"
   },
   {
    "duration": 236,
    "start_time": "2023-07-24T12:21:01.121Z"
   },
   {
    "duration": 201,
    "start_time": "2023-07-24T12:21:01.360Z"
   },
   {
    "duration": 78,
    "start_time": "2023-07-24T12:21:01.563Z"
   },
   {
    "duration": 58,
    "start_time": "2023-07-24T12:21:01.643Z"
   },
   {
    "duration": 49,
    "start_time": "2023-07-24T12:21:01.702Z"
   },
   {
    "duration": 38,
    "start_time": "2023-07-24T12:21:01.752Z"
   },
   {
    "duration": 76,
    "start_time": "2023-07-24T12:21:01.792Z"
   },
   {
    "duration": 180,
    "start_time": "2023-07-24T12:21:01.870Z"
   },
   {
    "duration": 147,
    "start_time": "2023-07-24T12:21:02.052Z"
   },
   {
    "duration": 171,
    "start_time": "2023-07-24T12:21:02.201Z"
   },
   {
    "duration": 130,
    "start_time": "2023-07-24T12:21:02.373Z"
   },
   {
    "duration": 30,
    "start_time": "2023-07-24T12:21:02.505Z"
   },
   {
    "duration": 183,
    "start_time": "2023-07-24T12:21:02.537Z"
   },
   {
    "duration": 190,
    "start_time": "2023-07-24T12:21:02.722Z"
   },
   {
    "duration": 6,
    "start_time": "2023-07-24T12:21:02.913Z"
   },
   {
    "duration": 33,
    "start_time": "2023-07-24T12:21:02.920Z"
   },
   {
    "duration": 21,
    "start_time": "2023-07-24T12:21:02.955Z"
   },
   {
    "duration": 29,
    "start_time": "2023-07-24T12:21:02.977Z"
   },
   {
    "duration": 81,
    "start_time": "2023-07-24T12:21:03.008Z"
   },
   {
    "duration": 20,
    "start_time": "2023-07-24T12:21:03.092Z"
   },
   {
    "duration": 25,
    "start_time": "2023-07-24T12:21:03.114Z"
   },
   {
    "duration": 20,
    "start_time": "2023-07-24T12:21:03.140Z"
   },
   {
    "duration": 124,
    "start_time": "2023-07-24T12:21:03.162Z"
   },
   {
    "duration": 8,
    "start_time": "2023-07-24T12:21:03.288Z"
   },
   {
    "duration": 3536,
    "start_time": "2023-07-24T12:21:03.297Z"
   },
   {
    "duration": 118,
    "start_time": "2023-07-24T12:21:20.279Z"
   },
   {
    "duration": 12945,
    "start_time": "2023-07-24T12:21:41.914Z"
   },
   {
    "duration": 230,
    "start_time": "2023-07-24T12:22:02.543Z"
   },
   {
    "duration": 327,
    "start_time": "2023-07-24T12:23:44.624Z"
   },
   {
    "duration": 131,
    "start_time": "2023-07-24T12:23:57.969Z"
   },
   {
    "duration": 261,
    "start_time": "2023-07-24T12:24:27.767Z"
   },
   {
    "duration": 219,
    "start_time": "2023-07-24T12:24:52.929Z"
   },
   {
    "duration": 260,
    "start_time": "2023-07-24T12:25:03.160Z"
   },
   {
    "duration": 335,
    "start_time": "2023-07-24T12:25:27.516Z"
   },
   {
    "duration": 10,
    "start_time": "2023-07-24T12:25:37.847Z"
   },
   {
    "duration": 9,
    "start_time": "2023-07-24T12:38:02.831Z"
   },
   {
    "duration": 86,
    "start_time": "2023-07-24T12:38:29.561Z"
   },
   {
    "duration": 131,
    "start_time": "2023-07-24T12:38:39.696Z"
   },
   {
    "duration": 391,
    "start_time": "2023-07-24T12:39:04.928Z"
   },
   {
    "duration": 367,
    "start_time": "2023-07-24T12:39:20.279Z"
   },
   {
    "duration": 305,
    "start_time": "2023-07-24T12:40:41.993Z"
   },
   {
    "duration": 3586,
    "start_time": "2023-07-24T12:55:40.918Z"
   },
   {
    "duration": 118,
    "start_time": "2023-07-24T12:56:36.391Z"
   },
   {
    "duration": 27349,
    "start_time": "2023-07-24T12:58:55.086Z"
   },
   {
    "duration": 73702,
    "start_time": "2023-07-24T12:59:31.696Z"
   },
   {
    "duration": 28262,
    "start_time": "2023-07-24T13:01:52.120Z"
   },
   {
    "duration": 273,
    "start_time": "2023-07-24T13:03:00.544Z"
   },
   {
    "duration": 255,
    "start_time": "2023-07-24T13:03:08.336Z"
   },
   {
    "duration": 252,
    "start_time": "2023-07-24T13:03:28.950Z"
   },
   {
    "duration": 321,
    "start_time": "2023-07-24T13:03:35.775Z"
   },
   {
    "duration": 368,
    "start_time": "2023-07-24T13:03:53.960Z"
   },
   {
    "duration": 1839,
    "start_time": "2023-07-24T17:07:26.258Z"
   },
   {
    "duration": 109,
    "start_time": "2023-07-24T17:07:28.100Z"
   },
   {
    "duration": 24,
    "start_time": "2023-07-24T17:07:28.219Z"
   },
   {
    "duration": 18,
    "start_time": "2023-07-24T17:07:28.245Z"
   },
   {
    "duration": 21,
    "start_time": "2023-07-24T17:07:28.266Z"
   },
   {
    "duration": 52,
    "start_time": "2023-07-24T17:07:28.288Z"
   },
   {
    "duration": 28,
    "start_time": "2023-07-24T17:07:28.342Z"
   },
   {
    "duration": 19,
    "start_time": "2023-07-24T17:07:28.372Z"
   },
   {
    "duration": 13,
    "start_time": "2023-07-24T17:07:28.393Z"
   },
   {
    "duration": 72,
    "start_time": "2023-07-24T17:07:28.407Z"
   },
   {
    "duration": 5,
    "start_time": "2023-07-24T17:07:28.481Z"
   },
   {
    "duration": 62,
    "start_time": "2023-07-24T17:07:28.487Z"
   },
   {
    "duration": 23,
    "start_time": "2023-07-24T17:07:28.551Z"
   },
   {
    "duration": 18,
    "start_time": "2023-07-24T17:07:28.576Z"
   },
   {
    "duration": 63,
    "start_time": "2023-07-24T17:07:28.595Z"
   },
   {
    "duration": 169,
    "start_time": "2023-07-24T17:07:28.660Z"
   },
   {
    "duration": 154,
    "start_time": "2023-07-24T17:07:28.830Z"
   },
   {
    "duration": 168,
    "start_time": "2023-07-24T17:07:28.986Z"
   },
   {
    "duration": 161,
    "start_time": "2023-07-24T17:07:29.155Z"
   },
   {
    "duration": 7,
    "start_time": "2023-07-24T17:07:29.320Z"
   },
   {
    "duration": 194,
    "start_time": "2023-07-24T17:07:29.329Z"
   },
   {
    "duration": 264,
    "start_time": "2023-07-24T17:07:29.531Z"
   },
   {
    "duration": 14,
    "start_time": "2023-07-24T17:07:29.797Z"
   },
   {
    "duration": 64,
    "start_time": "2023-07-24T17:07:29.818Z"
   },
   {
    "duration": 6,
    "start_time": "2023-07-24T17:07:52.150Z"
   },
   {
    "duration": 4,
    "start_time": "2023-07-24T17:11:39.533Z"
   },
   {
    "duration": 46,
    "start_time": "2023-07-24T17:11:39.539Z"
   },
   {
    "duration": 13,
    "start_time": "2023-07-24T17:11:39.587Z"
   },
   {
    "duration": 14,
    "start_time": "2023-07-24T17:11:39.601Z"
   },
   {
    "duration": 34,
    "start_time": "2023-07-24T17:11:39.618Z"
   },
   {
    "duration": 12,
    "start_time": "2023-07-24T17:11:39.654Z"
   },
   {
    "duration": 18,
    "start_time": "2023-07-24T17:11:39.667Z"
   },
   {
    "duration": 17,
    "start_time": "2023-07-24T17:11:39.686Z"
   },
   {
    "duration": 42,
    "start_time": "2023-07-24T17:11:39.704Z"
   },
   {
    "duration": 30,
    "start_time": "2023-07-24T17:11:39.748Z"
   },
   {
    "duration": 4,
    "start_time": "2023-07-24T17:11:39.781Z"
   },
   {
    "duration": 29,
    "start_time": "2023-07-24T17:11:39.787Z"
   },
   {
    "duration": 23,
    "start_time": "2023-07-24T17:11:39.818Z"
   },
   {
    "duration": 8,
    "start_time": "2023-07-24T17:11:39.843Z"
   },
   {
    "duration": 19,
    "start_time": "2023-07-24T17:11:39.853Z"
   },
   {
    "duration": 148,
    "start_time": "2023-07-24T17:11:39.874Z"
   },
   {
    "duration": 156,
    "start_time": "2023-07-24T17:11:40.025Z"
   },
   {
    "duration": 152,
    "start_time": "2023-07-24T17:11:40.182Z"
   },
   {
    "duration": 190,
    "start_time": "2023-07-24T17:11:40.336Z"
   },
   {
    "duration": 18,
    "start_time": "2023-07-24T17:11:40.529Z"
   },
   {
    "duration": 193,
    "start_time": "2023-07-24T17:11:40.548Z"
   },
   {
    "duration": 196,
    "start_time": "2023-07-24T17:11:40.744Z"
   },
   {
    "duration": 5,
    "start_time": "2023-07-24T17:11:40.943Z"
   },
   {
    "duration": 57,
    "start_time": "2023-07-24T17:11:40.950Z"
   },
   {
    "duration": 19,
    "start_time": "2023-07-24T17:11:41.008Z"
   },
   {
    "duration": 21,
    "start_time": "2023-07-24T17:11:41.028Z"
   },
   {
    "duration": 15,
    "start_time": "2023-07-24T17:11:41.051Z"
   },
   {
    "duration": 27,
    "start_time": "2023-07-24T17:11:41.068Z"
   },
   {
    "duration": 37,
    "start_time": "2023-07-24T17:11:41.098Z"
   },
   {
    "duration": 138,
    "start_time": "2023-07-24T17:11:41.137Z"
   },
   {
    "duration": 11,
    "start_time": "2023-07-24T17:11:41.277Z"
   },
   {
    "duration": 4261,
    "start_time": "2023-07-24T17:11:41.289Z"
   },
   {
    "duration": 237,
    "start_time": "2023-07-24T17:28:47.440Z"
   },
   {
    "duration": 26585,
    "start_time": "2023-07-24T17:29:02.433Z"
   },
   {
    "duration": 137,
    "start_time": "2023-07-24T17:33:09.889Z"
   },
   {
    "duration": 19542,
    "start_time": "2023-07-24T17:33:49.380Z"
   },
   {
    "duration": 24649,
    "start_time": "2023-07-24T17:35:32.921Z"
   },
   {
    "duration": 165,
    "start_time": "2023-07-24T17:37:30.705Z"
   },
   {
    "duration": 150,
    "start_time": "2023-07-24T17:40:21.530Z"
   },
   {
    "duration": 31618,
    "start_time": "2023-07-24T17:44:13.581Z"
   },
   {
    "duration": 83421,
    "start_time": "2023-07-24T17:45:34.245Z"
   },
   {
    "duration": 83562,
    "start_time": "2023-07-24T17:48:43.285Z"
   },
   {
    "duration": 15,
    "start_time": "2023-07-24T17:51:00.222Z"
   },
   {
    "duration": 362,
    "start_time": "2023-07-24T17:51:26.690Z"
   },
   {
    "duration": 84495,
    "start_time": "2023-07-24T17:52:22.830Z"
   },
   {
    "duration": 84455,
    "start_time": "2023-07-24T17:54:03.302Z"
   },
   {
    "duration": 32673,
    "start_time": "2023-07-24T17:55:55.767Z"
   },
   {
    "duration": 29401,
    "start_time": "2023-07-24T17:57:18.710Z"
   },
   {
    "duration": 24527,
    "start_time": "2023-07-24T17:58:31.248Z"
   },
   {
    "duration": 29032,
    "start_time": "2023-07-24T17:59:28.863Z"
   },
   {
    "duration": 198,
    "start_time": "2023-07-24T18:00:35.170Z"
   },
   {
    "duration": 82,
    "start_time": "2023-07-24T18:05:23.945Z"
   },
   {
    "duration": 9291,
    "start_time": "2023-07-24T18:05:46.897Z"
   },
   {
    "duration": 8519,
    "start_time": "2023-07-24T18:06:51.224Z"
   },
   {
    "duration": 4114,
    "start_time": "2023-07-24T18:07:06.917Z"
   },
   {
    "duration": 428,
    "start_time": "2023-07-24T18:08:17.818Z"
   },
   {
    "duration": 338,
    "start_time": "2023-07-24T18:08:49.358Z"
   },
   {
    "duration": 268,
    "start_time": "2023-07-24T18:10:43.447Z"
   },
   {
    "duration": 307,
    "start_time": "2023-07-24T18:13:45.057Z"
   },
   {
    "duration": 158,
    "start_time": "2023-07-24T18:25:26.764Z"
   },
   {
    "duration": 134,
    "start_time": "2023-07-24T18:27:39.631Z"
   },
   {
    "duration": 138,
    "start_time": "2023-07-24T18:28:18.182Z"
   },
   {
    "duration": 271,
    "start_time": "2023-07-24T18:29:16.337Z"
   },
   {
    "duration": 444,
    "start_time": "2023-07-24T18:31:11.162Z"
   },
   {
    "duration": 1424,
    "start_time": "2023-07-24T18:32:58.423Z"
   },
   {
    "duration": 42,
    "start_time": "2023-07-24T18:32:59.849Z"
   },
   {
    "duration": 14,
    "start_time": "2023-07-24T18:32:59.892Z"
   },
   {
    "duration": 13,
    "start_time": "2023-07-24T18:32:59.908Z"
   },
   {
    "duration": 9,
    "start_time": "2023-07-24T18:32:59.923Z"
   },
   {
    "duration": 23,
    "start_time": "2023-07-24T18:32:59.933Z"
   },
   {
    "duration": 20,
    "start_time": "2023-07-24T18:32:59.957Z"
   },
   {
    "duration": 25,
    "start_time": "2023-07-24T18:32:59.978Z"
   },
   {
    "duration": 4,
    "start_time": "2023-07-24T18:33:00.004Z"
   },
   {
    "duration": 41,
    "start_time": "2023-07-24T18:33:00.012Z"
   },
   {
    "duration": 31,
    "start_time": "2023-07-24T18:33:00.055Z"
   },
   {
    "duration": 35,
    "start_time": "2023-07-24T18:33:00.089Z"
   },
   {
    "duration": 36,
    "start_time": "2023-07-24T18:33:00.126Z"
   },
   {
    "duration": 60,
    "start_time": "2023-07-24T18:33:00.164Z"
   },
   {
    "duration": 78,
    "start_time": "2023-07-24T18:33:00.226Z"
   },
   {
    "duration": 206,
    "start_time": "2023-07-24T18:33:00.306Z"
   },
   {
    "duration": 236,
    "start_time": "2023-07-24T18:33:00.515Z"
   },
   {
    "duration": 157,
    "start_time": "2023-07-24T18:33:00.754Z"
   },
   {
    "duration": 154,
    "start_time": "2023-07-24T18:33:00.913Z"
   },
   {
    "duration": 7,
    "start_time": "2023-07-24T18:33:01.069Z"
   },
   {
    "duration": 174,
    "start_time": "2023-07-24T18:33:01.077Z"
   },
   {
    "duration": 231,
    "start_time": "2023-07-24T18:33:01.253Z"
   },
   {
    "duration": 16,
    "start_time": "2023-07-24T18:33:01.486Z"
   },
   {
    "duration": 64,
    "start_time": "2023-07-24T18:33:01.504Z"
   },
   {
    "duration": 66,
    "start_time": "2023-07-24T18:33:01.569Z"
   },
   {
    "duration": 69,
    "start_time": "2023-07-24T18:33:01.637Z"
   },
   {
    "duration": 70,
    "start_time": "2023-07-24T18:33:01.708Z"
   },
   {
    "duration": 99,
    "start_time": "2023-07-24T18:33:01.783Z"
   },
   {
    "duration": 30,
    "start_time": "2023-07-24T18:33:01.884Z"
   },
   {
    "duration": 148,
    "start_time": "2023-07-24T18:33:01.916Z"
   },
   {
    "duration": 13,
    "start_time": "2023-07-24T18:33:02.066Z"
   },
   {
    "duration": 22821,
    "start_time": "2023-07-24T18:33:02.081Z"
   },
   {
    "duration": 135,
    "start_time": "2023-07-24T18:33:24.904Z"
   },
   {
    "duration": 3444,
    "start_time": "2023-07-24T18:33:25.040Z"
   },
   {
    "duration": 258,
    "start_time": "2023-07-24T18:33:28.486Z"
   },
   {
    "duration": 472,
    "start_time": "2023-07-24T18:33:28.746Z"
   },
   {
    "duration": 144,
    "start_time": "2023-07-24T18:33:29.220Z"
   },
   {
    "duration": 272,
    "start_time": "2023-07-24T18:33:29.366Z"
   },
   {
    "duration": 434,
    "start_time": "2023-07-24T18:33:29.640Z"
   },
   {
    "duration": 11,
    "start_time": "2023-07-24T18:33:57.040Z"
   },
   {
    "duration": 104,
    "start_time": "2023-07-24T18:34:02.043Z"
   },
   {
    "duration": 142,
    "start_time": "2023-07-24T18:34:55.851Z"
   },
   {
    "duration": 310,
    "start_time": "2023-07-24T18:36:44.439Z"
   },
   {
    "duration": 345,
    "start_time": "2023-07-24T18:39:24.646Z"
   },
   {
    "duration": 355,
    "start_time": "2023-07-24T18:47:48.549Z"
   },
   {
    "duration": 49,
    "start_time": "2023-07-25T06:47:45.621Z"
   },
   {
    "duration": 2109,
    "start_time": "2023-07-25T08:49:47.581Z"
   },
   {
    "duration": 166,
    "start_time": "2023-07-25T08:49:49.693Z"
   },
   {
    "duration": 18,
    "start_time": "2023-07-25T08:49:49.862Z"
   },
   {
    "duration": 29,
    "start_time": "2023-07-25T08:49:49.883Z"
   },
   {
    "duration": 21,
    "start_time": "2023-07-25T08:49:49.916Z"
   },
   {
    "duration": 21,
    "start_time": "2023-07-25T08:49:49.939Z"
   },
   {
    "duration": 18,
    "start_time": "2023-07-25T08:49:49.962Z"
   },
   {
    "duration": 25,
    "start_time": "2023-07-25T08:49:49.982Z"
   },
   {
    "duration": 7,
    "start_time": "2023-07-25T08:49:50.010Z"
   },
   {
    "duration": 50,
    "start_time": "2023-07-25T08:49:50.020Z"
   },
   {
    "duration": 6,
    "start_time": "2023-07-25T08:49:50.072Z"
   },
   {
    "duration": 14,
    "start_time": "2023-07-25T08:49:50.080Z"
   },
   {
    "duration": 19,
    "start_time": "2023-07-25T08:49:50.096Z"
   },
   {
    "duration": 24,
    "start_time": "2023-07-25T08:49:50.118Z"
   },
   {
    "duration": 28,
    "start_time": "2023-07-25T08:49:50.144Z"
   },
   {
    "duration": 188,
    "start_time": "2023-07-25T08:49:50.174Z"
   },
   {
    "duration": 180,
    "start_time": "2023-07-25T08:49:50.364Z"
   },
   {
    "duration": 179,
    "start_time": "2023-07-25T08:49:50.546Z"
   },
   {
    "duration": 172,
    "start_time": "2023-07-25T08:49:50.726Z"
   },
   {
    "duration": 7,
    "start_time": "2023-07-25T08:49:50.900Z"
   },
   {
    "duration": 199,
    "start_time": "2023-07-25T08:49:50.909Z"
   },
   {
    "duration": 311,
    "start_time": "2023-07-25T08:49:51.110Z"
   },
   {
    "duration": 9,
    "start_time": "2023-07-25T08:49:51.423Z"
   },
   {
    "duration": 42,
    "start_time": "2023-07-25T08:49:51.434Z"
   },
   {
    "duration": 21,
    "start_time": "2023-07-25T08:49:51.478Z"
   },
   {
    "duration": 14,
    "start_time": "2023-07-25T08:49:51.503Z"
   },
   {
    "duration": 105,
    "start_time": "2023-07-25T08:50:11.156Z"
   },
   {
    "duration": 40,
    "start_time": "2023-07-25T08:50:45.109Z"
   },
   {
    "duration": 3170,
    "start_time": "2023-07-25T08:51:00.245Z"
   },
   {
    "duration": 1694,
    "start_time": "2023-07-25T08:51:22.040Z"
   },
   {
    "duration": 46,
    "start_time": "2023-07-25T08:51:23.736Z"
   },
   {
    "duration": 137,
    "start_time": "2023-07-25T08:51:23.784Z"
   },
   {
    "duration": 204,
    "start_time": "2023-07-25T08:51:23.923Z"
   },
   {
    "duration": 7,
    "start_time": "2023-07-25T08:51:24.130Z"
   },
   {
    "duration": 23,
    "start_time": "2023-07-25T08:51:24.140Z"
   },
   {
    "duration": 19,
    "start_time": "2023-07-25T08:51:24.165Z"
   },
   {
    "duration": 27,
    "start_time": "2023-07-25T08:51:24.186Z"
   },
   {
    "duration": 5,
    "start_time": "2023-07-25T08:51:24.216Z"
   },
   {
    "duration": 43,
    "start_time": "2023-07-25T08:51:24.224Z"
   },
   {
    "duration": 6,
    "start_time": "2023-07-25T08:51:24.269Z"
   },
   {
    "duration": 28,
    "start_time": "2023-07-25T08:51:24.277Z"
   },
   {
    "duration": 6,
    "start_time": "2023-07-25T08:51:24.307Z"
   },
   {
    "duration": 11,
    "start_time": "2023-07-25T08:51:24.315Z"
   },
   {
    "duration": 45,
    "start_time": "2023-07-25T08:51:24.328Z"
   },
   {
    "duration": 162,
    "start_time": "2023-07-25T08:51:24.375Z"
   },
   {
    "duration": 162,
    "start_time": "2023-07-25T08:51:24.539Z"
   },
   {
    "duration": 156,
    "start_time": "2023-07-25T08:51:24.703Z"
   },
   {
    "duration": 156,
    "start_time": "2023-07-25T08:51:24.862Z"
   },
   {
    "duration": 8,
    "start_time": "2023-07-25T08:51:25.021Z"
   },
   {
    "duration": 158,
    "start_time": "2023-07-25T08:51:25.031Z"
   },
   {
    "duration": 261,
    "start_time": "2023-07-25T08:51:25.192Z"
   },
   {
    "duration": 7,
    "start_time": "2023-07-25T08:51:25.459Z"
   },
   {
    "duration": 27,
    "start_time": "2023-07-25T08:51:25.468Z"
   },
   {
    "duration": 7,
    "start_time": "2023-07-25T08:51:25.497Z"
   },
   {
    "duration": 18,
    "start_time": "2023-07-25T08:51:25.506Z"
   },
   {
    "duration": 21,
    "start_time": "2023-07-25T08:52:07.526Z"
   },
   {
    "duration": 54,
    "start_time": "2023-07-25T08:52:10.766Z"
   },
   {
    "duration": 20,
    "start_time": "2023-07-25T08:52:23.868Z"
   },
   {
    "duration": 16,
    "start_time": "2023-07-25T08:53:18.261Z"
   },
   {
    "duration": 142,
    "start_time": "2023-07-25T08:57:46.653Z"
   },
   {
    "duration": 11,
    "start_time": "2023-07-25T08:57:55.749Z"
   },
   {
    "duration": 23577,
    "start_time": "2023-07-25T08:58:11.637Z"
   },
   {
    "duration": 159,
    "start_time": "2023-07-25T08:59:01.401Z"
   },
   {
    "duration": 3898,
    "start_time": "2023-07-25T08:59:15.100Z"
   },
   {
    "duration": 282,
    "start_time": "2023-07-25T08:59:31.421Z"
   },
   {
    "duration": 1556,
    "start_time": "2023-07-25T08:59:52.145Z"
   },
   {
    "duration": 41,
    "start_time": "2023-07-25T08:59:53.703Z"
   },
   {
    "duration": 21,
    "start_time": "2023-07-25T08:59:53.746Z"
   },
   {
    "duration": 11,
    "start_time": "2023-07-25T08:59:53.773Z"
   },
   {
    "duration": 14,
    "start_time": "2023-07-25T08:59:53.785Z"
   },
   {
    "duration": 23,
    "start_time": "2023-07-25T08:59:53.801Z"
   },
   {
    "duration": 18,
    "start_time": "2023-07-25T08:59:53.825Z"
   },
   {
    "duration": 27,
    "start_time": "2023-07-25T08:59:53.844Z"
   },
   {
    "duration": 6,
    "start_time": "2023-07-25T08:59:53.873Z"
   },
   {
    "duration": 22,
    "start_time": "2023-07-25T08:59:53.884Z"
   },
   {
    "duration": 5,
    "start_time": "2023-07-25T08:59:53.908Z"
   },
   {
    "duration": 28,
    "start_time": "2023-07-25T08:59:53.915Z"
   },
   {
    "duration": 15,
    "start_time": "2023-07-25T08:59:53.945Z"
   },
   {
    "duration": 8,
    "start_time": "2023-07-25T08:59:53.967Z"
   },
   {
    "duration": 22,
    "start_time": "2023-07-25T08:59:53.978Z"
   },
   {
    "duration": 268,
    "start_time": "2023-07-25T08:59:54.002Z"
   },
   {
    "duration": 225,
    "start_time": "2023-07-25T08:59:54.273Z"
   },
   {
    "duration": 212,
    "start_time": "2023-07-25T08:59:54.501Z"
   },
   {
    "duration": 185,
    "start_time": "2023-07-25T08:59:54.715Z"
   },
   {
    "duration": 8,
    "start_time": "2023-07-25T08:59:54.902Z"
   },
   {
    "duration": 173,
    "start_time": "2023-07-25T08:59:54.913Z"
   },
   {
    "duration": 303,
    "start_time": "2023-07-25T08:59:55.088Z"
   },
   {
    "duration": 7,
    "start_time": "2023-07-25T08:59:55.393Z"
   },
   {
    "duration": 18,
    "start_time": "2023-07-25T08:59:55.402Z"
   },
   {
    "duration": 5,
    "start_time": "2023-07-25T08:59:55.422Z"
   },
   {
    "duration": 45,
    "start_time": "2023-07-25T08:59:55.428Z"
   },
   {
    "duration": 29,
    "start_time": "2023-07-25T08:59:55.479Z"
   },
   {
    "duration": 61,
    "start_time": "2023-07-25T08:59:55.513Z"
   },
   {
    "duration": 18,
    "start_time": "2023-07-25T08:59:55.576Z"
   },
   {
    "duration": 17,
    "start_time": "2023-07-25T08:59:55.596Z"
   },
   {
    "duration": 153,
    "start_time": "2023-07-25T08:59:55.615Z"
   },
   {
    "duration": 16,
    "start_time": "2023-07-25T08:59:55.772Z"
   },
   {
    "duration": 24357,
    "start_time": "2023-07-25T08:59:55.790Z"
   },
   {
    "duration": 166,
    "start_time": "2023-07-25T09:00:20.149Z"
   },
   {
    "duration": 4196,
    "start_time": "2023-07-25T09:00:20.317Z"
   },
   {
    "duration": 289,
    "start_time": "2023-07-25T09:00:24.514Z"
   },
   {
    "duration": 469,
    "start_time": "2023-07-25T09:00:24.805Z"
   },
   {
    "duration": 199,
    "start_time": "2023-07-25T09:00:25.279Z"
   },
   {
    "duration": 305,
    "start_time": "2023-07-25T09:00:25.480Z"
   },
   {
    "duration": 351,
    "start_time": "2023-07-25T09:00:25.787Z"
   },
   {
    "duration": 148,
    "start_time": "2023-07-25T09:00:26.140Z"
   },
   {
    "duration": 0,
    "start_time": "2023-07-25T09:00:26.290Z"
   },
   {
    "duration": 0,
    "start_time": "2023-07-25T09:00:26.292Z"
   },
   {
    "duration": 0,
    "start_time": "2023-07-25T09:00:26.293Z"
   },
   {
    "duration": 0,
    "start_time": "2023-07-25T09:00:26.294Z"
   },
   {
    "duration": 0,
    "start_time": "2023-07-25T09:00:26.296Z"
   },
   {
    "duration": 1536,
    "start_time": "2023-07-25T09:08:50.630Z"
   },
   {
    "duration": 43,
    "start_time": "2023-07-25T09:08:52.172Z"
   },
   {
    "duration": 15,
    "start_time": "2023-07-25T09:08:52.216Z"
   },
   {
    "duration": 24,
    "start_time": "2023-07-25T09:08:52.233Z"
   },
   {
    "duration": 15,
    "start_time": "2023-07-25T09:08:52.261Z"
   },
   {
    "duration": 12,
    "start_time": "2023-07-25T09:08:52.278Z"
   },
   {
    "duration": 13,
    "start_time": "2023-07-25T09:08:52.291Z"
   },
   {
    "duration": 16,
    "start_time": "2023-07-25T09:08:52.305Z"
   },
   {
    "duration": 4,
    "start_time": "2023-07-25T09:08:52.322Z"
   },
   {
    "duration": 17,
    "start_time": "2023-07-25T09:08:52.361Z"
   },
   {
    "duration": 11,
    "start_time": "2023-07-25T09:08:52.380Z"
   },
   {
    "duration": 44,
    "start_time": "2023-07-25T09:08:52.393Z"
   },
   {
    "duration": 19,
    "start_time": "2023-07-25T09:08:52.439Z"
   },
   {
    "duration": 35,
    "start_time": "2023-07-25T09:08:52.463Z"
   },
   {
    "duration": 49,
    "start_time": "2023-07-25T09:08:52.500Z"
   },
   {
    "duration": 189,
    "start_time": "2023-07-25T09:08:52.551Z"
   },
   {
    "duration": 167,
    "start_time": "2023-07-25T09:08:52.742Z"
   },
   {
    "duration": 178,
    "start_time": "2023-07-25T09:08:52.911Z"
   },
   {
    "duration": 159,
    "start_time": "2023-07-25T09:08:53.091Z"
   },
   {
    "duration": 16,
    "start_time": "2023-07-25T09:08:53.262Z"
   },
   {
    "duration": 149,
    "start_time": "2023-07-25T09:08:53.280Z"
   },
   {
    "duration": 268,
    "start_time": "2023-07-25T09:08:53.430Z"
   },
   {
    "duration": 7,
    "start_time": "2023-07-25T09:08:53.700Z"
   },
   {
    "duration": 30,
    "start_time": "2023-07-25T09:08:53.709Z"
   },
   {
    "duration": 16,
    "start_time": "2023-07-25T09:08:53.741Z"
   },
   {
    "duration": 19,
    "start_time": "2023-07-25T09:08:53.758Z"
   },
   {
    "duration": 23,
    "start_time": "2023-07-25T09:08:53.780Z"
   },
   {
    "duration": 66,
    "start_time": "2023-07-25T09:08:53.807Z"
   },
   {
    "duration": 19,
    "start_time": "2023-07-25T09:08:53.875Z"
   },
   {
    "duration": 32,
    "start_time": "2023-07-25T09:08:53.896Z"
   },
   {
    "duration": 183,
    "start_time": "2023-07-25T09:08:53.930Z"
   },
   {
    "duration": 12,
    "start_time": "2023-07-25T09:08:54.116Z"
   },
   {
    "duration": 23515,
    "start_time": "2023-07-25T09:08:54.130Z"
   },
   {
    "duration": 147,
    "start_time": "2023-07-25T09:09:17.647Z"
   },
   {
    "duration": 3632,
    "start_time": "2023-07-25T09:09:17.797Z"
   },
   {
    "duration": 253,
    "start_time": "2023-07-25T09:09:21.431Z"
   },
   {
    "duration": 386,
    "start_time": "2023-07-25T09:09:21.686Z"
   },
   {
    "duration": 161,
    "start_time": "2023-07-25T09:09:22.074Z"
   },
   {
    "duration": 280,
    "start_time": "2023-07-25T09:09:22.236Z"
   },
   {
    "duration": 356,
    "start_time": "2023-07-25T09:09:22.517Z"
   },
   {
    "duration": 12,
    "start_time": "2023-07-25T09:09:22.876Z"
   },
   {
    "duration": 126,
    "start_time": "2023-07-25T09:09:22.889Z"
   },
   {
    "duration": 180,
    "start_time": "2023-07-25T09:09:23.017Z"
   },
   {
    "duration": 348,
    "start_time": "2023-07-25T09:09:23.199Z"
   },
   {
    "duration": 424,
    "start_time": "2023-07-25T09:09:23.549Z"
   },
   {
    "duration": 458,
    "start_time": "2023-07-25T09:09:23.977Z"
   },
   {
    "duration": 75,
    "start_time": "2023-07-25T16:46:19.260Z"
   }
  ],
  "kernelspec": {
   "display_name": "Python 3 (ipykernel)",
   "language": "python",
   "name": "python3"
  },
  "language_info": {
   "codemirror_mode": {
    "name": "ipython",
    "version": 3
   },
   "file_extension": ".py",
   "mimetype": "text/x-python",
   "name": "python",
   "nbconvert_exporter": "python",
   "pygments_lexer": "ipython3",
   "version": "3.9.13"
  },
  "toc": {
   "base_numbering": 1,
   "nav_menu": {},
   "number_sections": true,
   "sideBar": true,
   "skip_h1_title": true,
   "title_cell": "Содержание",
   "title_sidebar": "Contents",
   "toc_cell": true,
   "toc_position": {
    "height": "calc(100% - 180px)",
    "left": "10px",
    "top": "150px",
    "width": "243.062px"
   },
   "toc_section_display": true,
   "toc_window_display": false
  }
 },
 "nbformat": 4,
 "nbformat_minor": 2
}
